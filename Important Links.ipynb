{
 "cells": [
  {
   "cell_type": "markdown",
   "id": "f23e0e62",
   "metadata": {},
   "source": [
    "## `Important Packages`\n",
    "## [Tensorflow Documentation](https://www.tensorflow.org/tutorials)\n",
    "\n",
    "\n",
    "## `Important Links related to Deep Learning`\n",
    "\n",
    "### [CPU vs GPU](https://www.geeksforgeeks.org/difference-between-cpu-and-gpu/)\n",
    "### [TPU vs GPU vs CPU](https://analyticsindiamag.com/tpu-vs-gpu-vs-cpu-which-hardware-should-you-choose-for-deep-learning/)\n",
    "### [insilico => Rishav sir works here](https://insilico.com/)\n",
    "### [Google Duplex](https://www.pocket-lint.com/phones/news/google/146008-what-is-google-duplex-where-is-it-available-and-how-does-it-work)\n",
    "### [Boston Dynamics Robots](https://www.youtube.com/watch?v=fn3KWM1kuAw&ab_channel=BostonDynamics)\n",
    "### [Google Tulip](https://www.youtube.com/watch?v=nsPQvZm_rgM&ab_channel=GoogleNederland)\n",
    "### [Google GO](https://www.youtube.com/watch?v=NrmMk1Myrxc)"
   ]
  },
  {
   "cell_type": "markdown",
   "id": "81068a92",
   "metadata": {},
   "source": [
    "## `Important Maths Links related to Deep Learning`\n",
    "### [Vectors](https://machinelearningmastery.com/gentle-introduction-vectors-machine-learning/)\n",
    "### [Matrix](https://www.analyticsvidhya.com/blog/2021/07/12-matrix-operations-you-should-know-while-starting-your-deep-learning-journey/)"
   ]
  },
  {
   "cell_type": "markdown",
   "id": "edbe620c",
   "metadata": {},
   "source": [
    "## `How to create attractive github profile`\n",
    "### [How to create attractive github profile](https://www.linkedin.com/posts/aniruddhakalbande_github-programmerslife-coderslife-activity-6866914480744493056-tKUn)\n",
    "\n",
    "## `Indiaan Cambridge Analytica`\n",
    "### [I-PAC](https://www.indianpac.com/)"
   ]
  },
  {
   "cell_type": "markdown",
   "id": "c634b274",
   "metadata": {},
   "source": [
    "## `END -----------------------------------------------------------`"
   ]
  }
 ],
 "metadata": {
  "kernelspec": {
   "display_name": "Python 3",
   "language": "python",
   "name": "python3"
  },
  "language_info": {
   "codemirror_mode": {
    "name": "ipython",
    "version": 3
   },
   "file_extension": ".py",
   "mimetype": "text/x-python",
   "name": "python",
   "nbconvert_exporter": "python",
   "pygments_lexer": "ipython3",
   "version": "3.8.8"
  }
 },
 "nbformat": 4,
 "nbformat_minor": 5
}
