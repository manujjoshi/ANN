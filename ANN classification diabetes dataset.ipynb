{
 "cells": [
  {
   "cell_type": "markdown",
   "id": "3d1ac6c4",
   "metadata": {},
   "source": [
    "1. Data\n",
    "2. Preprocessing\n",
    "3. Splitting\n",
    "4. Building NN\n",
    "5. Evaluate\n",
    "\n",
    "#### [Imported data from](https://archive.ics.uci.edu/ml/index.php)"
   ]
  },
  {
   "cell_type": "code",
   "execution_count": 93,
   "id": "acdb0d8f",
   "metadata": {},
   "outputs": [],
   "source": [
    "import pandas as pd\n",
    "import numpy as np\n",
    "import tensorflow as tf\n",
    "from tensorflow.keras.models import Sequential\n",
    "from tensorflow.keras.layers import Dense\n",
    "from numpy import loadtxt"
   ]
  },
  {
   "cell_type": "code",
   "execution_count": 94,
   "id": "57fe929c",
   "metadata": {},
   "outputs": [
    {
     "data": {
      "text/plain": [
       "array([[  6.   , 148.   ,  72.   , ...,   0.627,  50.   ,   1.   ],\n",
       "       [  1.   ,  85.   ,  66.   , ...,   0.351,  31.   ,   0.   ],\n",
       "       [  8.   , 183.   ,  64.   , ...,   0.672,  32.   ,   1.   ],\n",
       "       ...,\n",
       "       [  5.   , 121.   ,  72.   , ...,   0.245,  30.   ,   0.   ],\n",
       "       [  1.   , 126.   ,  60.   , ...,   0.349,  47.   ,   1.   ],\n",
       "       [  1.   ,  93.   ,  70.   , ...,   0.315,  23.   ,   0.   ]])"
      ]
     },
     "execution_count": 94,
     "metadata": {},
     "output_type": "execute_result"
    }
   ],
   "source": [
    "data = loadtxt('diabetes.txt',delimiter=',')\n",
    "data"
   ]
  },
  {
   "cell_type": "code",
   "execution_count": 95,
   "id": "6dc1d446",
   "metadata": {},
   "outputs": [
    {
     "data": {
      "text/plain": [
       "numpy.ndarray"
      ]
     },
     "execution_count": 95,
     "metadata": {},
     "output_type": "execute_result"
    }
   ],
   "source": [
    "type(data)"
   ]
  },
  {
   "cell_type": "code",
   "execution_count": 96,
   "id": "ad192fb7",
   "metadata": {},
   "outputs": [],
   "source": [
    "labeled_data = pd.DataFrame(data=data, columns=[\"Number of times pregnant\", \"Plasma glucose concentration a 2 hours in an oral glucose tolerance test\", \"Diastolic blood pressure (mm Hg)\", \"Triceps skin fold thickness (mm)\", \"2-Hour serum insulin (mu U/ml)\", \"Body mass index\", \"Diabetes pedigree function\", \"Age (years)\", \"Labled_Dataset\"])"
   ]
  },
  {
   "cell_type": "code",
   "execution_count": 97,
   "id": "ad04ca80",
   "metadata": {},
   "outputs": [
    {
     "data": {
      "text/html": [
       "<div>\n",
       "<style scoped>\n",
       "    .dataframe tbody tr th:only-of-type {\n",
       "        vertical-align: middle;\n",
       "    }\n",
       "\n",
       "    .dataframe tbody tr th {\n",
       "        vertical-align: top;\n",
       "    }\n",
       "\n",
       "    .dataframe thead th {\n",
       "        text-align: right;\n",
       "    }\n",
       "</style>\n",
       "<table border=\"1\" class=\"dataframe\">\n",
       "  <thead>\n",
       "    <tr style=\"text-align: right;\">\n",
       "      <th></th>\n",
       "      <th>Number of times pregnant</th>\n",
       "      <th>Plasma glucose concentration a 2 hours in an oral glucose tolerance test</th>\n",
       "      <th>Diastolic blood pressure (mm Hg)</th>\n",
       "      <th>Triceps skin fold thickness (mm)</th>\n",
       "      <th>2-Hour serum insulin (mu U/ml)</th>\n",
       "      <th>Body mass index</th>\n",
       "      <th>Diabetes pedigree function</th>\n",
       "      <th>Age (years)</th>\n",
       "      <th>Labled_Dataset</th>\n",
       "    </tr>\n",
       "  </thead>\n",
       "  <tbody>\n",
       "    <tr>\n",
       "      <th>0</th>\n",
       "      <td>6.0</td>\n",
       "      <td>148.0</td>\n",
       "      <td>72.0</td>\n",
       "      <td>35.0</td>\n",
       "      <td>0.0</td>\n",
       "      <td>33.6</td>\n",
       "      <td>0.627</td>\n",
       "      <td>50.0</td>\n",
       "      <td>1.0</td>\n",
       "    </tr>\n",
       "    <tr>\n",
       "      <th>1</th>\n",
       "      <td>1.0</td>\n",
       "      <td>85.0</td>\n",
       "      <td>66.0</td>\n",
       "      <td>29.0</td>\n",
       "      <td>0.0</td>\n",
       "      <td>26.6</td>\n",
       "      <td>0.351</td>\n",
       "      <td>31.0</td>\n",
       "      <td>0.0</td>\n",
       "    </tr>\n",
       "    <tr>\n",
       "      <th>2</th>\n",
       "      <td>8.0</td>\n",
       "      <td>183.0</td>\n",
       "      <td>64.0</td>\n",
       "      <td>0.0</td>\n",
       "      <td>0.0</td>\n",
       "      <td>23.3</td>\n",
       "      <td>0.672</td>\n",
       "      <td>32.0</td>\n",
       "      <td>1.0</td>\n",
       "    </tr>\n",
       "    <tr>\n",
       "      <th>3</th>\n",
       "      <td>1.0</td>\n",
       "      <td>89.0</td>\n",
       "      <td>66.0</td>\n",
       "      <td>23.0</td>\n",
       "      <td>94.0</td>\n",
       "      <td>28.1</td>\n",
       "      <td>0.167</td>\n",
       "      <td>21.0</td>\n",
       "      <td>0.0</td>\n",
       "    </tr>\n",
       "    <tr>\n",
       "      <th>4</th>\n",
       "      <td>0.0</td>\n",
       "      <td>137.0</td>\n",
       "      <td>40.0</td>\n",
       "      <td>35.0</td>\n",
       "      <td>168.0</td>\n",
       "      <td>43.1</td>\n",
       "      <td>2.288</td>\n",
       "      <td>33.0</td>\n",
       "      <td>1.0</td>\n",
       "    </tr>\n",
       "  </tbody>\n",
       "</table>\n",
       "</div>"
      ],
      "text/plain": [
       "   Number of times pregnant  \\\n",
       "0                       6.0   \n",
       "1                       1.0   \n",
       "2                       8.0   \n",
       "3                       1.0   \n",
       "4                       0.0   \n",
       "\n",
       "   Plasma glucose concentration a 2 hours in an oral glucose tolerance test  \\\n",
       "0                                              148.0                          \n",
       "1                                               85.0                          \n",
       "2                                              183.0                          \n",
       "3                                               89.0                          \n",
       "4                                              137.0                          \n",
       "\n",
       "   Diastolic blood pressure (mm Hg)  Triceps skin fold thickness (mm)  \\\n",
       "0                              72.0                              35.0   \n",
       "1                              66.0                              29.0   \n",
       "2                              64.0                               0.0   \n",
       "3                              66.0                              23.0   \n",
       "4                              40.0                              35.0   \n",
       "\n",
       "   2-Hour serum insulin (mu U/ml)  Body mass index  \\\n",
       "0                             0.0             33.6   \n",
       "1                             0.0             26.6   \n",
       "2                             0.0             23.3   \n",
       "3                            94.0             28.1   \n",
       "4                           168.0             43.1   \n",
       "\n",
       "   Diabetes pedigree function  Age (years)  Labled_Dataset  \n",
       "0                       0.627         50.0             1.0  \n",
       "1                       0.351         31.0             0.0  \n",
       "2                       0.672         32.0             1.0  \n",
       "3                       0.167         21.0             0.0  \n",
       "4                       2.288         33.0             1.0  "
      ]
     },
     "execution_count": 97,
     "metadata": {},
     "output_type": "execute_result"
    }
   ],
   "source": [
    "labeled_data.head()"
   ]
  },
  {
   "cell_type": "code",
   "execution_count": 98,
   "id": "6ec66150",
   "metadata": {},
   "outputs": [
    {
     "data": {
      "text/plain": [
       "(768, 9)"
      ]
     },
     "execution_count": 98,
     "metadata": {},
     "output_type": "execute_result"
    }
   ],
   "source": [
    "labeled_data.shape"
   ]
  },
  {
   "cell_type": "code",
   "execution_count": 99,
   "id": "6573598d",
   "metadata": {},
   "outputs": [
    {
     "data": {
      "text/plain": [
       "Number of times pregnant                                                    0\n",
       "Plasma glucose concentration a 2 hours in an oral glucose tolerance test    0\n",
       "Diastolic blood pressure (mm Hg)                                            0\n",
       "Triceps skin fold thickness (mm)                                            0\n",
       "2-Hour serum insulin (mu U/ml)                                              0\n",
       "Body mass index                                                             0\n",
       "Diabetes pedigree function                                                  0\n",
       "Age (years)                                                                 0\n",
       "Labled_Dataset                                                              0\n",
       "dtype: int64"
      ]
     },
     "execution_count": 99,
     "metadata": {},
     "output_type": "execute_result"
    }
   ],
   "source": [
    "labeled_data.isnull().sum()"
   ]
  },
  {
   "cell_type": "markdown",
   "id": "c7f3a53a",
   "metadata": {},
   "source": [
    "### Im ML you have to put lot of assumption, in DL you do not have to do it"
   ]
  },
  {
   "cell_type": "code",
   "execution_count": 100,
   "id": "5e345d36",
   "metadata": {},
   "outputs": [
    {
     "data": {
      "text/html": [
       "<div>\n",
       "<style scoped>\n",
       "    .dataframe tbody tr th:only-of-type {\n",
       "        vertical-align: middle;\n",
       "    }\n",
       "\n",
       "    .dataframe tbody tr th {\n",
       "        vertical-align: top;\n",
       "    }\n",
       "\n",
       "    .dataframe thead th {\n",
       "        text-align: right;\n",
       "    }\n",
       "</style>\n",
       "<table border=\"1\" class=\"dataframe\">\n",
       "  <thead>\n",
       "    <tr style=\"text-align: right;\">\n",
       "      <th></th>\n",
       "      <th>Number of times pregnant</th>\n",
       "      <th>Plasma glucose concentration a 2 hours in an oral glucose tolerance test</th>\n",
       "      <th>Diastolic blood pressure (mm Hg)</th>\n",
       "      <th>Triceps skin fold thickness (mm)</th>\n",
       "      <th>2-Hour serum insulin (mu U/ml)</th>\n",
       "      <th>Body mass index</th>\n",
       "      <th>Diabetes pedigree function</th>\n",
       "      <th>Age (years)</th>\n",
       "      <th>Labled_Dataset</th>\n",
       "    </tr>\n",
       "  </thead>\n",
       "  <tbody>\n",
       "    <tr>\n",
       "      <th>count</th>\n",
       "      <td>768.000000</td>\n",
       "      <td>768.000000</td>\n",
       "      <td>768.000000</td>\n",
       "      <td>768.000000</td>\n",
       "      <td>768.000000</td>\n",
       "      <td>768.000000</td>\n",
       "      <td>768.000000</td>\n",
       "      <td>768.000000</td>\n",
       "      <td>768.000000</td>\n",
       "    </tr>\n",
       "    <tr>\n",
       "      <th>mean</th>\n",
       "      <td>3.845052</td>\n",
       "      <td>120.894531</td>\n",
       "      <td>69.105469</td>\n",
       "      <td>20.536458</td>\n",
       "      <td>79.799479</td>\n",
       "      <td>31.992578</td>\n",
       "      <td>0.471876</td>\n",
       "      <td>33.240885</td>\n",
       "      <td>0.348958</td>\n",
       "    </tr>\n",
       "    <tr>\n",
       "      <th>std</th>\n",
       "      <td>3.369578</td>\n",
       "      <td>31.972618</td>\n",
       "      <td>19.355807</td>\n",
       "      <td>15.952218</td>\n",
       "      <td>115.244002</td>\n",
       "      <td>7.884160</td>\n",
       "      <td>0.331329</td>\n",
       "      <td>11.760232</td>\n",
       "      <td>0.476951</td>\n",
       "    </tr>\n",
       "    <tr>\n",
       "      <th>min</th>\n",
       "      <td>0.000000</td>\n",
       "      <td>0.000000</td>\n",
       "      <td>0.000000</td>\n",
       "      <td>0.000000</td>\n",
       "      <td>0.000000</td>\n",
       "      <td>0.000000</td>\n",
       "      <td>0.078000</td>\n",
       "      <td>21.000000</td>\n",
       "      <td>0.000000</td>\n",
       "    </tr>\n",
       "    <tr>\n",
       "      <th>25%</th>\n",
       "      <td>1.000000</td>\n",
       "      <td>99.000000</td>\n",
       "      <td>62.000000</td>\n",
       "      <td>0.000000</td>\n",
       "      <td>0.000000</td>\n",
       "      <td>27.300000</td>\n",
       "      <td>0.243750</td>\n",
       "      <td>24.000000</td>\n",
       "      <td>0.000000</td>\n",
       "    </tr>\n",
       "    <tr>\n",
       "      <th>50%</th>\n",
       "      <td>3.000000</td>\n",
       "      <td>117.000000</td>\n",
       "      <td>72.000000</td>\n",
       "      <td>23.000000</td>\n",
       "      <td>30.500000</td>\n",
       "      <td>32.000000</td>\n",
       "      <td>0.372500</td>\n",
       "      <td>29.000000</td>\n",
       "      <td>0.000000</td>\n",
       "    </tr>\n",
       "    <tr>\n",
       "      <th>75%</th>\n",
       "      <td>6.000000</td>\n",
       "      <td>140.250000</td>\n",
       "      <td>80.000000</td>\n",
       "      <td>32.000000</td>\n",
       "      <td>127.250000</td>\n",
       "      <td>36.600000</td>\n",
       "      <td>0.626250</td>\n",
       "      <td>41.000000</td>\n",
       "      <td>1.000000</td>\n",
       "    </tr>\n",
       "    <tr>\n",
       "      <th>max</th>\n",
       "      <td>17.000000</td>\n",
       "      <td>199.000000</td>\n",
       "      <td>122.000000</td>\n",
       "      <td>99.000000</td>\n",
       "      <td>846.000000</td>\n",
       "      <td>67.100000</td>\n",
       "      <td>2.420000</td>\n",
       "      <td>81.000000</td>\n",
       "      <td>1.000000</td>\n",
       "    </tr>\n",
       "  </tbody>\n",
       "</table>\n",
       "</div>"
      ],
      "text/plain": [
       "       Number of times pregnant  \\\n",
       "count                768.000000   \n",
       "mean                   3.845052   \n",
       "std                    3.369578   \n",
       "min                    0.000000   \n",
       "25%                    1.000000   \n",
       "50%                    3.000000   \n",
       "75%                    6.000000   \n",
       "max                   17.000000   \n",
       "\n",
       "       Plasma glucose concentration a 2 hours in an oral glucose tolerance test  \\\n",
       "count                                         768.000000                          \n",
       "mean                                          120.894531                          \n",
       "std                                            31.972618                          \n",
       "min                                             0.000000                          \n",
       "25%                                            99.000000                          \n",
       "50%                                           117.000000                          \n",
       "75%                                           140.250000                          \n",
       "max                                           199.000000                          \n",
       "\n",
       "       Diastolic blood pressure (mm Hg)  Triceps skin fold thickness (mm)  \\\n",
       "count                        768.000000                        768.000000   \n",
       "mean                          69.105469                         20.536458   \n",
       "std                           19.355807                         15.952218   \n",
       "min                            0.000000                          0.000000   \n",
       "25%                           62.000000                          0.000000   \n",
       "50%                           72.000000                         23.000000   \n",
       "75%                           80.000000                         32.000000   \n",
       "max                          122.000000                         99.000000   \n",
       "\n",
       "       2-Hour serum insulin (mu U/ml)  Body mass index  \\\n",
       "count                      768.000000       768.000000   \n",
       "mean                        79.799479        31.992578   \n",
       "std                        115.244002         7.884160   \n",
       "min                          0.000000         0.000000   \n",
       "25%                          0.000000        27.300000   \n",
       "50%                         30.500000        32.000000   \n",
       "75%                        127.250000        36.600000   \n",
       "max                        846.000000        67.100000   \n",
       "\n",
       "       Diabetes pedigree function  Age (years)  Labled_Dataset  \n",
       "count                  768.000000   768.000000      768.000000  \n",
       "mean                     0.471876    33.240885        0.348958  \n",
       "std                      0.331329    11.760232        0.476951  \n",
       "min                      0.078000    21.000000        0.000000  \n",
       "25%                      0.243750    24.000000        0.000000  \n",
       "50%                      0.372500    29.000000        0.000000  \n",
       "75%                      0.626250    41.000000        1.000000  \n",
       "max                      2.420000    81.000000        1.000000  "
      ]
     },
     "execution_count": 100,
     "metadata": {},
     "output_type": "execute_result"
    }
   ],
   "source": [
    "labeled_data.describe()"
   ]
  },
  {
   "cell_type": "code",
   "execution_count": 101,
   "id": "0aa87b74",
   "metadata": {},
   "outputs": [],
   "source": [
    "X = data[:,:8]\n",
    "y = data[:,8]"
   ]
  },
  {
   "cell_type": "code",
   "execution_count": 102,
   "id": "aa2d10ec",
   "metadata": {},
   "outputs": [
    {
     "data": {
      "text/plain": [
       "array([[6.000e+00, 1.480e+02, 7.200e+01, 3.500e+01, 0.000e+00, 3.360e+01,\n",
       "        6.270e-01, 5.000e+01],\n",
       "       [1.000e+00, 8.500e+01, 6.600e+01, 2.900e+01, 0.000e+00, 2.660e+01,\n",
       "        3.510e-01, 3.100e+01],\n",
       "       [8.000e+00, 1.830e+02, 6.400e+01, 0.000e+00, 0.000e+00, 2.330e+01,\n",
       "        6.720e-01, 3.200e+01],\n",
       "       [1.000e+00, 8.900e+01, 6.600e+01, 2.300e+01, 9.400e+01, 2.810e+01,\n",
       "        1.670e-01, 2.100e+01],\n",
       "       [0.000e+00, 1.370e+02, 4.000e+01, 3.500e+01, 1.680e+02, 4.310e+01,\n",
       "        2.288e+00, 3.300e+01],\n",
       "       [5.000e+00, 1.160e+02, 7.400e+01, 0.000e+00, 0.000e+00, 2.560e+01,\n",
       "        2.010e-01, 3.000e+01],\n",
       "       [3.000e+00, 7.800e+01, 5.000e+01, 3.200e+01, 8.800e+01, 3.100e+01,\n",
       "        2.480e-01, 2.600e+01],\n",
       "       [1.000e+01, 1.150e+02, 0.000e+00, 0.000e+00, 0.000e+00, 3.530e+01,\n",
       "        1.340e-01, 2.900e+01]])"
      ]
     },
     "execution_count": 102,
     "metadata": {},
     "output_type": "execute_result"
    }
   ],
   "source": [
    "X[:8]"
   ]
  },
  {
   "cell_type": "code",
   "execution_count": 103,
   "id": "b6e45e04",
   "metadata": {},
   "outputs": [
    {
     "data": {
      "text/plain": [
       "array([1., 0., 1., 0., 1., 0., 1., 0.])"
      ]
     },
     "execution_count": 103,
     "metadata": {},
     "output_type": "execute_result"
    }
   ],
   "source": [
    "y[:8]"
   ]
  },
  {
   "cell_type": "code",
   "execution_count": 104,
   "id": "5b57a09f",
   "metadata": {},
   "outputs": [
    {
     "data": {
      "text/plain": [
       "0.0    500\n",
       "1.0    268\n",
       "Name: Labled_Dataset, dtype: int64"
      ]
     },
     "execution_count": 104,
     "metadata": {},
     "output_type": "execute_result"
    }
   ],
   "source": [
    "labeled_data.Labled_Dataset.value_counts()"
   ]
  },
  {
   "cell_type": "code",
   "execution_count": 105,
   "id": "a7f3bf51",
   "metadata": {},
   "outputs": [],
   "source": [
    "model = Sequential()   # constructor which initiate your tensorflow\n",
    "model.add(Dense(24, input_dim=8, activation=tf.keras.layers.LeakyReLU(alpha=0.1)))  # input + Hidden layer 1,feature extractor \n",
    "model.add(Dense(12, activation=tf.keras.layers.LeakyReLU(alpha=0.3)))  # feature extractor, Hidden layer 2\n",
    "model.add(Dense(6, activation='LeakyReLU'))   # feature extractor, Hidden layer 3\n",
    "model.add(Dense(1, activation='sigmoid'))   # output layer\n",
    "# number of class you want to predict"
   ]
  },
  {
   "cell_type": "code",
   "execution_count": 106,
   "id": "304748ff",
   "metadata": {},
   "outputs": [
    {
     "name": "stdout",
     "output_type": "stream",
     "text": [
      "Model: \"sequential_6\"\n",
      "_________________________________________________________________\n",
      "Layer (type)                 Output Shape              Param #   \n",
      "=================================================================\n",
      "dense_12 (Dense)             (None, 24)                216       \n",
      "_________________________________________________________________\n",
      "dense_13 (Dense)             (None, 12)                300       \n",
      "_________________________________________________________________\n",
      "dense_14 (Dense)             (None, 6)                 78        \n",
      "_________________________________________________________________\n",
      "dense_15 (Dense)             (None, 1)                 7         \n",
      "=================================================================\n",
      "Total params: 601\n",
      "Trainable params: 601\n",
      "Non-trainable params: 0\n",
      "_________________________________________________________________\n"
     ]
    }
   ],
   "source": [
    "model.summary()"
   ]
  },
  {
   "cell_type": "code",
   "execution_count": 107,
   "id": "e4f75e1c",
   "metadata": {},
   "outputs": [
    {
     "name": "stdout",
     "output_type": "stream",
     "text": [
      "Epoch 1/150\n",
      "8/8 [==============================] - 2s 3ms/step - loss: 5.1903 - accuracy: 0.5378\n",
      "Epoch 2/150\n",
      "8/8 [==============================] - 0s 3ms/step - loss: 2.8894 - accuracy: 0.6484\n",
      "Epoch 3/150\n",
      "8/8 [==============================] - 0s 3ms/step - loss: 2.5294 - accuracy: 0.6562\n",
      "Epoch 4/150\n",
      "8/8 [==============================] - 0s 4ms/step - loss: 1.8404 - accuracy: 0.6341\n",
      "Epoch 5/150\n",
      "8/8 [==============================] - 0s 2ms/step - loss: 1.4884 - accuracy: 0.6289\n",
      "Epoch 6/150\n",
      "8/8 [==============================] - 0s 2ms/step - loss: 1.1707 - accuracy: 0.6406\n",
      "Epoch 7/150\n",
      "8/8 [==============================] - 0s 3ms/step - loss: 0.9990 - accuracy: 0.6536\n",
      "Epoch 8/150\n",
      "8/8 [==============================] - 0s 4ms/step - loss: 0.8571 - accuracy: 0.6589\n",
      "Epoch 9/150\n",
      "8/8 [==============================] - 0s 4ms/step - loss: 0.7811 - accuracy: 0.6680\n",
      "Epoch 10/150\n",
      "8/8 [==============================] - 0s 3ms/step - loss: 0.7163 - accuracy: 0.6680\n",
      "Epoch 11/150\n",
      "8/8 [==============================] - 0s 2ms/step - loss: 0.6849 - accuracy: 0.6927\n",
      "Epoch 12/150\n",
      "8/8 [==============================] - 0s 4ms/step - loss: 0.6681 - accuracy: 0.6719\n",
      "Epoch 13/150\n",
      "8/8 [==============================] - 0s 5ms/step - loss: 0.6549 - accuracy: 0.6888\n",
      "Epoch 14/150\n",
      "8/8 [==============================] - 0s 3ms/step - loss: 0.6379 - accuracy: 0.6836\n",
      "Epoch 15/150\n",
      "8/8 [==============================] - 0s 3ms/step - loss: 0.6336 - accuracy: 0.6979\n",
      "Epoch 16/150\n",
      "8/8 [==============================] - 0s 4ms/step - loss: 0.6326 - accuracy: 0.6758\n",
      "Epoch 17/150\n",
      "8/8 [==============================] - 0s 6ms/step - loss: 0.6211 - accuracy: 0.6875\n",
      "Epoch 18/150\n",
      "8/8 [==============================] - 0s 5ms/step - loss: 0.6110 - accuracy: 0.6927\n",
      "Epoch 19/150\n",
      "8/8 [==============================] - 0s 4ms/step - loss: 0.6058 - accuracy: 0.6888\n",
      "Epoch 20/150\n",
      "8/8 [==============================] - 0s 3ms/step - loss: 0.6042 - accuracy: 0.6849\n",
      "Epoch 21/150\n",
      "8/8 [==============================] - 0s 4ms/step - loss: 0.5956 - accuracy: 0.6940\n",
      "Epoch 22/150\n",
      "8/8 [==============================] - 0s 4ms/step - loss: 0.6009 - accuracy: 0.6836\n",
      "Epoch 23/150\n",
      "8/8 [==============================] - 0s 4ms/step - loss: 0.5937 - accuracy: 0.6992\n",
      "Epoch 24/150\n",
      "8/8 [==============================] - 0s 4ms/step - loss: 0.5900 - accuracy: 0.6979\n",
      "Epoch 25/150\n",
      "8/8 [==============================] - 0s 3ms/step - loss: 0.5983 - accuracy: 0.6888\n",
      "Epoch 26/150\n",
      "8/8 [==============================] - 0s 4ms/step - loss: 0.5815 - accuracy: 0.7201\n",
      "Epoch 27/150\n",
      "8/8 [==============================] - 0s 5ms/step - loss: 0.5776 - accuracy: 0.7109\n",
      "Epoch 28/150\n",
      "8/8 [==============================] - 0s 4ms/step - loss: 0.5723 - accuracy: 0.7161\n",
      "Epoch 29/150\n",
      "8/8 [==============================] - 0s 5ms/step - loss: 0.5701 - accuracy: 0.7161\n",
      "Epoch 30/150\n",
      "8/8 [==============================] - 0s 6ms/step - loss: 0.5731 - accuracy: 0.7096\n",
      "Epoch 31/150\n",
      "8/8 [==============================] - 0s 4ms/step - loss: 0.5701 - accuracy: 0.7083\n",
      "Epoch 32/150\n",
      "8/8 [==============================] - 0s 3ms/step - loss: 0.5660 - accuracy: 0.7135\n",
      "Epoch 33/150\n",
      "8/8 [==============================] - 0s 3ms/step - loss: 0.5617 - accuracy: 0.7148\n",
      "Epoch 34/150\n",
      "8/8 [==============================] - 0s 3ms/step - loss: 0.5629 - accuracy: 0.7227\n",
      "Epoch 35/150\n",
      "8/8 [==============================] - 0s 4ms/step - loss: 0.5590 - accuracy: 0.7096\n",
      "Epoch 36/150\n",
      "8/8 [==============================] - 0s 4ms/step - loss: 0.5631 - accuracy: 0.7122\n",
      "Epoch 37/150\n",
      "8/8 [==============================] - 0s 6ms/step - loss: 0.5571 - accuracy: 0.7174\n",
      "Epoch 38/150\n",
      "8/8 [==============================] - 0s 3ms/step - loss: 0.5533 - accuracy: 0.7240\n",
      "Epoch 39/150\n",
      "8/8 [==============================] - 0s 4ms/step - loss: 0.5545 - accuracy: 0.7135\n",
      "Epoch 40/150\n",
      "8/8 [==============================] - 0s 5ms/step - loss: 0.5555 - accuracy: 0.7201\n",
      "Epoch 41/150\n",
      "8/8 [==============================] - 0s 4ms/step - loss: 0.5575 - accuracy: 0.7227\n",
      "Epoch 42/150\n",
      "8/8 [==============================] - 0s 3ms/step - loss: 0.5540 - accuracy: 0.7148\n",
      "Epoch 43/150\n",
      "8/8 [==============================] - 0s 4ms/step - loss: 0.5487 - accuracy: 0.7214\n",
      "Epoch 44/150\n",
      "8/8 [==============================] - 0s 4ms/step - loss: 0.5471 - accuracy: 0.7305\n",
      "Epoch 45/150\n",
      "8/8 [==============================] - 0s 4ms/step - loss: 0.5518 - accuracy: 0.7266\n",
      "Epoch 46/150\n",
      "8/8 [==============================] - 0s 3ms/step - loss: 0.5569 - accuracy: 0.7240\n",
      "Epoch 47/150\n",
      "8/8 [==============================] - 0s 3ms/step - loss: 0.5533 - accuracy: 0.7279\n",
      "Epoch 48/150\n",
      "8/8 [==============================] - 0s 4ms/step - loss: 0.5506 - accuracy: 0.7227\n",
      "Epoch 49/150\n",
      "8/8 [==============================] - 0s 3ms/step - loss: 0.5572 - accuracy: 0.7253\n",
      "Epoch 50/150\n",
      "8/8 [==============================] - 0s 3ms/step - loss: 0.5430 - accuracy: 0.7318\n",
      "Epoch 51/150\n",
      "8/8 [==============================] - 0s 3ms/step - loss: 0.5466 - accuracy: 0.7331\n",
      "Epoch 52/150\n",
      "8/8 [==============================] - 0s 5ms/step - loss: 0.5376 - accuracy: 0.7240\n",
      "Epoch 53/150\n",
      "8/8 [==============================] - 0s 3ms/step - loss: 0.5456 - accuracy: 0.7279\n",
      "Epoch 54/150\n",
      "8/8 [==============================] - 0s 2ms/step - loss: 0.5380 - accuracy: 0.7292\n",
      "Epoch 55/150\n",
      "8/8 [==============================] - 0s 3ms/step - loss: 0.5406 - accuracy: 0.7461\n",
      "Epoch 56/150\n",
      "8/8 [==============================] - 0s 3ms/step - loss: 0.5376 - accuracy: 0.7318\n",
      "Epoch 57/150\n",
      "8/8 [==============================] - 0s 5ms/step - loss: 0.5338 - accuracy: 0.7240\n",
      "Epoch 58/150\n",
      "8/8 [==============================] - 0s 3ms/step - loss: 0.5336 - accuracy: 0.7344\n",
      "Epoch 59/150\n",
      "8/8 [==============================] - 0s 4ms/step - loss: 0.5338 - accuracy: 0.7383\n",
      "Epoch 60/150\n",
      "8/8 [==============================] - 0s 5ms/step - loss: 0.5373 - accuracy: 0.7266\n",
      "Epoch 61/150\n",
      "8/8 [==============================] - 0s 3ms/step - loss: 0.5390 - accuracy: 0.7331\n",
      "Epoch 62/150\n",
      "8/8 [==============================] - 0s 3ms/step - loss: 0.5408 - accuracy: 0.7240\n",
      "Epoch 63/150\n",
      "8/8 [==============================] - 0s 4ms/step - loss: 0.5349 - accuracy: 0.7318\n",
      "Epoch 64/150\n",
      "8/8 [==============================] - 0s 2ms/step - loss: 0.5367 - accuracy: 0.7383\n",
      "Epoch 65/150\n",
      "8/8 [==============================] - 0s 3ms/step - loss: 0.5490 - accuracy: 0.7122\n",
      "Epoch 66/150\n",
      "8/8 [==============================] - 0s 4ms/step - loss: 0.5351 - accuracy: 0.7305\n",
      "Epoch 67/150\n",
      "8/8 [==============================] - 0s 4ms/step - loss: 0.5280 - accuracy: 0.7474\n",
      "Epoch 68/150\n",
      "8/8 [==============================] - 0s 3ms/step - loss: 0.5322 - accuracy: 0.7305\n",
      "Epoch 69/150\n",
      "8/8 [==============================] - 0s 3ms/step - loss: 0.5293 - accuracy: 0.7279\n",
      "Epoch 70/150\n",
      "8/8 [==============================] - 0s 3ms/step - loss: 0.5374 - accuracy: 0.7318\n",
      "Epoch 71/150\n",
      "8/8 [==============================] - 0s 3ms/step - loss: 0.5418 - accuracy: 0.7279\n",
      "Epoch 72/150\n",
      "8/8 [==============================] - 0s 3ms/step - loss: 0.5377 - accuracy: 0.7305\n",
      "Epoch 73/150\n",
      "8/8 [==============================] - 0s 3ms/step - loss: 0.5320 - accuracy: 0.7292\n",
      "Epoch 74/150\n",
      "8/8 [==============================] - 0s 3ms/step - loss: 0.5267 - accuracy: 0.7422\n",
      "Epoch 75/150\n",
      "8/8 [==============================] - 0s 3ms/step - loss: 0.5242 - accuracy: 0.7357\n",
      "Epoch 76/150\n",
      "8/8 [==============================] - 0s 4ms/step - loss: 0.5227 - accuracy: 0.7344\n",
      "Epoch 77/150\n",
      "8/8 [==============================] - 0s 3ms/step - loss: 0.5233 - accuracy: 0.7435\n",
      "Epoch 78/150\n",
      "8/8 [==============================] - ETA: 0s - loss: 0.5089 - accuracy: 0.76 - 0s 4ms/step - loss: 0.5197 - accuracy: 0.7448\n",
      "Epoch 79/150\n",
      "8/8 [==============================] - 0s 4ms/step - loss: 0.5224 - accuracy: 0.7318\n",
      "Epoch 80/150\n",
      "8/8 [==============================] - 0s 4ms/step - loss: 0.5242 - accuracy: 0.7487\n",
      "Epoch 81/150\n",
      "8/8 [==============================] - 0s 3ms/step - loss: 0.5387 - accuracy: 0.7448\n",
      "Epoch 82/150\n",
      "8/8 [==============================] - 0s 4ms/step - loss: 0.5249 - accuracy: 0.7435\n",
      "Epoch 83/150\n",
      "8/8 [==============================] - 0s 3ms/step - loss: 0.5269 - accuracy: 0.7292\n",
      "Epoch 84/150\n"
     ]
    },
    {
     "name": "stdout",
     "output_type": "stream",
     "text": [
      "8/8 [==============================] - 0s 4ms/step - loss: 0.5148 - accuracy: 0.7526\n",
      "Epoch 85/150\n",
      "8/8 [==============================] - ETA: 0s - loss: 0.5178 - accuracy: 0.77 - 0s 4ms/step - loss: 0.5203 - accuracy: 0.7461\n",
      "Epoch 86/150\n",
      "8/8 [==============================] - 0s 6ms/step - loss: 0.5725 - accuracy: 0.7214\n",
      "Epoch 87/150\n",
      "8/8 [==============================] - 0s 3ms/step - loss: 0.5341 - accuracy: 0.7266\n",
      "Epoch 88/150\n",
      "8/8 [==============================] - 0s 3ms/step - loss: 0.5363 - accuracy: 0.7174\n",
      "Epoch 89/150\n",
      "8/8 [==============================] - 0s 4ms/step - loss: 0.5295 - accuracy: 0.7292\n",
      "Epoch 90/150\n",
      "8/8 [==============================] - 0s 4ms/step - loss: 0.5142 - accuracy: 0.7539\n",
      "Epoch 91/150\n",
      "8/8 [==============================] - 0s 3ms/step - loss: 0.5127 - accuracy: 0.7487\n",
      "Epoch 92/150\n",
      "8/8 [==============================] - 0s 4ms/step - loss: 0.5151 - accuracy: 0.7461\n",
      "Epoch 93/150\n",
      "8/8 [==============================] - 0s 3ms/step - loss: 0.5377 - accuracy: 0.7357\n",
      "Epoch 94/150\n",
      "8/8 [==============================] - 0s 4ms/step - loss: 0.5437 - accuracy: 0.7305\n",
      "Epoch 95/150\n",
      "8/8 [==============================] - 0s 3ms/step - loss: 0.5163 - accuracy: 0.7461\n",
      "Epoch 96/150\n",
      "8/8 [==============================] - 0s 3ms/step - loss: 0.5240 - accuracy: 0.7409\n",
      "Epoch 97/150\n",
      "8/8 [==============================] - 0s 3ms/step - loss: 0.5132 - accuracy: 0.7461\n",
      "Epoch 98/150\n",
      "8/8 [==============================] - 0s 4ms/step - loss: 0.5093 - accuracy: 0.7526\n",
      "Epoch 99/150\n",
      "8/8 [==============================] - 0s 4ms/step - loss: 0.5074 - accuracy: 0.7500\n",
      "Epoch 100/150\n",
      "8/8 [==============================] - 0s 3ms/step - loss: 0.5243 - accuracy: 0.7305\n",
      "Epoch 101/150\n",
      "8/8 [==============================] - 0s 3ms/step - loss: 0.5107 - accuracy: 0.7448\n",
      "Epoch 102/150\n",
      "8/8 [==============================] - 0s 4ms/step - loss: 0.5122 - accuracy: 0.7526\n",
      "Epoch 103/150\n",
      "8/8 [==============================] - 0s 2ms/step - loss: 0.5085 - accuracy: 0.7539\n",
      "Epoch 104/150\n",
      "8/8 [==============================] - 0s 3ms/step - loss: 0.5074 - accuracy: 0.7604\n",
      "Epoch 105/150\n",
      "8/8 [==============================] - 0s 2ms/step - loss: 0.5204 - accuracy: 0.7396\n",
      "Epoch 106/150\n",
      "8/8 [==============================] - 0s 2ms/step - loss: 0.5105 - accuracy: 0.7474\n",
      "Epoch 107/150\n",
      "8/8 [==============================] - 0s 4ms/step - loss: 0.5092 - accuracy: 0.7565\n",
      "Epoch 108/150\n",
      "8/8 [==============================] - 0s 2ms/step - loss: 0.5118 - accuracy: 0.7474\n",
      "Epoch 109/150\n",
      "8/8 [==============================] - 0s 3ms/step - loss: 0.5164 - accuracy: 0.7448\n",
      "Epoch 110/150\n",
      "8/8 [==============================] - 0s 3ms/step - loss: 0.5056 - accuracy: 0.7539\n",
      "Epoch 111/150\n",
      "8/8 [==============================] - 0s 3ms/step - loss: 0.5147 - accuracy: 0.7461\n",
      "Epoch 112/150\n",
      "8/8 [==============================] - 0s 4ms/step - loss: 0.5221 - accuracy: 0.7474\n",
      "Epoch 113/150\n",
      "8/8 [==============================] - 0s 3ms/step - loss: 0.5185 - accuracy: 0.7370\n",
      "Epoch 114/150\n",
      "8/8 [==============================] - 0s 2ms/step - loss: 0.5056 - accuracy: 0.7565\n",
      "Epoch 115/150\n",
      "8/8 [==============================] - 0s 3ms/step - loss: 0.5078 - accuracy: 0.7526\n",
      "Epoch 116/150\n",
      "8/8 [==============================] - 0s 3ms/step - loss: 0.5037 - accuracy: 0.7578\n",
      "Epoch 117/150\n",
      "8/8 [==============================] - 0s 4ms/step - loss: 0.4985 - accuracy: 0.7565\n",
      "Epoch 118/150\n",
      "8/8 [==============================] - 0s 2ms/step - loss: 0.5007 - accuracy: 0.7513\n",
      "Epoch 119/150\n",
      "8/8 [==============================] - 0s 3ms/step - loss: 0.5171 - accuracy: 0.7474\n",
      "Epoch 120/150\n",
      "8/8 [==============================] - 0s 2ms/step - loss: 0.5226 - accuracy: 0.7357\n",
      "Epoch 121/150\n",
      "8/8 [==============================] - 0s 3ms/step - loss: 0.5207 - accuracy: 0.7500\n",
      "Epoch 122/150\n",
      "8/8 [==============================] - 0s 3ms/step - loss: 0.5154 - accuracy: 0.7578\n",
      "Epoch 123/150\n",
      "8/8 [==============================] - 0s 3ms/step - loss: 0.5073 - accuracy: 0.7396\n",
      "Epoch 124/150\n",
      "8/8 [==============================] - 0s 3ms/step - loss: 0.5002 - accuracy: 0.7682\n",
      "Epoch 125/150\n",
      "8/8 [==============================] - 0s 3ms/step - loss: 0.5080 - accuracy: 0.7578\n",
      "Epoch 126/150\n",
      "8/8 [==============================] - 0s 2ms/step - loss: 0.5100 - accuracy: 0.7682\n",
      "Epoch 127/150\n",
      "8/8 [==============================] - 0s 4ms/step - loss: 0.5010 - accuracy: 0.7604\n",
      "Epoch 128/150\n",
      "8/8 [==============================] - 0s 3ms/step - loss: 0.4975 - accuracy: 0.7539\n",
      "Epoch 129/150\n",
      "8/8 [==============================] - 0s 2ms/step - loss: 0.5001 - accuracy: 0.7526\n",
      "Epoch 130/150\n",
      "8/8 [==============================] - 0s 3ms/step - loss: 0.5094 - accuracy: 0.7552\n",
      "Epoch 131/150\n",
      "8/8 [==============================] - 0s 3ms/step - loss: 0.5276 - accuracy: 0.7279\n",
      "Epoch 132/150\n",
      "8/8 [==============================] - 0s 2ms/step - loss: 0.4902 - accuracy: 0.7708\n",
      "Epoch 133/150\n",
      "8/8 [==============================] - 0s 3ms/step - loss: 0.4990 - accuracy: 0.7578\n",
      "Epoch 134/150\n",
      "8/8 [==============================] - 0s 2ms/step - loss: 0.4956 - accuracy: 0.7578\n",
      "Epoch 135/150\n",
      "8/8 [==============================] - 0s 3ms/step - loss: 0.5065 - accuracy: 0.7487\n",
      "Epoch 136/150\n",
      "8/8 [==============================] - 0s 3ms/step - loss: 0.5066 - accuracy: 0.7643\n",
      "Epoch 137/150\n",
      "8/8 [==============================] - 0s 5ms/step - loss: 0.4895 - accuracy: 0.7630\n",
      "Epoch 138/150\n",
      "8/8 [==============================] - 0s 3ms/step - loss: 0.4915 - accuracy: 0.7669\n",
      "Epoch 139/150\n",
      "8/8 [==============================] - 0s 3ms/step - loss: 0.4934 - accuracy: 0.7578\n",
      "Epoch 140/150\n",
      "8/8 [==============================] - 0s 4ms/step - loss: 0.5002 - accuracy: 0.7604\n",
      "Epoch 141/150\n",
      "8/8 [==============================] - 0s 2ms/step - loss: 0.5024 - accuracy: 0.7604\n",
      "Epoch 142/150\n",
      "8/8 [==============================] - 0s 3ms/step - loss: 0.4940 - accuracy: 0.7695\n",
      "Epoch 143/150\n",
      "8/8 [==============================] - 0s 3ms/step - loss: 0.4948 - accuracy: 0.7513\n",
      "Epoch 144/150\n",
      "8/8 [==============================] - 0s 3ms/step - loss: 0.4897 - accuracy: 0.7747\n",
      "Epoch 145/150\n",
      "8/8 [==============================] - 0s 5ms/step - loss: 0.4877 - accuracy: 0.7734\n",
      "Epoch 146/150\n",
      "8/8 [==============================] - 0s 4ms/step - loss: 0.4867 - accuracy: 0.7708\n",
      "Epoch 147/150\n",
      "8/8 [==============================] - 0s 4ms/step - loss: 0.4960 - accuracy: 0.7695\n",
      "Epoch 148/150\n",
      "8/8 [==============================] - 0s 4ms/step - loss: 0.4991 - accuracy: 0.7630\n",
      "Epoch 149/150\n",
      "8/8 [==============================] - 0s 3ms/step - loss: 0.5286 - accuracy: 0.7292\n",
      "Epoch 150/150\n",
      "8/8 [==============================] - 0s 3ms/step - loss: 0.5018 - accuracy: 0.7604\n"
     ]
    },
    {
     "data": {
      "text/plain": [
       "<tensorflow.python.keras.callbacks.History at 0x1de508c5040>"
      ]
     },
     "execution_count": 107,
     "metadata": {},
     "output_type": "execute_result"
    }
   ],
   "source": [
    "model.compile(loss='binary_crossentropy',optimizer='adam',metrics=['accuracy'])\n",
    "model.fit(X,y,epochs=150,batch_size=100)"
   ]
  },
  {
   "cell_type": "code",
   "execution_count": 108,
   "id": "7ecc624c",
   "metadata": {},
   "outputs": [
    {
     "name": "stdout",
     "output_type": "stream",
     "text": [
      "24/24 [==============================] - 0s 3ms/step - loss: 0.4915 - accuracy: 0.7578\n"
     ]
    }
   ],
   "source": [
    "loss_function,accuracy = model.evaluate(X,y)"
   ]
  },
  {
   "cell_type": "code",
   "execution_count": 109,
   "id": "f6b92af7",
   "metadata": {},
   "outputs": [],
   "source": [
    "y_pred = model.predict(X)"
   ]
  },
  {
   "cell_type": "code",
   "execution_count": 110,
   "id": "810914bc",
   "metadata": {},
   "outputs": [
    {
     "data": {
      "text/plain": [
       "array([[0.6881431 ],\n",
       "       [0.22884163],\n",
       "       [0.87475014],\n",
       "       [0.18261987],\n",
       "       [0.81016093]], dtype=float32)"
      ]
     },
     "execution_count": 110,
     "metadata": {},
     "output_type": "execute_result"
    }
   ],
   "source": [
    "y_pred[:5]"
   ]
  },
  {
   "cell_type": "markdown",
   "id": "75a97623",
   "metadata": {},
   "source": [
    "### NN gives the result in array, takes the  results the array"
   ]
  },
  {
   "cell_type": "code",
   "execution_count": 111,
   "id": "bbf792bd",
   "metadata": {},
   "outputs": [],
   "source": [
    "rounded = [round(x[0]) for x in y_pred]"
   ]
  },
  {
   "cell_type": "code",
   "execution_count": 112,
   "id": "69f81d07",
   "metadata": {},
   "outputs": [
    {
     "name": "stdout",
     "output_type": "stream",
     "text": [
      "[1, 0, 1, 0, 1, 0, 0, 1, 1, 0, 0, 1, 1, 1, 1, 0, 0, 0, 1, 0, 0, 0, 1, 0, 1, 1, 1, 0, 0, 0, 0, 1, 0, 0, 1, 1, 1, 0, 0, 1, 0, 0, 0, 1, 1, 1, 1, 0, 1, 0, 0, 0, 0, 1, 1, 0, 1, 0, 1, 0, 0, 1, 0, 1, 1, 0, 0, 0, 0, 0, 0, 1, 1, 0, 0, 0, 0, 0, 1, 0, 1, 0, 0, 0, 0, 0, 0, 0, 1, 0, 0, 0, 0, 0, 0, 1, 0, 0, 0, 0, 1, 1, 0, 0, 0, 0, 0, 1, 0, 0, 1, 1, 0, 0, 1, 1, 1, 1, 0, 0, 1, 1, 0, 0, 0, 1, 0, 0, 0, 0, 1, 1, 1, 0, 0, 1, 0, 0, 0, 0, 0, 0, 0, 1, 1, 0, 0, 0, 1, 0, 1, 1, 1, 1, 1, 1, 0, 0, 0, 1, 0, 0, 0, 0, 0, 0, 1, 0, 0, 0, 0, 0, 1, 0, 0, 1, 0, 0, 1, 0, 0, 0, 0, 0, 1, 1, 1, 0, 0, 0, 0, 0, 1, 1, 0, 1, 0, 0, 0, 1, 0, 0, 0, 0, 1, 0, 1, 0, 0, 1, 0, 1, 1, 0, 0, 1, 1, 1, 0, 1, 1, 1, 0, 1, 0, 0, 0, 1, 1, 0, 0, 1, 0, 0, 0, 1, 1, 1, 1, 0, 0, 0, 1, 1, 1, 1, 1, 0, 1, 0, 0, 0, 0, 0, 1, 0, 1, 0, 1, 1, 1, 1, 0, 1, 1, 0, 1, 1, 0, 1, 0, 0, 0, 0, 0, 0, 1, 0, 0, 0, 1, 1, 0, 1, 0, 1, 1, 0, 0, 0, 0, 0, 0, 1, 0, 1, 1, 0, 0, 0, 1, 1, 0, 0, 0, 0, 1, 0, 0, 0, 0, 0, 0, 0, 0, 0, 0, 1, 0, 1, 1, 0, 0, 0, 0, 0, 0, 1, 0, 0, 1, 0, 1, 0, 0, 1, 0, 0, 1, 1, 0, 0, 0, 0, 0, 0, 0, 1, 0, 1, 0, 0, 0, 0, 0, 1, 1, 1, 0, 1, 1, 1, 0, 0, 1, 0, 0, 0, 0, 0, 1, 0, 0, 0, 1, 1, 0, 0, 1, 0, 0, 0, 0, 0, 0, 0, 0, 0, 1, 0, 0, 1, 0, 0, 1, 1, 1, 1, 0, 1, 0, 0, 0, 0, 1, 1, 1, 0, 1, 1, 0, 0, 0, 0, 1, 1, 0, 0, 0, 1, 0, 0, 0, 0, 1, 1, 0, 1, 0, 0, 0, 0, 0, 0, 0, 1, 1, 1, 0, 0, 0, 0, 0, 1, 0, 1, 0, 0, 0, 0, 0, 0, 0, 0, 0, 1, 0, 0, 1, 0, 0, 0, 0, 0, 0, 0, 0, 0, 0, 1, 0, 1, 0, 1, 0, 0, 0, 0, 0, 0, 1, 0, 0, 0, 1, 1, 1, 1, 0, 1, 0, 0, 0, 1, 0, 0, 0, 0, 1, 1, 0, 0, 1, 0, 0, 0, 0, 0, 0, 0, 0, 0, 0, 0, 0, 0, 1, 0, 0, 1, 0, 0, 0, 1, 1, 0, 0, 0, 0, 0, 0, 0, 0, 0, 0, 1, 0, 0, 0, 0, 1, 0, 0, 0, 0, 1, 1, 0, 0, 0, 0, 0, 0, 0, 0, 1, 0, 0, 1, 0, 1, 1, 0, 0, 0, 0, 0, 1, 1, 0, 0, 0, 0, 0, 0, 0, 1, 0, 1, 1, 1, 0, 0, 0, 1, 0, 1, 0, 1, 0, 0, 0, 0, 0, 1, 0, 0, 0, 1, 1, 0, 0, 0, 1, 1, 1, 1, 0, 0, 0, 0, 1, 1, 0, 1, 0, 0, 0, 0, 1, 0, 0, 1, 0, 0, 0, 0, 0, 1, 0, 1, 0, 0, 0, 1, 1, 0, 0, 0, 0, 0, 0, 1, 0, 0, 1, 1, 1, 1, 0, 0, 0, 0, 1, 0, 1, 0, 1, 0, 0, 1, 1, 1, 1, 1, 0, 0, 1, 1, 0, 1, 0, 0, 0, 0, 1, 1, 0, 1, 0, 0, 1, 0, 0, 0, 0, 0, 0, 0, 1, 0, 1, 0, 1, 0, 1, 0, 0, 0, 0, 0, 0, 1, 0, 0, 0, 1, 1, 1, 0, 1, 0, 1, 1, 0, 1, 1, 0, 1, 0, 0, 0, 1, 0, 0, 0, 0, 0, 0, 0, 0, 0, 1, 0, 0, 0, 0, 0, 0, 0, 1, 1, 0, 1, 1, 0, 0, 0, 1, 1, 1, 0, 0, 1, 1, 0, 0, 1, 0, 1, 0, 1, 1, 1, 0, 0, 1, 0]\n"
     ]
    }
   ],
   "source": [
    "print(rounded)"
   ]
  },
  {
   "cell_type": "markdown",
   "id": "dbec32b6",
   "metadata": {},
   "source": [
    "## `Adam`"
   ]
  },
  {
   "cell_type": "markdown",
   "id": "619615a7",
   "metadata": {},
   "source": [
    "- Adam optimizitation is a technique in which you take exponential weighted average of your GD.\n",
    "- You reach global minima faster with the help of Adam.\n",
    "- Adam = Adagrad + RMSprop"
   ]
  },
  {
   "cell_type": "markdown",
   "id": "ab07afd8",
   "metadata": {},
   "source": [
    "## `END ------------------------------------------`"
   ]
  }
 ],
 "metadata": {
  "kernelspec": {
   "display_name": "Python 3",
   "language": "python",
   "name": "python3"
  },
  "language_info": {
   "codemirror_mode": {
    "name": "ipython",
    "version": 3
   },
   "file_extension": ".py",
   "mimetype": "text/x-python",
   "name": "python",
   "nbconvert_exporter": "python",
   "pygments_lexer": "ipython3",
   "version": "3.8.8"
  }
 },
 "nbformat": 4,
 "nbformat_minor": 5
}
