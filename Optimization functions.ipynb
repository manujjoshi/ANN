{
 "cells": [
  {
   "cell_type": "markdown",
   "id": "53b53ea0",
   "metadata": {},
   "source": [
    "# `Optimization functions --------------------------`\n",
    "\n",
    "- **Gradient Descent** => W_new = W_old - n * (d_loss/d_weight)\n",
    "- **Learning rate** => at what rate model is learning, how fast you are reaching global minima\n",
    "- **n** = learning_rate + momentum\n",
    "- **Exponential weighted average**:  beta * a1 + (1-beta) * a2\n",
    "- a1 = specifies different instance of LR \n",
    "- a2 = specifies different instance of momentum\n",
    "\n",
    "## `Gradient Descent Optimizers`:\n",
    "### 1. Adagrad Optimizer/Adagrad GD: \n",
    "- Learning rate is not fixed, change based upon loss\n",
    "- **Formula**: **learning_rate** = intial_learning_rate / root(alpha_t + e)\n",
    "- **alpha_t** = sum(d_loss/d_weights) ** 2\n",
    "- **e (error)** = some constant value\n",
    "- **W_new = W_old - learning_rate * d_L/d_w**\n",
    "- For every epochs, learning rate is updated\n",
    "- changing with respect to loss\n",
    "\n",
    "### 2. RMSProp Optimizer:\n",
    "- **W_new = W_old - learning_rate * d_L/d_w**\n",
    "- **learning_rate = initial_learning_rate / (Sd_weight + error)**\n",
    "- **Sd_weight = beta * Sd_old_weight + (1-beta) * (d_L/d_w) ** 2**\n",
    "- **beta * Sd_old_weight = previous weight**\n",
    "- **(1-beta) * d_L/d_w = current weight**\n",
    "\n",
    "### 3. Adam => Adagrad + RMSProp *****:\n",
    "- **W_new = W_old = learning_rate * momentum/(Sd_weight + error)**\n",
    "- **momentum = bata * old_momentum + (1-beta) * d_l/d_w**\n",
    "- both features are present of adagrad + rmsprop\n",
    "\n",
    "\n",
    "### [Regression by NN](http://localhost:8888/notebooks/DL_Concepts/ANN/Codes/Code/Regression_Neurons.ipynb)"
   ]
  },
  {
   "cell_type": "code",
   "execution_count": null,
   "id": "5a156654",
   "metadata": {},
   "outputs": [],
   "source": []
  }
 ],
 "metadata": {
  "kernelspec": {
   "display_name": "Python 3 (ipykernel)",
   "language": "python",
   "name": "python3"
  },
  "language_info": {
   "codemirror_mode": {
    "name": "ipython",
    "version": 3
   },
   "file_extension": ".py",
   "mimetype": "text/x-python",
   "name": "python",
   "nbconvert_exporter": "python",
   "pygments_lexer": "ipython3",
   "version": "3.9.7"
  }
 },
 "nbformat": 4,
 "nbformat_minor": 5
}
