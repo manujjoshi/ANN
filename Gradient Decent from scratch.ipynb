{
 "cells": [
  {
   "cell_type": "markdown",
   "id": "fb26d398",
   "metadata": {},
   "source": [
    "## `Gradient Decent from scratch`"
   ]
  },
  {
   "cell_type": "code",
   "execution_count": 1,
   "id": "1dd76d39",
   "metadata": {},
   "outputs": [],
   "source": [
    "import numpy as np\n",
    "import math"
   ]
  },
  {
   "cell_type": "code",
   "execution_count": 2,
   "id": "15dd5788",
   "metadata": {},
   "outputs": [],
   "source": [
    "def sigmoid(x):\n",
    "    return (1/(1+math.exp(-x)))"
   ]
  },
  {
   "cell_type": "code",
   "execution_count": 3,
   "id": "7a0506ed",
   "metadata": {},
   "outputs": [
    {
     "data": {
      "text/plain": [
       "array(0.88079708)"
      ]
     },
     "execution_count": 3,
     "metadata": {},
     "output_type": "execute_result"
    }
   ],
   "source": [
    "sigma = np.vectorize(sigmoid)\n",
    "sigma(2)"
   ]
  },
  {
   "cell_type": "code",
   "execution_count": 4,
   "id": "96830d9c",
   "metadata": {},
   "outputs": [
    {
     "data": {
      "text/plain": [
       "0.9820137900379085"
      ]
     },
     "execution_count": 4,
     "metadata": {},
     "output_type": "execute_result"
    }
   ],
   "source": [
    "sigmoid(4)"
   ]
  },
  {
   "cell_type": "code",
   "execution_count": 5,
   "id": "b9594f4d",
   "metadata": {},
   "outputs": [
    {
     "data": {
      "text/plain": [
       "0.8807970779778823"
      ]
     },
     "execution_count": 5,
     "metadata": {},
     "output_type": "execute_result"
    }
   ],
   "source": [
    "sigmoid(2)"
   ]
  },
  {
   "cell_type": "code",
   "execution_count": 6,
   "id": "4d7243ed",
   "metadata": {},
   "outputs": [
    {
     "data": {
      "text/plain": [
       "0.11920292202211755"
      ]
     },
     "execution_count": 6,
     "metadata": {},
     "output_type": "execute_result"
    }
   ],
   "source": [
    "sigmoid(-2)"
   ]
  },
  {
   "cell_type": "code",
   "execution_count": 11,
   "id": "e0b3d0a8",
   "metadata": {},
   "outputs": [],
   "source": [
    "import seaborn as sns\n",
    "import matplotlib.pyplot as plt"
   ]
  },
  {
   "cell_type": "code",
   "execution_count": 31,
   "id": "b9bb279f",
   "metadata": {},
   "outputs": [],
   "source": [
    "def Gradient_descent(x,y):  # x => feature, y => target\n",
    "    w_curr = b_curr = 0\n",
    "    costs = []\n",
    "    weights = []\n",
    "    iteration = []\n",
    "    iter = 20\n",
    "    n = len(x)\n",
    "    learning_rate = 0.01\n",
    "    for i in range(iter):\n",
    "        y_pred = sigma(w_curr * x + b_curr)  # single neuron\n",
    "        \n",
    "        # loss function is for the particular node\n",
    "        # cost function is for entire neural network\n",
    "        cost = (1/n) * sum([val**2 for val in (y-y_pred)])\n",
    "        costs.append(cost)\n",
    "        iteration.append(i)\n",
    "        # n is number of features in x\n",
    "        adj_w = -(2/n) * sum(x*(y-y_pred)) \n",
    "        adj_b = -(2/n) * sum(y-y_pred)\n",
    "        w_curr = w_curr - learning_rate * adj_w\n",
    "        b_curr = b_curr - learning_rate * adj_b\n",
    "        weights.append(w_curr)\n",
    "        print('Epochs Step: ',i,'weights: ',w_curr,'Bias: ',b_curr,'cost function: ',cost)\n",
    "    plt.figure(figsize=(20,10))\n",
    "    sns.lineplot(x=weights,y=costs)\n",
    "    #sns.lineplot(x=iteration,y=costs)\n"
   ]
  },
  {
   "cell_type": "code",
   "execution_count": 32,
   "id": "ca8c2e6f",
   "metadata": {},
   "outputs": [],
   "source": [
    "x = np.array([1,2,3,4,5])\n",
    "y = np.array([6,7,8,9,10])"
   ]
  },
  {
   "cell_type": "markdown",
   "id": "06d811aa",
   "metadata": {},
   "source": [
    "### `Classic example of Vanishing gradient `\n",
    "### `Here bias is increasing, which is not good`"
   ]
  },
  {
   "cell_type": "code",
   "execution_count": 33,
   "id": "8008c168",
   "metadata": {},
   "outputs": [
    {
     "name": "stdout",
     "output_type": "stream",
     "text": [
      "Epochs Step:  0 weights:  0.49 Bias:  0.15 cost function:  58.25\n",
      "Epochs Step:  1 weights:  0.9584295604821629 Bias:  0.29372751839037936 cost function:  53.378478283375344\n",
      "Epochs Step:  2 weights:  1.4209702807081765 Bias:  0.43526149000211234 cost function:  51.87988247521669\n",
      "Epochs Step:  3 weights:  1.881955850170283 Bias:  0.5759945328300912 cost function:  51.39570855764342\n",
      "Epochs Step:  4 weights:  2.342403783129743 Bias:  0.7163707688231353 cost function:  51.196565375697844\n",
      "Epochs Step:  5 weights:  2.802625018305086 Bias:  0.8565700094230055 cost function:  51.10222595718122\n",
      "Epochs Step:  6 weights:  3.2627391566409107 Bias:  0.9966770773837672 cost function:  51.05436757495434\n",
      "Epochs Step:  7 weights:  3.7227994784656375 Bias:  1.1367350608408882 cost function:  51.029264453241275\n",
      "Epochs Step:  8 weights:  4.182831811142316 Bias:  1.2767666065267123 cost function:  51.01586338986911\n",
      "Epochs Step:  9 weights:  4.6428492914940716 Bias:  1.416783819127572 cost function:  51.00863666719218\n",
      "Epochs Step:  10 weights:  5.102858793302182 Bias:  1.5567932292235938 cost function:  51.004715304930144\n",
      "Epochs Step:  11 weights:  5.562863976012154 Bias:  1.6967983803864497 cost function:  51.00257906380717\n",
      "Epochs Step:  12 weights:  6.022866809135781 Bias:  1.8368012026296416 cost function:  51.0014123084409\n",
      "Epochs Step:  13 weights:  6.482868360056663 Bias:  1.9768027497916456 cost function:  51.00077398666642\n",
      "Epochs Step:  14 weights:  6.9428692098420335 Bias:  2.116803598277066 cost function:  51.000424381676844\n",
      "Epochs Step:  15 weights:  7.402869675731311 Bias:  2.2568040637164777 cost function:  51.00023276739513\n",
      "Epochs Step:  16 weights:  7.86286993124777 Bias:  2.3968043190771895 cost function:  51.00012769674484\n",
      "Epochs Step:  17 weights:  8.322870071419088 Bias:  2.5368044591945704 cost function:  51.000070064329314\n",
      "Epochs Step:  18 weights:  8.782870148326097 Bias:  2.6768045360829 cost function:  51.00003844610669\n",
      "Epochs Step:  19 weights:  9.242870190526357 Bias:  2.8168045782766895 cost function:  51.000021097564016\n"
     ]
    },
    {
     "data": {
      "image/png": "[encoded data removed]",
      "text/plain": [
       "<Figure size 1440x720 with 1 Axes>"
      ]
     },
     "metadata": {
      "needs_background": "light"
     },
     "output_type": "display_data"
    }
   ],
   "source": [
    "Gradient_descent(x,y)"
   ]
  },
  {
   "cell_type": "markdown",
   "id": "edb851a0",
   "metadata": {},
   "source": [
    "# `END -----------------------------------------`"
   ]
  }
 ],
 "metadata": {
  "kernelspec": {
   "display_name": "Python 3 (ipykernel)",
   "language": "python",
   "name": "python3"
  },
  "language_info": {
   "codemirror_mode": {
    "name": "ipython",
    "version": 3
   },
   "file_extension": ".py",
   "mimetype": "text/x-python",
   "name": "python",
   "nbconvert_exporter": "python",
   "pygments_lexer": "ipython3",
   "version": "3.9.7"
  }
 },
 "nbformat": 4,
 "nbformat_minor": 5
}
