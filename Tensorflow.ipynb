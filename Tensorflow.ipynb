{
 "cells": [
  {
   "cell_type": "markdown",
   "metadata": {},
   "source": [
    "# `Tensorflow`\n",
    "- CPU process in series, GPU process parallely"
   ]
  },
  {
   "cell_type": "code",
   "execution_count": 3,
   "metadata": {
    "id": "AdkiSaeny5Tv"
   },
   "outputs": [],
   "source": [
    "# !pip install --user tensorflow\n",
    "# !pip install --user numpy "
   ]
  },
  {
   "cell_type": "code",
   "execution_count": 1,
   "metadata": {
    "executionInfo": {
     "elapsed": 3610,
     "status": "ok",
     "timestamp": 1638241710723,
     "user": {
      "displayName": "Rishav Das",
      "photoUrl": "https://lh3.googleusercontent.com/a-/AOh14GhkdaCMvA2ffaGPZMfcs0EkFFXTsKiwTyLisksJPto=s64",
      "userId": "09499082006741547774"
     },
     "user_tz": -330
    },
    "id": "X0-NYVEDzUUO"
   },
   "outputs": [],
   "source": [
    "import tensorflow as tf\n",
    "import numpy as np\n",
    "import scipy as sc\n",
    "import math"
   ]
  },
  {
   "cell_type": "code",
   "execution_count": 4,
   "metadata": {
    "colab": {
     "base_uri": "https://localhost:8080/"
    },
    "executionInfo": {
     "elapsed": 476,
     "status": "ok",
     "timestamp": 1638242257685,
     "user": {
      "displayName": "Rishav Das",
      "photoUrl": "https://lh3.googleusercontent.com/a-/AOh14GhkdaCMvA2ffaGPZMfcs0EkFFXTsKiwTyLisksJPto=s64",
      "userId": "09499082006741547774"
     },
     "user_tz": -330
    },
    "id": "LncPOZ00zUXB",
    "outputId": "b1258391-b518-416b-ccfc-81dd4a3ebe92"
   },
   "outputs": [
    {
     "name": "stdout",
     "output_type": "stream",
     "text": [
      "<tf.Variable 'Variable:0' shape=() dtype=string, numpy=b'Innomatics Research Labs'> <tf.Variable 'Variable:0' shape=() dtype=int32, numpy=34> <tf.Variable 'Variable:0' shape=() dtype=float32, numpy=3.4>\n"
     ]
    }
   ],
   "source": [
    "string_val = tf.Variable('Innomatics Research Labs', tf.string)\n",
    "int_val = tf.Variable(34, tf.int32)\n",
    "float_val = tf.Variable(3.4, tf.float32)\n",
    "print(string_val, int_val, float_val)"
   ]
  },
  {
   "cell_type": "code",
   "execution_count": 5,
   "metadata": {
    "colab": {
     "base_uri": "https://localhost:8080/"
    },
    "executionInfo": {
     "elapsed": 496,
     "status": "ok",
     "timestamp": 1638242527331,
     "user": {
      "displayName": "Rishav Das",
      "photoUrl": "https://lh3.googleusercontent.com/a-/AOh14GhkdaCMvA2ffaGPZMfcs0EkFFXTsKiwTyLisksJPto=s64",
      "userId": "09499082006741547774"
     },
     "user_tz": -330
    },
    "id": "DiY2rkOczUZg",
    "outputId": "ffec2c41-12a0-4c48-a75c-c009be2f445d"
   },
   "outputs": [
    {
     "name": "stdout",
     "output_type": "stream",
     "text": [
      "<tf.Variable 'Variable:0' shape=() dtype=string, numpy=b'Innomatics Research Labs'>\n"
     ]
    }
   ],
   "source": [
    "print(string_val)"
   ]
  },
  {
   "cell_type": "code",
   "execution_count": 6,
   "metadata": {
    "colab": {
     "base_uri": "https://localhost:8080/"
    },
    "executionInfo": {
     "elapsed": 455,
     "status": "ok",
     "timestamp": 1638242623424,
     "user": {
      "displayName": "Rishav Das",
      "photoUrl": "https://lh3.googleusercontent.com/a-/AOh14GhkdaCMvA2ffaGPZMfcs0EkFFXTsKiwTyLisksJPto=s64",
      "userId": "09499082006741547774"
     },
     "user_tz": -330
    },
    "id": "QWBeTNxPzUcJ",
    "outputId": "bdbaecd2-2942-4522-d4fb-4ffcd0658598"
   },
   "outputs": [
    {
     "name": "stdout",
     "output_type": "stream",
     "text": [
      "<tf.Variable 'Variable:0' shape=() dtype=string, numpy=b'Innomatics Research Labs'>\n"
     ]
    }
   ],
   "source": [
    "val = tf.Variable(\"Innomatics Research Labs\")\n",
    "print(val)"
   ]
  },
  {
   "cell_type": "code",
   "execution_count": 8,
   "metadata": {
    "colab": {
     "base_uri": "https://localhost:8080/"
    },
    "executionInfo": {
     "elapsed": 515,
     "status": "ok",
     "timestamp": 1638243096624,
     "user": {
      "displayName": "Rishav Das",
      "photoUrl": "https://lh3.googleusercontent.com/a-/AOh14GhkdaCMvA2ffaGPZMfcs0EkFFXTsKiwTyLisksJPto=s64",
      "userId": "09499082006741547774"
     },
     "user_tz": -330
    },
    "id": "bLd2ENkezUe-",
    "outputId": "4168a9ab-8b23-4205-944b-fc6a9dd5f947"
   },
   "outputs": [
    {
     "name": "stdout",
     "output_type": "stream",
     "text": [
      "<tf.Variable 'Variable:0' shape=(2, 2, 2) dtype=string, numpy=\n",
      "array([[[b'Test', b'deep'],\n",
      "        [b'Learning', b'AI']],\n",
      "\n",
      "       [[b'ML', b'Analytics'],\n",
      "        [b'DL', b'ML']]], dtype=object)>\n",
      "tf.Tensor(3, shape=(), dtype=int32)\n"
     ]
    }
   ],
   "source": [
    "rank1_tensor = tf.Variable([[['Test', \"deep\"], ['Learning', 'AI']], [['ML', 'Analytics'], ['DL', 'ML']]])\n",
    "print(rank1_tensor)\n",
    "print(tf.rank(rank1_tensor))"
   ]
  },
  {
   "cell_type": "code",
   "execution_count": 9,
   "metadata": {},
   "outputs": [
    {
     "data": {
      "text/plain": [
       "<tf.Tensor: shape=(), dtype=string, numpy=b'ML'>"
      ]
     },
     "execution_count": 9,
     "metadata": {},
     "output_type": "execute_result"
    }
   ],
   "source": [
    "rank1_tensor[1][0][0]"
   ]
  },
  {
   "cell_type": "code",
   "execution_count": 10,
   "metadata": {
    "executionInfo": {
     "elapsed": 432,
     "status": "ok",
     "timestamp": 1638243513752,
     "user": {
      "displayName": "Rishav Das",
      "photoUrl": "https://lh3.googleusercontent.com/a-/AOh14GhkdaCMvA2ffaGPZMfcs0EkFFXTsKiwTyLisksJPto=s64",
      "userId": "09499082006741547774"
     },
     "user_tz": -330
    },
    "id": "cjXlPzYJzUhM"
   },
   "outputs": [],
   "source": [
    "tensor1 = tf.ones([1,2,3])\n",
    "tensor2 = tf.reshape(tensor1, [2,3,1])\n",
    "tensor3 = tf.reshape(tensor2, [3, -1])"
   ]
  },
  {
   "cell_type": "code",
   "execution_count": 11,
   "metadata": {
    "colab": {
     "base_uri": "https://localhost:8080/"
    },
    "executionInfo": {
     "elapsed": 436,
     "status": "ok",
     "timestamp": 1638243526535,
     "user": {
      "displayName": "Rishav Das",
      "photoUrl": "https://lh3.googleusercontent.com/a-/AOh14GhkdaCMvA2ffaGPZMfcs0EkFFXTsKiwTyLisksJPto=s64",
      "userId": "09499082006741547774"
     },
     "user_tz": -330
    },
    "id": "Sgeecbj1zUkB",
    "outputId": "53bbe45f-d4c4-461e-a50f-8bb84e3b5dd1"
   },
   "outputs": [
    {
     "name": "stdout",
     "output_type": "stream",
     "text": [
      "tf.Tensor(\n",
      "[[[1. 1. 1.]\n",
      "  [1. 1. 1.]]], shape=(1, 2, 3), dtype=float32)\n"
     ]
    }
   ],
   "source": [
    "print(tensor1)"
   ]
  },
  {
   "cell_type": "code",
   "execution_count": 12,
   "metadata": {
    "colab": {
     "base_uri": "https://localhost:8080/"
    },
    "executionInfo": {
     "elapsed": 428,
     "status": "ok",
     "timestamp": 1638243544050,
     "user": {
      "displayName": "Rishav Das",
      "photoUrl": "https://lh3.googleusercontent.com/a-/AOh14GhkdaCMvA2ffaGPZMfcs0EkFFXTsKiwTyLisksJPto=s64",
      "userId": "09499082006741547774"
     },
     "user_tz": -330
    },
    "id": "ie3lVZdCzUpJ",
    "outputId": "af648260-6da8-47c5-e4ba-f8064eba7775"
   },
   "outputs": [
    {
     "name": "stdout",
     "output_type": "stream",
     "text": [
      "tf.Tensor(\n",
      "[[[1.]\n",
      "  [1.]\n",
      "  [1.]]\n",
      "\n",
      " [[1.]\n",
      "  [1.]\n",
      "  [1.]]], shape=(2, 3, 1), dtype=float32)\n"
     ]
    }
   ],
   "source": [
    "print(tensor2)"
   ]
  },
  {
   "cell_type": "code",
   "execution_count": 13,
   "metadata": {
    "colab": {
     "base_uri": "https://localhost:8080/"
    },
    "executionInfo": {
     "elapsed": 3,
     "status": "ok",
     "timestamp": 1638243562856,
     "user": {
      "displayName": "Rishav Das",
      "photoUrl": "https://lh3.googleusercontent.com/a-/AOh14GhkdaCMvA2ffaGPZMfcs0EkFFXTsKiwTyLisksJPto=s64",
      "userId": "09499082006741547774"
     },
     "user_tz": -330
    },
    "id": "fXEvE4iozUr7",
    "outputId": "0c891435-5abc-4cfa-e2c4-d8faf622fe7c"
   },
   "outputs": [
    {
     "name": "stdout",
     "output_type": "stream",
     "text": [
      "tf.Tensor(\n",
      "[[1. 1.]\n",
      " [1. 1.]\n",
      " [1. 1.]], shape=(3, 2), dtype=float32)\n"
     ]
    }
   ],
   "source": [
    "print(tensor3)"
   ]
  },
  {
   "cell_type": "code",
   "execution_count": 15,
   "metadata": {
    "colab": {
     "base_uri": "https://localhost:8080/"
    },
    "executionInfo": {
     "elapsed": 455,
     "status": "ok",
     "timestamp": 1638243736744,
     "user": {
      "displayName": "Rishav Das",
      "photoUrl": "https://lh3.googleusercontent.com/a-/AOh14GhkdaCMvA2ffaGPZMfcs0EkFFXTsKiwTyLisksJPto=s64",
      "userId": "09499082006741547774"
     },
     "user_tz": -330
    },
    "id": "huwIQYe4zUuv",
    "outputId": "9d530350-bc58-4768-a030-10edcffb135e"
   },
   "outputs": [
    {
     "name": "stdout",
     "output_type": "stream",
     "text": [
      "tf.Tensor(2, shape=(), dtype=int32)\n",
      "(4, 5)\n"
     ]
    }
   ],
   "source": [
    "matrix = [[1,2,3,4,5], [6,7,8,9,10], [11,12,13,14,15], [16, 17, 18, 19, 20]]\n",
    "tensor = tf.Variable(matrix, dtype=tf.int32)\n",
    "print(tf.rank(tensor))\n",
    "print(tensor.shape)"
   ]
  },
  {
   "cell_type": "code",
   "execution_count": 16,
   "metadata": {
    "colab": {
     "base_uri": "https://localhost:8080/"
    },
    "executionInfo": {
     "elapsed": 470,
     "status": "ok",
     "timestamp": 1638243871984,
     "user": {
      "displayName": "Rishav Das",
      "photoUrl": "https://lh3.googleusercontent.com/a-/AOh14GhkdaCMvA2ffaGPZMfcs0EkFFXTsKiwTyLisksJPto=s64",
      "userId": "09499082006741547774"
     },
     "user_tz": -330
    },
    "id": "Nl6s9E2UzUx1",
    "outputId": "d84495d3-61ff-4889-eb84-8ff1a517f4d8"
   },
   "outputs": [
    {
     "name": "stdout",
     "output_type": "stream",
     "text": [
      "tf.Tensor(4, shape=(), dtype=int32)\n",
      "tf.Tensor([ 1  6 11 16], shape=(4,), dtype=int32)\n",
      "tf.Tensor([1 2 3 4 5], shape=(5,), dtype=int32)\n"
     ]
    }
   ],
   "source": [
    "print(tensor[0,3])\n",
    "print(tensor[:, 0])\n",
    "print(tensor[0])"
   ]
  },
  {
   "cell_type": "code",
   "execution_count": 17,
   "metadata": {
    "colab": {
     "base_uri": "https://localhost:8080/"
    },
    "executionInfo": {
     "elapsed": 515,
     "status": "ok",
     "timestamp": 1638244238921,
     "user": {
      "displayName": "Rishav Das",
      "photoUrl": "https://lh3.googleusercontent.com/a-/AOh14GhkdaCMvA2ffaGPZMfcs0EkFFXTsKiwTyLisksJPto=s64",
      "userId": "09499082006741547774"
     },
     "user_tz": -330
    },
    "id": "Q3TwZ0tvzU0f",
    "outputId": "61e4a8e5-d883-4270-a3ca-d7fc2e4ace4b"
   },
   "outputs": [
    {
     "name": "stdout",
     "output_type": "stream",
     "text": [
      "<tf.Variable 'UnreadVariable' shape=() dtype=int32, numpy=74>\n"
     ]
    }
   ],
   "source": [
    "val = tf.Variable(14, tf.int32)\n",
    "val.assign(54)\n",
    "val = val.assign_add(20)\n",
    "print(val)"
   ]
  },
  {
   "cell_type": "code",
   "execution_count": 18,
   "metadata": {
    "colab": {
     "base_uri": "https://localhost:8080/"
    },
    "executionInfo": {
     "elapsed": 448,
     "status": "ok",
     "timestamp": 1638244402928,
     "user": {
      "displayName": "Rishav Das",
      "photoUrl": "https://lh3.googleusercontent.com/a-/AOh14GhkdaCMvA2ffaGPZMfcs0EkFFXTsKiwTyLisksJPto=s64",
      "userId": "09499082006741547774"
     },
     "user_tz": -330
    },
    "id": "e7tKr6U5zU3y",
    "outputId": "3bfaade3-49ff-41f0-faa5-5a0ef7921bd6"
   },
   "outputs": [
    {
     "data": {
      "text/plain": [
       "<tf.Tensor: shape=(), dtype=int32, numpy=48>"
      ]
     },
     "execution_count": 18,
     "metadata": {},
     "output_type": "execute_result"
    }
   ],
   "source": [
    "val = tf.Variable(14, tf.int32) \n",
    "val+34"
   ]
  },
  {
   "cell_type": "code",
   "execution_count": 20,
   "metadata": {
    "colab": {
     "base_uri": "https://localhost:8080/",
     "height": 322
    },
    "executionInfo": {
     "elapsed": 482,
     "status": "error",
     "timestamp": 1638244952107,
     "user": {
      "displayName": "Rishav Das",
      "photoUrl": "https://lh3.googleusercontent.com/a-/AOh14GhkdaCMvA2ffaGPZMfcs0EkFFXTsKiwTyLisksJPto=s64",
      "userId": "09499082006741547774"
     },
     "user_tz": -330
    },
    "id": "StlW2F2lASsR",
    "outputId": "47c6150b-fc27-4436-b107-6b96a1ff7c8e"
   },
   "outputs": [
    {
     "ename": "AttributeError",
     "evalue": "ignored",
     "output_type": "error",
     "traceback": [
      "\u001b[0;31m---------------------------------------------------------------------------\u001b[0m",
      "\u001b[0;31mAttributeError\u001b[0m                            Traceback (most recent call last)",
      "\u001b[0;32m<ipython-input-20-9e7a8e3b4688>\u001b[0m in \u001b[0;36m<module>\u001b[0;34m()\u001b[0m\n\u001b[1;32m      1\u001b[0m \u001b[0mval\u001b[0m \u001b[0;34m=\u001b[0m \u001b[0mtf\u001b[0m\u001b[0;34m.\u001b[0m\u001b[0mconstant\u001b[0m\u001b[0;34m(\u001b[0m\u001b[0;34m[\u001b[0m\u001b[0;36m1\u001b[0m\u001b[0;34m,\u001b[0m\u001b[0;36m2\u001b[0m\u001b[0;34m,\u001b[0m\u001b[0;36m3\u001b[0m\u001b[0;34m,\u001b[0m\u001b[0;36m4\u001b[0m\u001b[0;34m,\u001b[0m\u001b[0;36m5\u001b[0m\u001b[0;34m,\u001b[0m\u001b[0;36m6\u001b[0m\u001b[0;34m]\u001b[0m\u001b[0;34m)\u001b[0m\u001b[0;34m\u001b[0m\u001b[0;34m\u001b[0m\u001b[0m\n\u001b[0;32m----> 2\u001b[0;31m \u001b[0mval\u001b[0m  \u001b[0;34m=\u001b[0m \u001b[0mval\u001b[0m\u001b[0;34m.\u001b[0m\u001b[0massign_add\u001b[0m\u001b[0;34m(\u001b[0m\u001b[0;36m3\u001b[0m\u001b[0;34m)\u001b[0m\u001b[0;34m\u001b[0m\u001b[0;34m\u001b[0m\u001b[0m\n\u001b[0m\u001b[1;32m      3\u001b[0m \u001b[0mprint\u001b[0m\u001b[0;34m(\u001b[0m\u001b[0mval\u001b[0m\u001b[0;34m)\u001b[0m\u001b[0;34m\u001b[0m\u001b[0;34m\u001b[0m\u001b[0m\n",
      "\u001b[0;32m/usr/local/lib/python3.7/dist-packages/tensorflow/python/framework/ops.py\u001b[0m in \u001b[0;36m__getattr__\u001b[0;34m(self, name)\u001b[0m\n\u001b[1;32m    440\u001b[0m         \u001b[0;32mfrom\u001b[0m \u001b[0mtensorflow\u001b[0m\u001b[0;34m.\u001b[0m\u001b[0mpython\u001b[0m\u001b[0;34m.\u001b[0m\u001b[0mops\u001b[0m\u001b[0;34m.\u001b[0m\u001b[0mnumpy_ops\u001b[0m \u001b[0;32mimport\u001b[0m \u001b[0mnp_config\u001b[0m\u001b[0;34m\u001b[0m\u001b[0;34m\u001b[0m\u001b[0m\n\u001b[1;32m    441\u001b[0m         np_config.enable_numpy_behavior()\"\"\".format(type(self).__name__, name))\n\u001b[0;32m--> 442\u001b[0;31m     \u001b[0mself\u001b[0m\u001b[0;34m.\u001b[0m\u001b[0m__getattribute__\u001b[0m\u001b[0;34m(\u001b[0m\u001b[0mname\u001b[0m\u001b[0;34m)\u001b[0m\u001b[0;34m\u001b[0m\u001b[0;34m\u001b[0m\u001b[0m\n\u001b[0m\u001b[1;32m    443\u001b[0m \u001b[0;34m\u001b[0m\u001b[0m\n\u001b[1;32m    444\u001b[0m   \u001b[0;34m@\u001b[0m\u001b[0mstaticmethod\u001b[0m\u001b[0;34m\u001b[0m\u001b[0;34m\u001b[0m\u001b[0m\n",
      "\u001b[0;31mAttributeError\u001b[0m: 'tensorflow.python.framework.ops.EagerTensor' object has no attribute 'assign_add'"
     ]
    }
   ],
   "source": [
    "val = tf.constant([1,2,3,4,5,6])\n",
    "val  = val.assign_add(3)\n",
    "print(val)"
   ]
  },
  {
   "cell_type": "code",
   "execution_count": 21,
   "metadata": {
    "colab": {
     "base_uri": "https://localhost:8080/",
     "height": 165
    },
    "executionInfo": {
     "elapsed": 460,
     "status": "error",
     "timestamp": 1638245193283,
     "user": {
      "displayName": "Rishav Das",
      "photoUrl": "https://lh3.googleusercontent.com/a-/AOh14GhkdaCMvA2ffaGPZMfcs0EkFFXTsKiwTyLisksJPto=s64",
      "userId": "09499082006741547774"
     },
     "user_tz": -330
    },
    "id": "I4H6hH8LzU62",
    "outputId": "f7cdf09f-5f64-4cba-fe75-59526b2dc121"
   },
   "outputs": [
    {
     "ename": "AttributeError",
     "evalue": "ignored",
     "output_type": "error",
     "traceback": [
      "\u001b[0;31m---------------------------------------------------------------------------\u001b[0m",
      "\u001b[0;31mAttributeError\u001b[0m                            Traceback (most recent call last)",
      "\u001b[0;32m<ipython-input-21-9a46b989fc5d>\u001b[0m in \u001b[0;36m<module>\u001b[0;34m()\u001b[0m\n\u001b[0;32m----> 1\u001b[0;31m \u001b[0mx\u001b[0m \u001b[0;34m=\u001b[0m \u001b[0mtf\u001b[0m\u001b[0;34m.\u001b[0m\u001b[0mplaceholder\u001b[0m\u001b[0;34m(\u001b[0m\u001b[0;34m'float'\u001b[0m\u001b[0;34m,\u001b[0m \u001b[0;32mNone\u001b[0m\u001b[0;34m)\u001b[0m\u001b[0;34m\u001b[0m\u001b[0;34m\u001b[0m\u001b[0m\n\u001b[0m",
      "\u001b[0;31mAttributeError\u001b[0m: module 'tensorflow' has no attribute 'placeholder'"
     ]
    }
   ],
   "source": [
    "x = tf.placeholder('float', None)"
   ]
  },
  {
   "cell_type": "markdown",
   "metadata": {
    "id": "vpIJ8dQ6zU9V"
   },
   "source": [
    "## `END --------------------------------------------------`"
   ]
  }
 ],
 "metadata": {
  "colab": {
   "authorship_tag": "ABX9TyPQYAjCEFMOZXURyOaJDdi6",
   "name": "Tensorflow.ipynb",
   "provenance": []
  },
  "kernelspec": {
   "display_name": "Python 3 (ipykernel)",
   "language": "python",
   "name": "python3"
  },
  "language_info": {
   "codemirror_mode": {
    "name": "ipython",
    "version": 3
   },
   "file_extension": ".py",
   "mimetype": "text/x-python",
   "name": "python",
   "nbconvert_exporter": "python",
   "pygments_lexer": "ipython3",
   "version": "3.9.7"
  }
 },
 "nbformat": 4,
 "nbformat_minor": 1
}
