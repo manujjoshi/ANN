{
 "cells": [
  {
   "cell_type": "markdown",
   "metadata": {},
   "source": [
    "# `ANN-Regression`"
   ]
  },
  {
   "cell_type": "code",
   "execution_count": 40,
   "metadata": {
    "executionInfo": {
     "elapsed": 2696,
     "status": "ok",
     "timestamp": 1632205938244,
     "user": {
      "displayName": "Rishav Das",
      "photoUrl": "https://lh3.googleusercontent.com/a-/AOh14GhkdaCMvA2ffaGPZMfcs0EkFFXTsKiwTyLisksJPto=s64",
      "userId": "09499082006741547774"
     },
     "user_tz": -330
    },
    "id": "-YHhOoPLH_ef"
   },
   "outputs": [],
   "source": [
    "import numpy as np \n",
    "import pandas as pd \n",
    "import matplotlib.pyplot as plt \n",
    "import tensorflow as tf\n",
    "from tensorflow import keras \n",
    "from tensorflow.keras import layers\n",
    "import seaborn as sns \n",
    "from xgboost import XGBRegressor\n",
    "from sklearn import datasets\n",
    "from sklearn.model_selection import train_test_split \n",
    "from sklearn import preprocessing \n",
    "import warnings\n",
    "warnings.filterwarnings('ignore')"
   ]
  },
  {
   "cell_type": "code",
   "execution_count": 41,
   "metadata": {
    "colab": {
     "base_uri": "https://localhost:8080/"
    },
    "executionInfo": {
     "elapsed": 5654,
     "status": "ok",
     "timestamp": 1632205899264,
     "user": {
      "displayName": "Rishav Das",
      "photoUrl": "https://lh3.googleusercontent.com/a-/AOh14GhkdaCMvA2ffaGPZMfcs0EkFFXTsKiwTyLisksJPto=s64",
      "userId": "09499082006741547774"
     },
     "user_tz": -330
    },
    "id": "yuazvl6XDPtM",
    "outputId": "16b6a1fd-4151-493a-85bd-20061e8c4b94"
   },
   "outputs": [],
   "source": [
    "# !pip install xgboost"
   ]
  },
  {
   "cell_type": "code",
   "execution_count": 42,
   "metadata": {
    "executionInfo": {
     "elapsed": 456,
     "status": "ok",
     "timestamp": 1632205946707,
     "user": {
      "displayName": "Rishav Das",
      "photoUrl": "https://lh3.googleusercontent.com/a-/AOh14GhkdaCMvA2ffaGPZMfcs0EkFFXTsKiwTyLisksJPto=s64",
      "userId": "09499082006741547774"
     },
     "user_tz": -330
    },
    "id": "snChLuoSJkqD"
   },
   "outputs": [],
   "source": [
    "dataset = datasets.load_boston()"
   ]
  },
  {
   "cell_type": "code",
   "execution_count": 43,
   "metadata": {
    "colab": {
     "base_uri": "https://localhost:8080/"
    },
    "executionInfo": {
     "elapsed": 10,
     "status": "ok",
     "timestamp": 1632205949575,
     "user": {
      "displayName": "Rishav Das",
      "photoUrl": "https://lh3.googleusercontent.com/a-/AOh14GhkdaCMvA2ffaGPZMfcs0EkFFXTsKiwTyLisksJPto=s64",
      "userId": "09499082006741547774"
     },
     "user_tz": -330
    },
    "id": "ea5dBUzuJks0",
    "outputId": "f771d281-0a64-40b4-e704-6e3d8d56102e"
   },
   "outputs": [
    {
     "name": "stdout",
     "output_type": "stream",
     "text": [
      "<class 'sklearn.utils.Bunch'>\n"
     ]
    }
   ],
   "source": [
    "print(type(dataset))"
   ]
  },
  {
   "cell_type": "code",
   "execution_count": 44,
   "metadata": {
    "colab": {
     "base_uri": "https://localhost:8080/"
    },
    "executionInfo": {
     "elapsed": 10,
     "status": "ok",
     "timestamp": 1632205951473,
     "user": {
      "displayName": "Rishav Das",
      "photoUrl": "https://lh3.googleusercontent.com/a-/AOh14GhkdaCMvA2ffaGPZMfcs0EkFFXTsKiwTyLisksJPto=s64",
      "userId": "09499082006741547774"
     },
     "user_tz": -330
    },
    "id": "mnBKneMnJkvG",
    "outputId": "7d38cf90-9d25-4d71-df73-3591c67da5dd"
   },
   "outputs": [
    {
     "name": "stdout",
     "output_type": "stream",
     "text": [
      "{'data': array([[6.3200e-03, 1.8000e+01, 2.3100e+00, ..., 1.5300e+01, 3.9690e+02,\n",
      "        4.9800e+00],\n",
      "       [2.7310e-02, 0.0000e+00, 7.0700e+00, ..., 1.7800e+01, 3.9690e+02,\n",
      "        9.1400e+00],\n",
      "       [2.7290e-02, 0.0000e+00, 7.0700e+00, ..., 1.7800e+01, 3.9283e+02,\n",
      "        4.0300e+00],\n",
      "       ...,\n",
      "       [6.0760e-02, 0.0000e+00, 1.1930e+01, ..., 2.1000e+01, 3.9690e+02,\n",
      "        5.6400e+00],\n",
      "       [1.0959e-01, 0.0000e+00, 1.1930e+01, ..., 2.1000e+01, 3.9345e+02,\n",
      "        6.4800e+00],\n",
      "       [4.7410e-02, 0.0000e+00, 1.1930e+01, ..., 2.1000e+01, 3.9690e+02,\n",
      "        7.8800e+00]]), 'target': array([24. , 21.6, 34.7, 33.4, 36.2, 28.7, 22.9, 27.1, 16.5, 18.9, 15. ,\n",
      "       18.9, 21.7, 20.4, 18.2, 19.9, 23.1, 17.5, 20.2, 18.2, 13.6, 19.6,\n",
      "       15.2, 14.5, 15.6, 13.9, 16.6, 14.8, 18.4, 21. , 12.7, 14.5, 13.2,\n",
      "       13.1, 13.5, 18.9, 20. , 21. , 24.7, 30.8, 34.9, 26.6, 25.3, 24.7,\n",
      "       21.2, 19.3, 20. , 16.6, 14.4, 19.4, 19.7, 20.5, 25. , 23.4, 18.9,\n",
      "       35.4, 24.7, 31.6, 23.3, 19.6, 18.7, 16. , 22.2, 25. , 33. , 23.5,\n",
      "       19.4, 22. , 17.4, 20.9, 24.2, 21.7, 22.8, 23.4, 24.1, 21.4, 20. ,\n",
      "       20.8, 21.2, 20.3, 28. , 23.9, 24.8, 22.9, 23.9, 26.6, 22.5, 22.2,\n",
      "       23.6, 28.7, 22.6, 22. , 22.9, 25. , 20.6, 28.4, 21.4, 38.7, 43.8,\n",
      "       33.2, 27.5, 26.5, 18.6, 19.3, 20.1, 19.5, 19.5, 20.4, 19.8, 19.4,\n",
      "       21.7, 22.8, 18.8, 18.7, 18.5, 18.3, 21.2, 19.2, 20.4, 19.3, 22. ,\n",
      "       20.3, 20.5, 17.3, 18.8, 21.4, 15.7, 16.2, 18. , 14.3, 19.2, 19.6,\n",
      "       23. , 18.4, 15.6, 18.1, 17.4, 17.1, 13.3, 17.8, 14. , 14.4, 13.4,\n",
      "       15.6, 11.8, 13.8, 15.6, 14.6, 17.8, 15.4, 21.5, 19.6, 15.3, 19.4,\n",
      "       17. , 15.6, 13.1, 41.3, 24.3, 23.3, 27. , 50. , 50. , 50. , 22.7,\n",
      "       25. , 50. , 23.8, 23.8, 22.3, 17.4, 19.1, 23.1, 23.6, 22.6, 29.4,\n",
      "       23.2, 24.6, 29.9, 37.2, 39.8, 36.2, 37.9, 32.5, 26.4, 29.6, 50. ,\n",
      "       32. , 29.8, 34.9, 37. , 30.5, 36.4, 31.1, 29.1, 50. , 33.3, 30.3,\n",
      "       34.6, 34.9, 32.9, 24.1, 42.3, 48.5, 50. , 22.6, 24.4, 22.5, 24.4,\n",
      "       20. , 21.7, 19.3, 22.4, 28.1, 23.7, 25. , 23.3, 28.7, 21.5, 23. ,\n",
      "       26.7, 21.7, 27.5, 30.1, 44.8, 50. , 37.6, 31.6, 46.7, 31.5, 24.3,\n",
      "       31.7, 41.7, 48.3, 29. , 24. , 25.1, 31.5, 23.7, 23.3, 22. , 20.1,\n",
      "       22.2, 23.7, 17.6, 18.5, 24.3, 20.5, 24.5, 26.2, 24.4, 24.8, 29.6,\n",
      "       42.8, 21.9, 20.9, 44. , 50. , 36. , 30.1, 33.8, 43.1, 48.8, 31. ,\n",
      "       36.5, 22.8, 30.7, 50. , 43.5, 20.7, 21.1, 25.2, 24.4, 35.2, 32.4,\n",
      "       32. , 33.2, 33.1, 29.1, 35.1, 45.4, 35.4, 46. , 50. , 32.2, 22. ,\n",
      "       20.1, 23.2, 22.3, 24.8, 28.5, 37.3, 27.9, 23.9, 21.7, 28.6, 27.1,\n",
      "       20.3, 22.5, 29. , 24.8, 22. , 26.4, 33.1, 36.1, 28.4, 33.4, 28.2,\n",
      "       22.8, 20.3, 16.1, 22.1, 19.4, 21.6, 23.8, 16.2, 17.8, 19.8, 23.1,\n",
      "       21. , 23.8, 23.1, 20.4, 18.5, 25. , 24.6, 23. , 22.2, 19.3, 22.6,\n",
      "       19.8, 17.1, 19.4, 22.2, 20.7, 21.1, 19.5, 18.5, 20.6, 19. , 18.7,\n",
      "       32.7, 16.5, 23.9, 31.2, 17.5, 17.2, 23.1, 24.5, 26.6, 22.9, 24.1,\n",
      "       18.6, 30.1, 18.2, 20.6, 17.8, 21.7, 22.7, 22.6, 25. , 19.9, 20.8,\n",
      "       16.8, 21.9, 27.5, 21.9, 23.1, 50. , 50. , 50. , 50. , 50. , 13.8,\n",
      "       13.8, 15. , 13.9, 13.3, 13.1, 10.2, 10.4, 10.9, 11.3, 12.3,  8.8,\n",
      "        7.2, 10.5,  7.4, 10.2, 11.5, 15.1, 23.2,  9.7, 13.8, 12.7, 13.1,\n",
      "       12.5,  8.5,  5. ,  6.3,  5.6,  7.2, 12.1,  8.3,  8.5,  5. , 11.9,\n",
      "       27.9, 17.2, 27.5, 15. , 17.2, 17.9, 16.3,  7. ,  7.2,  7.5, 10.4,\n",
      "        8.8,  8.4, 16.7, 14.2, 20.8, 13.4, 11.7,  8.3, 10.2, 10.9, 11. ,\n",
      "        9.5, 14.5, 14.1, 16.1, 14.3, 11.7, 13.4,  9.6,  8.7,  8.4, 12.8,\n",
      "       10.5, 17.1, 18.4, 15.4, 10.8, 11.8, 14.9, 12.6, 14.1, 13. , 13.4,\n",
      "       15.2, 16.1, 17.8, 14.9, 14.1, 12.7, 13.5, 14.9, 20. , 16.4, 17.7,\n",
      "       19.5, 20.2, 21.4, 19.9, 19. , 19.1, 19.1, 20.1, 19.9, 19.6, 23.2,\n",
      "       29.8, 13.8, 13.3, 16.7, 12. , 14.6, 21.4, 23. , 23.7, 25. , 21.8,\n",
      "       20.6, 21.2, 19.1, 20.6, 15.2,  7. ,  8.1, 13.6, 20.1, 21.8, 24.5,\n",
      "       23.1, 19.7, 18.3, 21.2, 17.5, 16.8, 22.4, 20.6, 23.9, 22. , 11.9]), 'feature_names': array(['CRIM', 'ZN', 'INDUS', 'CHAS', 'NOX', 'RM', 'AGE', 'DIS', 'RAD',\n",
      "       'TAX', 'PTRATIO', 'B', 'LSTAT'], dtype='<U7'), 'DESCR': \".. _boston_dataset:\\n\\nBoston house prices dataset\\n---------------------------\\n\\n**Data Set Characteristics:**  \\n\\n    :Number of Instances: 506 \\n\\n    :Number of Attributes: 13 numeric/categorical predictive. Median Value (attribute 14) is usually the target.\\n\\n    :Attribute Information (in order):\\n        - CRIM     per capita crime rate by town\\n        - ZN       proportion of residential land zoned for lots over 25,000 sq.ft.\\n        - INDUS    proportion of non-retail business acres per town\\n        - CHAS     Charles River dummy variable (= 1 if tract bounds river; 0 otherwise)\\n        - NOX      nitric oxides concentration (parts per 10 million)\\n        - RM       average number of rooms per dwelling\\n        - AGE      proportion of owner-occupied units built prior to 1940\\n        - DIS      weighted distances to five Boston employment centres\\n        - RAD      index of accessibility to radial highways\\n        - TAX      full-value property-tax rate per $10,000\\n        - PTRATIO  pupil-teacher ratio by town\\n        - B        1000(Bk - 0.63)^2 where Bk is the proportion of black people by town\\n        - LSTAT    % lower status of the population\\n        - MEDV     Median value of owner-occupied homes in $1000's\\n\\n    :Missing Attribute Values: None\\n\\n    :Creator: Harrison, D. and Rubinfeld, D.L.\\n\\nThis is a copy of UCI ML housing dataset.\\nhttps://archive.ics.uci.edu/ml/machine-learning-databases/housing/\\n\\n\\nThis dataset was taken from the StatLib library which is maintained at Carnegie Mellon University.\\n\\nThe Boston house-price data of Harrison, D. and Rubinfeld, D.L. 'Hedonic\\nprices and the demand for clean air', J. Environ. Economics & Management,\\nvol.5, 81-102, 1978.   Used in Belsley, Kuh & Welsch, 'Regression diagnostics\\n...', Wiley, 1980.   N.B. Various transformations are used in the table on\\npages 244-261 of the latter.\\n\\nThe Boston house-price data has been used in many machine learning papers that address regression\\nproblems.   \\n     \\n.. topic:: References\\n\\n   - Belsley, Kuh & Welsch, 'Regression diagnostics: Identifying Influential Data and Sources of Collinearity', Wiley, 1980. 244-261.\\n   - Quinlan,R. (1993). Combining Instance-Based and Model-Based Learning. In Proceedings on the Tenth International Conference of Machine Learning, 236-243, University of Massachusetts, Amherst. Morgan Kaufmann.\\n\", 'filename': 'boston_house_prices.csv', 'data_module': 'sklearn.datasets.data'}\n"
     ]
    }
   ],
   "source": [
    "print(dataset)"
   ]
  },
  {
   "cell_type": "code",
   "execution_count": 45,
   "metadata": {
    "colab": {
     "base_uri": "https://localhost:8080/"
    },
    "executionInfo": {
     "elapsed": 1578,
     "status": "ok",
     "timestamp": 1632205957422,
     "user": {
      "displayName": "Rishav Das",
      "photoUrl": "https://lh3.googleusercontent.com/a-/AOh14GhkdaCMvA2ffaGPZMfcs0EkFFXTsKiwTyLisksJPto=s64",
      "userId": "09499082006741547774"
     },
     "user_tz": -330
    },
    "id": "6lLZMc8rJkxt",
    "outputId": "1c47e765-b493-4258-aefa-72f34acb09a8"
   },
   "outputs": [
    {
     "name": "stdout",
     "output_type": "stream",
     "text": [
      "dict_keys(['data', 'target', 'feature_names', 'DESCR', 'filename', 'data_module'])\n"
     ]
    }
   ],
   "source": [
    "print(dataset.keys())"
   ]
  },
  {
   "cell_type": "code",
   "execution_count": 46,
   "metadata": {
    "colab": {
     "base_uri": "https://localhost:8080/"
    },
    "executionInfo": {
     "elapsed": 34,
     "status": "ok",
     "timestamp": 1632205961428,
     "user": {
      "displayName": "Rishav Das",
      "photoUrl": "https://lh3.googleusercontent.com/a-/AOh14GhkdaCMvA2ffaGPZMfcs0EkFFXTsKiwTyLisksJPto=s64",
      "userId": "09499082006741547774"
     },
     "user_tz": -330
    },
    "id": "Sfv8raPyJk0T",
    "outputId": "6191518c-3070-4bb6-91e9-3a799adf4155"
   },
   "outputs": [
    {
     "name": "stdout",
     "output_type": "stream",
     "text": [
      ".. _boston_dataset:\n",
      "\n",
      "Boston house prices dataset\n",
      "---------------------------\n",
      "\n",
      "**Data Set Characteristics:**  \n",
      "\n",
      "    :Number of Instances: 506 \n",
      "\n",
      "    :Number of Attributes: 13 numeric/categorical predictive. Median Value (attribute 14) is usually the target.\n",
      "\n",
      "    :Attribute Information (in order):\n",
      "        - CRIM     per capita crime rate by town\n",
      "        - ZN       proportion of residential land zoned for lots over 25,000 sq.ft.\n",
      "        - INDUS    proportion of non-retail business acres per town\n",
      "        - CHAS     Charles River dummy variable (= 1 if tract bounds river; 0 otherwise)\n",
      "        - NOX      nitric oxides concentration (parts per 10 million)\n",
      "        - RM       average number of rooms per dwelling\n",
      "        - AGE      proportion of owner-occupied units built prior to 1940\n",
      "        - DIS      weighted distances to five Boston employment centres\n",
      "        - RAD      index of accessibility to radial highways\n",
      "        - TAX      full-value property-tax rate per $10,000\n",
      "        - PTRATIO  pupil-teacher ratio by town\n",
      "        - B        1000(Bk - 0.63)^2 where Bk is the proportion of black people by town\n",
      "        - LSTAT    % lower status of the population\n",
      "        - MEDV     Median value of owner-occupied homes in $1000's\n",
      "\n",
      "    :Missing Attribute Values: None\n",
      "\n",
      "    :Creator: Harrison, D. and Rubinfeld, D.L.\n",
      "\n",
      "This is a copy of UCI ML housing dataset.\n",
      "https://archive.ics.uci.edu/ml/machine-learning-databases/housing/\n",
      "\n",
      "\n",
      "This dataset was taken from the StatLib library which is maintained at Carnegie Mellon University.\n",
      "\n",
      "The Boston house-price data of Harrison, D. and Rubinfeld, D.L. 'Hedonic\n",
      "prices and the demand for clean air', J. Environ. Economics & Management,\n",
      "vol.5, 81-102, 1978.   Used in Belsley, Kuh & Welsch, 'Regression diagnostics\n",
      "...', Wiley, 1980.   N.B. Various transformations are used in the table on\n",
      "pages 244-261 of the latter.\n",
      "\n",
      "The Boston house-price data has been used in many machine learning papers that address regression\n",
      "problems.   \n",
      "     \n",
      ".. topic:: References\n",
      "\n",
      "   - Belsley, Kuh & Welsch, 'Regression diagnostics: Identifying Influential Data and Sources of Collinearity', Wiley, 1980. 244-261.\n",
      "   - Quinlan,R. (1993). Combining Instance-Based and Model-Based Learning. In Proceedings on the Tenth International Conference of Machine Learning, 236-243, University of Massachusetts, Amherst. Morgan Kaufmann.\n",
      "\n"
     ]
    }
   ],
   "source": [
    "print(dataset.DESCR)"
   ]
  },
  {
   "cell_type": "code",
   "execution_count": 47,
   "metadata": {
    "executionInfo": {
     "elapsed": 4,
     "status": "ok",
     "timestamp": 1632205966630,
     "user": {
      "displayName": "Rishav Das",
      "photoUrl": "https://lh3.googleusercontent.com/a-/AOh14GhkdaCMvA2ffaGPZMfcs0EkFFXTsKiwTyLisksJPto=s64",
      "userId": "09499082006741547774"
     },
     "user_tz": -330
    },
    "id": "zwRIZGJoJk3D"
   },
   "outputs": [],
   "source": [
    "house_df = pd.DataFrame(dataset.data, columns = dataset.feature_names)"
   ]
  },
  {
   "cell_type": "code",
   "execution_count": 48,
   "metadata": {
    "colab": {
     "base_uri": "https://localhost:8080/",
     "height": 203
    },
    "executionInfo": {
     "elapsed": 13,
     "status": "ok",
     "timestamp": 1632205968264,
     "user": {
      "displayName": "Rishav Das",
      "photoUrl": "https://lh3.googleusercontent.com/a-/AOh14GhkdaCMvA2ffaGPZMfcs0EkFFXTsKiwTyLisksJPto=s64",
      "userId": "09499082006741547774"
     },
     "user_tz": -330
    },
    "id": "vCSaK0GYL_ih",
    "outputId": "c3dc9837-c7ef-47ac-e322-8b8576e54b41"
   },
   "outputs": [
    {
     "data": {
      "text/html": [
       "<div>\n",
       "<style scoped>\n",
       "    .dataframe tbody tr th:only-of-type {\n",
       "        vertical-align: middle;\n",
       "    }\n",
       "\n",
       "    .dataframe tbody tr th {\n",
       "        vertical-align: top;\n",
       "    }\n",
       "\n",
       "    .dataframe thead th {\n",
       "        text-align: right;\n",
       "    }\n",
       "</style>\n",
       "<table border=\"1\" class=\"dataframe\">\n",
       "  <thead>\n",
       "    <tr style=\"text-align: right;\">\n",
       "      <th></th>\n",
       "      <th>CRIM</th>\n",
       "      <th>ZN</th>\n",
       "      <th>INDUS</th>\n",
       "      <th>CHAS</th>\n",
       "      <th>NOX</th>\n",
       "      <th>RM</th>\n",
       "      <th>AGE</th>\n",
       "      <th>DIS</th>\n",
       "      <th>RAD</th>\n",
       "      <th>TAX</th>\n",
       "      <th>PTRATIO</th>\n",
       "      <th>B</th>\n",
       "      <th>LSTAT</th>\n",
       "    </tr>\n",
       "  </thead>\n",
       "  <tbody>\n",
       "    <tr>\n",
       "      <th>0</th>\n",
       "      <td>0.00632</td>\n",
       "      <td>18.0</td>\n",
       "      <td>2.31</td>\n",
       "      <td>0.0</td>\n",
       "      <td>0.538</td>\n",
       "      <td>6.575</td>\n",
       "      <td>65.2</td>\n",
       "      <td>4.0900</td>\n",
       "      <td>1.0</td>\n",
       "      <td>296.0</td>\n",
       "      <td>15.3</td>\n",
       "      <td>396.90</td>\n",
       "      <td>4.98</td>\n",
       "    </tr>\n",
       "    <tr>\n",
       "      <th>1</th>\n",
       "      <td>0.02731</td>\n",
       "      <td>0.0</td>\n",
       "      <td>7.07</td>\n",
       "      <td>0.0</td>\n",
       "      <td>0.469</td>\n",
       "      <td>6.421</td>\n",
       "      <td>78.9</td>\n",
       "      <td>4.9671</td>\n",
       "      <td>2.0</td>\n",
       "      <td>242.0</td>\n",
       "      <td>17.8</td>\n",
       "      <td>396.90</td>\n",
       "      <td>9.14</td>\n",
       "    </tr>\n",
       "    <tr>\n",
       "      <th>2</th>\n",
       "      <td>0.02729</td>\n",
       "      <td>0.0</td>\n",
       "      <td>7.07</td>\n",
       "      <td>0.0</td>\n",
       "      <td>0.469</td>\n",
       "      <td>7.185</td>\n",
       "      <td>61.1</td>\n",
       "      <td>4.9671</td>\n",
       "      <td>2.0</td>\n",
       "      <td>242.0</td>\n",
       "      <td>17.8</td>\n",
       "      <td>392.83</td>\n",
       "      <td>4.03</td>\n",
       "    </tr>\n",
       "    <tr>\n",
       "      <th>3</th>\n",
       "      <td>0.03237</td>\n",
       "      <td>0.0</td>\n",
       "      <td>2.18</td>\n",
       "      <td>0.0</td>\n",
       "      <td>0.458</td>\n",
       "      <td>6.998</td>\n",
       "      <td>45.8</td>\n",
       "      <td>6.0622</td>\n",
       "      <td>3.0</td>\n",
       "      <td>222.0</td>\n",
       "      <td>18.7</td>\n",
       "      <td>394.63</td>\n",
       "      <td>2.94</td>\n",
       "    </tr>\n",
       "    <tr>\n",
       "      <th>4</th>\n",
       "      <td>0.06905</td>\n",
       "      <td>0.0</td>\n",
       "      <td>2.18</td>\n",
       "      <td>0.0</td>\n",
       "      <td>0.458</td>\n",
       "      <td>7.147</td>\n",
       "      <td>54.2</td>\n",
       "      <td>6.0622</td>\n",
       "      <td>3.0</td>\n",
       "      <td>222.0</td>\n",
       "      <td>18.7</td>\n",
       "      <td>396.90</td>\n",
       "      <td>5.33</td>\n",
       "    </tr>\n",
       "  </tbody>\n",
       "</table>\n",
       "</div>"
      ],
      "text/plain": [
       "      CRIM    ZN  INDUS  CHAS    NOX     RM   AGE     DIS  RAD    TAX  \\\n",
       "0  0.00632  18.0   2.31   0.0  0.538  6.575  65.2  4.0900  1.0  296.0   \n",
       "1  0.02731   0.0   7.07   0.0  0.469  6.421  78.9  4.9671  2.0  242.0   \n",
       "2  0.02729   0.0   7.07   0.0  0.469  7.185  61.1  4.9671  2.0  242.0   \n",
       "3  0.03237   0.0   2.18   0.0  0.458  6.998  45.8  6.0622  3.0  222.0   \n",
       "4  0.06905   0.0   2.18   0.0  0.458  7.147  54.2  6.0622  3.0  222.0   \n",
       "\n",
       "   PTRATIO       B  LSTAT  \n",
       "0     15.3  396.90   4.98  \n",
       "1     17.8  396.90   9.14  \n",
       "2     17.8  392.83   4.03  \n",
       "3     18.7  394.63   2.94  \n",
       "4     18.7  396.90   5.33  "
      ]
     },
     "execution_count": 48,
     "metadata": {},
     "output_type": "execute_result"
    }
   ],
   "source": [
    "house_df.head()"
   ]
  },
  {
   "cell_type": "code",
   "execution_count": 49,
   "metadata": {
    "colab": {
     "base_uri": "https://localhost:8080/",
     "height": 295
    },
    "executionInfo": {
     "elapsed": 15,
     "status": "ok",
     "timestamp": 1632205971984,
     "user": {
      "displayName": "Rishav Das",
      "photoUrl": "https://lh3.googleusercontent.com/a-/AOh14GhkdaCMvA2ffaGPZMfcs0EkFFXTsKiwTyLisksJPto=s64",
      "userId": "09499082006741547774"
     },
     "user_tz": -330
    },
    "id": "8fx_m9DCL_po",
    "outputId": "ab7ce771-7dfe-4cc5-85b0-78c9ccbee894"
   },
   "outputs": [
    {
     "data": {
      "text/html": [
       "<div>\n",
       "<style scoped>\n",
       "    .dataframe tbody tr th:only-of-type {\n",
       "        vertical-align: middle;\n",
       "    }\n",
       "\n",
       "    .dataframe tbody tr th {\n",
       "        vertical-align: top;\n",
       "    }\n",
       "\n",
       "    .dataframe thead th {\n",
       "        text-align: right;\n",
       "    }\n",
       "</style>\n",
       "<table border=\"1\" class=\"dataframe\">\n",
       "  <thead>\n",
       "    <tr style=\"text-align: right;\">\n",
       "      <th></th>\n",
       "      <th>CRIM</th>\n",
       "      <th>ZN</th>\n",
       "      <th>INDUS</th>\n",
       "      <th>CHAS</th>\n",
       "      <th>NOX</th>\n",
       "      <th>RM</th>\n",
       "      <th>AGE</th>\n",
       "      <th>DIS</th>\n",
       "      <th>RAD</th>\n",
       "      <th>TAX</th>\n",
       "      <th>PTRATIO</th>\n",
       "      <th>B</th>\n",
       "      <th>LSTAT</th>\n",
       "    </tr>\n",
       "  </thead>\n",
       "  <tbody>\n",
       "    <tr>\n",
       "      <th>count</th>\n",
       "      <td>506.000000</td>\n",
       "      <td>506.000000</td>\n",
       "      <td>506.000000</td>\n",
       "      <td>506.000000</td>\n",
       "      <td>506.000000</td>\n",
       "      <td>506.000000</td>\n",
       "      <td>506.000000</td>\n",
       "      <td>506.000000</td>\n",
       "      <td>506.000000</td>\n",
       "      <td>506.000000</td>\n",
       "      <td>506.000000</td>\n",
       "      <td>506.000000</td>\n",
       "      <td>506.000000</td>\n",
       "    </tr>\n",
       "    <tr>\n",
       "      <th>mean</th>\n",
       "      <td>3.613524</td>\n",
       "      <td>11.363636</td>\n",
       "      <td>11.136779</td>\n",
       "      <td>0.069170</td>\n",
       "      <td>0.554695</td>\n",
       "      <td>6.284634</td>\n",
       "      <td>68.574901</td>\n",
       "      <td>3.795043</td>\n",
       "      <td>9.549407</td>\n",
       "      <td>408.237154</td>\n",
       "      <td>18.455534</td>\n",
       "      <td>356.674032</td>\n",
       "      <td>12.653063</td>\n",
       "    </tr>\n",
       "    <tr>\n",
       "      <th>std</th>\n",
       "      <td>8.601545</td>\n",
       "      <td>23.322453</td>\n",
       "      <td>6.860353</td>\n",
       "      <td>0.253994</td>\n",
       "      <td>0.115878</td>\n",
       "      <td>0.702617</td>\n",
       "      <td>28.148861</td>\n",
       "      <td>2.105710</td>\n",
       "      <td>8.707259</td>\n",
       "      <td>168.537116</td>\n",
       "      <td>2.164946</td>\n",
       "      <td>91.294864</td>\n",
       "      <td>7.141062</td>\n",
       "    </tr>\n",
       "    <tr>\n",
       "      <th>min</th>\n",
       "      <td>0.006320</td>\n",
       "      <td>0.000000</td>\n",
       "      <td>0.460000</td>\n",
       "      <td>0.000000</td>\n",
       "      <td>0.385000</td>\n",
       "      <td>3.561000</td>\n",
       "      <td>2.900000</td>\n",
       "      <td>1.129600</td>\n",
       "      <td>1.000000</td>\n",
       "      <td>187.000000</td>\n",
       "      <td>12.600000</td>\n",
       "      <td>0.320000</td>\n",
       "      <td>1.730000</td>\n",
       "    </tr>\n",
       "    <tr>\n",
       "      <th>25%</th>\n",
       "      <td>0.082045</td>\n",
       "      <td>0.000000</td>\n",
       "      <td>5.190000</td>\n",
       "      <td>0.000000</td>\n",
       "      <td>0.449000</td>\n",
       "      <td>5.885500</td>\n",
       "      <td>45.025000</td>\n",
       "      <td>2.100175</td>\n",
       "      <td>4.000000</td>\n",
       "      <td>279.000000</td>\n",
       "      <td>17.400000</td>\n",
       "      <td>375.377500</td>\n",
       "      <td>6.950000</td>\n",
       "    </tr>\n",
       "    <tr>\n",
       "      <th>50%</th>\n",
       "      <td>0.256510</td>\n",
       "      <td>0.000000</td>\n",
       "      <td>9.690000</td>\n",
       "      <td>0.000000</td>\n",
       "      <td>0.538000</td>\n",
       "      <td>6.208500</td>\n",
       "      <td>77.500000</td>\n",
       "      <td>3.207450</td>\n",
       "      <td>5.000000</td>\n",
       "      <td>330.000000</td>\n",
       "      <td>19.050000</td>\n",
       "      <td>391.440000</td>\n",
       "      <td>11.360000</td>\n",
       "    </tr>\n",
       "    <tr>\n",
       "      <th>75%</th>\n",
       "      <td>3.677083</td>\n",
       "      <td>12.500000</td>\n",
       "      <td>18.100000</td>\n",
       "      <td>0.000000</td>\n",
       "      <td>0.624000</td>\n",
       "      <td>6.623500</td>\n",
       "      <td>94.075000</td>\n",
       "      <td>5.188425</td>\n",
       "      <td>24.000000</td>\n",
       "      <td>666.000000</td>\n",
       "      <td>20.200000</td>\n",
       "      <td>396.225000</td>\n",
       "      <td>16.955000</td>\n",
       "    </tr>\n",
       "    <tr>\n",
       "      <th>max</th>\n",
       "      <td>88.976200</td>\n",
       "      <td>100.000000</td>\n",
       "      <td>27.740000</td>\n",
       "      <td>1.000000</td>\n",
       "      <td>0.871000</td>\n",
       "      <td>8.780000</td>\n",
       "      <td>100.000000</td>\n",
       "      <td>12.126500</td>\n",
       "      <td>24.000000</td>\n",
       "      <td>711.000000</td>\n",
       "      <td>22.000000</td>\n",
       "      <td>396.900000</td>\n",
       "      <td>37.970000</td>\n",
       "    </tr>\n",
       "  </tbody>\n",
       "</table>\n",
       "</div>"
      ],
      "text/plain": [
       "             CRIM          ZN       INDUS        CHAS         NOX          RM  \\\n",
       "count  506.000000  506.000000  506.000000  506.000000  506.000000  506.000000   \n",
       "mean     3.613524   11.363636   11.136779    0.069170    0.554695    6.284634   \n",
       "std      8.601545   23.322453    6.860353    0.253994    0.115878    0.702617   \n",
       "min      0.006320    0.000000    0.460000    0.000000    0.385000    3.561000   \n",
       "25%      0.082045    0.000000    5.190000    0.000000    0.449000    5.885500   \n",
       "50%      0.256510    0.000000    9.690000    0.000000    0.538000    6.208500   \n",
       "75%      3.677083   12.500000   18.100000    0.000000    0.624000    6.623500   \n",
       "max     88.976200  100.000000   27.740000    1.000000    0.871000    8.780000   \n",
       "\n",
       "              AGE         DIS         RAD         TAX     PTRATIO           B  \\\n",
       "count  506.000000  506.000000  506.000000  506.000000  506.000000  506.000000   \n",
       "mean    68.574901    3.795043    9.549407  408.237154   18.455534  356.674032   \n",
       "std     28.148861    2.105710    8.707259  168.537116    2.164946   91.294864   \n",
       "min      2.900000    1.129600    1.000000  187.000000   12.600000    0.320000   \n",
       "25%     45.025000    2.100175    4.000000  279.000000   17.400000  375.377500   \n",
       "50%     77.500000    3.207450    5.000000  330.000000   19.050000  391.440000   \n",
       "75%     94.075000    5.188425   24.000000  666.000000   20.200000  396.225000   \n",
       "max    100.000000   12.126500   24.000000  711.000000   22.000000  396.900000   \n",
       "\n",
       "            LSTAT  \n",
       "count  506.000000  \n",
       "mean    12.653063  \n",
       "std      7.141062  \n",
       "min      1.730000  \n",
       "25%      6.950000  \n",
       "50%     11.360000  \n",
       "75%     16.955000  \n",
       "max     37.970000  "
      ]
     },
     "execution_count": 49,
     "metadata": {},
     "output_type": "execute_result"
    }
   ],
   "source": [
    "house_df.describe()"
   ]
  },
  {
   "cell_type": "code",
   "execution_count": 50,
   "metadata": {
    "executionInfo": {
     "elapsed": 484,
     "status": "ok",
     "timestamp": 1632205974321,
     "user": {
      "displayName": "Rishav Das",
      "photoUrl": "https://lh3.googleusercontent.com/a-/AOh14GhkdaCMvA2ffaGPZMfcs0EkFFXTsKiwTyLisksJPto=s64",
      "userId": "09499082006741547774"
     },
     "user_tz": -330
    },
    "id": "h_gCEBBWL_sO"
   },
   "outputs": [],
   "source": [
    "house_df['Price'] = dataset.target"
   ]
  },
  {
   "cell_type": "code",
   "execution_count": 51,
   "metadata": {
    "colab": {
     "base_uri": "https://localhost:8080/",
     "height": 203
    },
    "executionInfo": {
     "elapsed": 9,
     "status": "ok",
     "timestamp": 1632205976041,
     "user": {
      "displayName": "Rishav Das",
      "photoUrl": "https://lh3.googleusercontent.com/a-/AOh14GhkdaCMvA2ffaGPZMfcs0EkFFXTsKiwTyLisksJPto=s64",
      "userId": "09499082006741547774"
     },
     "user_tz": -330
    },
    "id": "_YxOsLWbNF2b",
    "outputId": "1bc7a1ee-4317-4ba8-a258-3f945c421eab"
   },
   "outputs": [
    {
     "data": {
      "text/html": [
       "<div>\n",
       "<style scoped>\n",
       "    .dataframe tbody tr th:only-of-type {\n",
       "        vertical-align: middle;\n",
       "    }\n",
       "\n",
       "    .dataframe tbody tr th {\n",
       "        vertical-align: top;\n",
       "    }\n",
       "\n",
       "    .dataframe thead th {\n",
       "        text-align: right;\n",
       "    }\n",
       "</style>\n",
       "<table border=\"1\" class=\"dataframe\">\n",
       "  <thead>\n",
       "    <tr style=\"text-align: right;\">\n",
       "      <th></th>\n",
       "      <th>CRIM</th>\n",
       "      <th>ZN</th>\n",
       "      <th>INDUS</th>\n",
       "      <th>CHAS</th>\n",
       "      <th>NOX</th>\n",
       "      <th>RM</th>\n",
       "      <th>AGE</th>\n",
       "      <th>DIS</th>\n",
       "      <th>RAD</th>\n",
       "      <th>TAX</th>\n",
       "      <th>PTRATIO</th>\n",
       "      <th>B</th>\n",
       "      <th>LSTAT</th>\n",
       "      <th>Price</th>\n",
       "    </tr>\n",
       "  </thead>\n",
       "  <tbody>\n",
       "    <tr>\n",
       "      <th>0</th>\n",
       "      <td>0.00632</td>\n",
       "      <td>18.0</td>\n",
       "      <td>2.31</td>\n",
       "      <td>0.0</td>\n",
       "      <td>0.538</td>\n",
       "      <td>6.575</td>\n",
       "      <td>65.2</td>\n",
       "      <td>4.0900</td>\n",
       "      <td>1.0</td>\n",
       "      <td>296.0</td>\n",
       "      <td>15.3</td>\n",
       "      <td>396.90</td>\n",
       "      <td>4.98</td>\n",
       "      <td>24.0</td>\n",
       "    </tr>\n",
       "    <tr>\n",
       "      <th>1</th>\n",
       "      <td>0.02731</td>\n",
       "      <td>0.0</td>\n",
       "      <td>7.07</td>\n",
       "      <td>0.0</td>\n",
       "      <td>0.469</td>\n",
       "      <td>6.421</td>\n",
       "      <td>78.9</td>\n",
       "      <td>4.9671</td>\n",
       "      <td>2.0</td>\n",
       "      <td>242.0</td>\n",
       "      <td>17.8</td>\n",
       "      <td>396.90</td>\n",
       "      <td>9.14</td>\n",
       "      <td>21.6</td>\n",
       "    </tr>\n",
       "    <tr>\n",
       "      <th>2</th>\n",
       "      <td>0.02729</td>\n",
       "      <td>0.0</td>\n",
       "      <td>7.07</td>\n",
       "      <td>0.0</td>\n",
       "      <td>0.469</td>\n",
       "      <td>7.185</td>\n",
       "      <td>61.1</td>\n",
       "      <td>4.9671</td>\n",
       "      <td>2.0</td>\n",
       "      <td>242.0</td>\n",
       "      <td>17.8</td>\n",
       "      <td>392.83</td>\n",
       "      <td>4.03</td>\n",
       "      <td>34.7</td>\n",
       "    </tr>\n",
       "    <tr>\n",
       "      <th>3</th>\n",
       "      <td>0.03237</td>\n",
       "      <td>0.0</td>\n",
       "      <td>2.18</td>\n",
       "      <td>0.0</td>\n",
       "      <td>0.458</td>\n",
       "      <td>6.998</td>\n",
       "      <td>45.8</td>\n",
       "      <td>6.0622</td>\n",
       "      <td>3.0</td>\n",
       "      <td>222.0</td>\n",
       "      <td>18.7</td>\n",
       "      <td>394.63</td>\n",
       "      <td>2.94</td>\n",
       "      <td>33.4</td>\n",
       "    </tr>\n",
       "    <tr>\n",
       "      <th>4</th>\n",
       "      <td>0.06905</td>\n",
       "      <td>0.0</td>\n",
       "      <td>2.18</td>\n",
       "      <td>0.0</td>\n",
       "      <td>0.458</td>\n",
       "      <td>7.147</td>\n",
       "      <td>54.2</td>\n",
       "      <td>6.0622</td>\n",
       "      <td>3.0</td>\n",
       "      <td>222.0</td>\n",
       "      <td>18.7</td>\n",
       "      <td>396.90</td>\n",
       "      <td>5.33</td>\n",
       "      <td>36.2</td>\n",
       "    </tr>\n",
       "  </tbody>\n",
       "</table>\n",
       "</div>"
      ],
      "text/plain": [
       "      CRIM    ZN  INDUS  CHAS    NOX     RM   AGE     DIS  RAD    TAX  \\\n",
       "0  0.00632  18.0   2.31   0.0  0.538  6.575  65.2  4.0900  1.0  296.0   \n",
       "1  0.02731   0.0   7.07   0.0  0.469  6.421  78.9  4.9671  2.0  242.0   \n",
       "2  0.02729   0.0   7.07   0.0  0.469  7.185  61.1  4.9671  2.0  242.0   \n",
       "3  0.03237   0.0   2.18   0.0  0.458  6.998  45.8  6.0622  3.0  222.0   \n",
       "4  0.06905   0.0   2.18   0.0  0.458  7.147  54.2  6.0622  3.0  222.0   \n",
       "\n",
       "   PTRATIO       B  LSTAT  Price  \n",
       "0     15.3  396.90   4.98   24.0  \n",
       "1     17.8  396.90   9.14   21.6  \n",
       "2     17.8  392.83   4.03   34.7  \n",
       "3     18.7  394.63   2.94   33.4  \n",
       "4     18.7  396.90   5.33   36.2  "
      ]
     },
     "execution_count": 51,
     "metadata": {},
     "output_type": "execute_result"
    }
   ],
   "source": [
    "house_df.head()"
   ]
  },
  {
   "cell_type": "code",
   "execution_count": 52,
   "metadata": {
    "colab": {
     "base_uri": "https://localhost:8080/"
    },
    "executionInfo": {
     "elapsed": 575,
     "status": "ok",
     "timestamp": 1632205979147,
     "user": {
      "displayName": "Rishav Das",
      "photoUrl": "https://lh3.googleusercontent.com/a-/AOh14GhkdaCMvA2ffaGPZMfcs0EkFFXTsKiwTyLisksJPto=s64",
      "userId": "09499082006741547774"
     },
     "user_tz": -330
    },
    "id": "EYcG9nQVNF5D",
    "outputId": "d2343a3d-0549-49fb-d3e3-a5d218ad5d6c"
   },
   "outputs": [
    {
     "data": {
      "text/plain": [
       "(506, 14)"
      ]
     },
     "execution_count": 52,
     "metadata": {},
     "output_type": "execute_result"
    }
   ],
   "source": [
    "house_df.shape"
   ]
  },
  {
   "cell_type": "code",
   "execution_count": 53,
   "metadata": {
    "colab": {
     "base_uri": "https://localhost:8080/"
    },
    "executionInfo": {
     "elapsed": 40,
     "status": "ok",
     "timestamp": 1632205981147,
     "user": {
      "displayName": "Rishav Das",
      "photoUrl": "https://lh3.googleusercontent.com/a-/AOh14GhkdaCMvA2ffaGPZMfcs0EkFFXTsKiwTyLisksJPto=s64",
      "userId": "09499082006741547774"
     },
     "user_tz": -330
    },
    "id": "RVkE5VZ5NF7n",
    "outputId": "05eb7dac-c5d3-436a-89dc-80083bf181b1"
   },
   "outputs": [
    {
     "data": {
      "text/plain": [
       "CRIM       0\n",
       "ZN         0\n",
       "INDUS      0\n",
       "CHAS       0\n",
       "NOX        0\n",
       "RM         0\n",
       "AGE        0\n",
       "DIS        0\n",
       "RAD        0\n",
       "TAX        0\n",
       "PTRATIO    0\n",
       "B          0\n",
       "LSTAT      0\n",
       "Price      0\n",
       "dtype: int64"
      ]
     },
     "execution_count": 53,
     "metadata": {},
     "output_type": "execute_result"
    }
   ],
   "source": [
    "house_df.isnull().sum()"
   ]
  },
  {
   "cell_type": "code",
   "execution_count": 54,
   "metadata": {
    "colab": {
     "base_uri": "https://localhost:8080/",
     "height": 665
    },
    "executionInfo": {
     "elapsed": 1334,
     "status": "ok",
     "timestamp": 1632205985224,
     "user": {
      "displayName": "Rishav Das",
      "photoUrl": "https://lh3.googleusercontent.com/a-/AOh14GhkdaCMvA2ffaGPZMfcs0EkFFXTsKiwTyLisksJPto=s64",
      "userId": "09499082006741547774"
     },
     "user_tz": -330
    },
    "id": "wqayiQ4jNF-N",
    "outputId": "3e8135b0-8b25-4f56-cc6f-446ccb263396"
   },
   "outputs": [
    {
     "data": {
      "image/png": "[encoded data removed]",
      "text/plain": [
       "<Figure size 1080x720 with 1 Axes>"
      ]
     },
     "metadata": {},
     "output_type": "display_data"
    }
   ],
   "source": [
    "sns.set(rc = {'figure.figsize': (15, 10)})\n",
    "sns.distplot(house_df['AGE'], bins=30)\n",
    "plt.show()"
   ]
  },
  {
   "cell_type": "code",
   "execution_count": 55,
   "metadata": {
    "colab": {
     "base_uri": "https://localhost:8080/",
     "height": 665
    },
    "executionInfo": {
     "elapsed": 1113,
     "status": "ok",
     "timestamp": 1632205989398,
     "user": {
      "displayName": "Rishav Das",
      "photoUrl": "https://lh3.googleusercontent.com/a-/AOh14GhkdaCMvA2ffaGPZMfcs0EkFFXTsKiwTyLisksJPto=s64",
      "userId": "09499082006741547774"
     },
     "user_tz": -330
    },
    "id": "2Bh-RYIzNGA-",
    "outputId": "7993f467-3ad7-4e5f-de23-1f7a5a369eaf"
   },
   "outputs": [
    {
     "data": {
      "image/png": "[encoded data removed]",
      "text/plain": [
       "<Figure size 1080x720 with 1 Axes>"
      ]
     },
     "metadata": {},
     "output_type": "display_data"
    }
   ],
   "source": [
    "sns.set(rc = {'figure.figsize': (15, 10)})\n",
    "sns.distplot(house_df['DIS'], bins=30)\n",
    "plt.show()"
   ]
  },
  {
   "cell_type": "code",
   "execution_count": 56,
   "metadata": {
    "colab": {
     "base_uri": "https://localhost:8080/",
     "height": 615
    },
    "executionInfo": {
     "elapsed": 3018,
     "status": "ok",
     "timestamp": 1632205995609,
     "user": {
      "displayName": "Rishav Das",
      "photoUrl": "https://lh3.googleusercontent.com/a-/AOh14GhkdaCMvA2ffaGPZMfcs0EkFFXTsKiwTyLisksJPto=s64",
      "userId": "09499082006741547774"
     },
     "user_tz": -330
    },
    "id": "IVSwrQfQReN2",
    "outputId": "897e4ee6-b5d3-4f65-c9fd-2f3e73cab3de"
   },
   "outputs": [
    {
     "data": {
      "text/plain": [
       "<AxesSubplot:>"
      ]
     },
     "execution_count": 56,
     "metadata": {},
     "output_type": "execute_result"
    },
    {
     "data": {
      "image/png": "[encoded data removed]",
      "text/plain": [
       "<Figure size 1080x720 with 2 Axes>"
      ]
     },
     "metadata": {},
     "output_type": "display_data"
    }
   ],
   "source": [
    "correlation_matrix = house_df.corr().round(2)\n",
    "sns.heatmap(data=correlation_matrix, annot= True)"
   ]
  },
  {
   "cell_type": "code",
   "execution_count": 57,
   "metadata": {
    "colab": {
     "base_uri": "https://localhost:8080/",
     "height": 665
    },
    "executionInfo": {
     "elapsed": 1120,
     "status": "ok",
     "timestamp": 1632206000149,
     "user": {
      "displayName": "Rishav Das",
      "photoUrl": "https://lh3.googleusercontent.com/a-/AOh14GhkdaCMvA2ffaGPZMfcs0EkFFXTsKiwTyLisksJPto=s64",
      "userId": "09499082006741547774"
     },
     "user_tz": -330
    },
    "id": "YINij52tReQN",
    "outputId": "ee1b31b3-693a-4a1a-b81b-26080561f629"
   },
   "outputs": [
    {
     "name": "stderr",
     "output_type": "stream",
     "text": [
      "*c* argument looks like a single numeric RGB or RGBA sequence, which should be avoided as value-mapping will have precedence in case its length matches with *x* & *y*.  Please use the *color* keyword-argument or provide a 2D array with a single row if you intend to specify the same RGB or RGBA value for all points.\n"
     ]
    },
    {
     "data": {
      "text/plain": [
       "<AxesSubplot:xlabel='DIS', ylabel='AGE'>"
      ]
     },
     "execution_count": 57,
     "metadata": {},
     "output_type": "execute_result"
    },
    {
     "data": {
      "image/png": "[encoded data removed]",
      "text/plain": [
       "<Figure size 1080x720 with 1 Axes>"
      ]
     },
     "metadata": {},
     "output_type": "display_data"
    }
   ],
   "source": [
    "house_df.plot.scatter(x='DIS', y='AGE')"
   ]
  },
  {
   "cell_type": "code",
   "execution_count": 58,
   "metadata": {
    "colab": {
     "base_uri": "https://localhost:8080/"
    },
    "executionInfo": {
     "elapsed": 447,
     "status": "ok",
     "timestamp": 1632206004554,
     "user": {
      "displayName": "Rishav Das",
      "photoUrl": "https://lh3.googleusercontent.com/a-/AOh14GhkdaCMvA2ffaGPZMfcs0EkFFXTsKiwTyLisksJPto=s64",
      "userId": "09499082006741547774"
     },
     "user_tz": -330
    },
    "id": "MyFRhkJfReS4",
    "outputId": "b5f50096-fea5-4d1c-9995-7b78be2e09c4"
   },
   "outputs": [
    {
     "name": "stdout",
     "output_type": "stream",
     "text": [
      "(506, 13) (506,)\n"
     ]
    }
   ],
   "source": [
    "x = dataset.data\n",
    "y = dataset.target\n",
    "print(x.shape, y.shape)"
   ]
  },
  {
   "cell_type": "code",
   "execution_count": 59,
   "metadata": {
    "colab": {
     "base_uri": "https://localhost:8080/"
    },
    "executionInfo": {
     "elapsed": 11,
     "status": "ok",
     "timestamp": 1632206006994,
     "user": {
      "displayName": "Rishav Das",
      "photoUrl": "https://lh3.googleusercontent.com/a-/AOh14GhkdaCMvA2ffaGPZMfcs0EkFFXTsKiwTyLisksJPto=s64",
      "userId": "09499082006741547774"
     },
     "user_tz": -330
    },
    "id": "bHQ6Edup9per",
    "outputId": "21a6b67d-3ffe-4080-aded-9ed9a0978a25"
   },
   "outputs": [
    {
     "data": {
      "text/plain": [
       "array(['CRIM', 'ZN', 'INDUS', 'CHAS', 'NOX', 'RM', 'AGE', 'DIS', 'RAD',\n",
       "       'TAX', 'PTRATIO', 'B', 'LSTAT', 'Price'], dtype=object)"
      ]
     },
     "execution_count": 59,
     "metadata": {},
     "output_type": "execute_result"
    }
   ],
   "source": [
    "house_df.columns.values"
   ]
  },
  {
   "cell_type": "code",
   "execution_count": 60,
   "metadata": {
    "colab": {
     "base_uri": "https://localhost:8080/"
    },
    "executionInfo": {
     "elapsed": 24,
     "status": "ok",
     "timestamp": 1632206009388,
     "user": {
      "displayName": "Rishav Das",
      "photoUrl": "https://lh3.googleusercontent.com/a-/AOh14GhkdaCMvA2ffaGPZMfcs0EkFFXTsKiwTyLisksJPto=s64",
      "userId": "09499082006741547774"
     },
     "user_tz": -330
    },
    "id": "64aomBIuReVY",
    "outputId": "307f6724-30c5-4200-d2f6-55d6ba2eeef8"
   },
   "outputs": [
    {
     "name": "stdout",
     "output_type": "stream",
     "text": [
      "(404, 13) (102, 13) (404,) (102,)\n"
     ]
    }
   ],
   "source": [
    "X_train, X_test, Y_train, Y_test = train_test_split(x, y, test_size=0.20, random_state= 42)\n",
    "print(X_train.shape, X_test.shape, Y_train.shape, Y_test.shape)"
   ]
  },
  {
   "cell_type": "markdown",
   "metadata": {},
   "source": [
    "### `Preprocessing of data`"
   ]
  },
  {
   "cell_type": "code",
   "execution_count": 61,
   "metadata": {
    "executionInfo": {
     "elapsed": 486,
     "status": "ok",
     "timestamp": 1632206012204,
     "user": {
      "displayName": "Rishav Das",
      "photoUrl": "https://lh3.googleusercontent.com/a-/AOh14GhkdaCMvA2ffaGPZMfcs0EkFFXTsKiwTyLisksJPto=s64",
      "userId": "09499082006741547774"
     },
     "user_tz": -330
    },
    "id": "-zeh-6FuRkU4"
   },
   "outputs": [],
   "source": [
    "train_x = preprocessing.normalize(X_train)\n",
    "test_x = preprocessing.normalize(X_test)"
   ]
  },
  {
   "cell_type": "code",
   "execution_count": 62,
   "metadata": {
    "colab": {
     "base_uri": "https://localhost:8080/"
    },
    "executionInfo": {
     "elapsed": 504,
     "status": "ok",
     "timestamp": 1632206016635,
     "user": {
      "displayName": "Rishav Das",
      "photoUrl": "https://lh3.googleusercontent.com/a-/AOh14GhkdaCMvA2ffaGPZMfcs0EkFFXTsKiwTyLisksJPto=s64",
      "userId": "09499082006741547774"
     },
     "user_tz": -330
    },
    "id": "XgQvol0fWxDu",
    "outputId": "2e15b793-907f-46cd-899d-fdf13cf49ce0"
   },
   "outputs": [
    {
     "data": {
      "text/plain": [
       "array([[1.97719051e-02, 0.00000000e+00, 2.38209381e-02, 0.00000000e+00,\n",
       "        8.08069392e-04, 6.98045612e-03, 1.28053993e-01, 2.76467650e-03,\n",
       "        3.15857743e-02, 8.76505236e-01, 2.65846934e-02, 4.59941516e-01,\n",
       "        3.27834016e-02],\n",
       "       [1.24337732e-03, 0.00000000e+00, 1.61320572e-02, 0.00000000e+00,\n",
       "        1.06622197e-03, 1.15619683e-02, 1.11973125e-01, 8.91543891e-03,\n",
       "        7.92730086e-03, 6.08420341e-01, 4.16183295e-02, 7.84049691e-01,\n",
       "        1.67860596e-02],\n",
       "       [7.29281484e-05, 7.36435428e-02, 1.27508534e-02, 0.00000000e+00,\n",
       "        9.21385926e-04, 1.26898345e-02, 4.90255585e-02, 1.39727050e-02,\n",
       "        2.10410122e-03, 6.39646772e-01, 3.55593107e-02, 7.62210668e-01,\n",
       "        1.64751126e-02],\n",
       "       [1.04781794e-02, 0.00000000e+00, 2.68998226e-02, 0.00000000e+00,\n",
       "        9.12513318e-04, 9.07014459e-03, 1.26473751e-01, 3.00475477e-03,\n",
       "        3.56682730e-02, 9.89794576e-01, 3.00207965e-02, 3.74516867e-03,\n",
       "        3.46130866e-02],\n",
       "       [1.44405380e-03, 0.00000000e+00, 1.61953678e-02, 0.00000000e+00,\n",
       "        1.07040637e-03, 1.13944560e-02, 1.38277403e-01, 7.55352751e-03,\n",
       "        7.95841170e-03, 6.10808098e-01, 4.17816614e-02, 7.77835264e-01,\n",
       "        2.24427210e-02]])"
      ]
     },
     "execution_count": 62,
     "metadata": {},
     "output_type": "execute_result"
    }
   ],
   "source": [
    "train_x[0:5]"
   ]
  },
  {
   "cell_type": "code",
   "execution_count": 63,
   "metadata": {
    "colab": {
     "base_uri": "https://localhost:8080/"
    },
    "executionInfo": {
     "elapsed": 822,
     "status": "ok",
     "timestamp": 1632206071608,
     "user": {
      "displayName": "Rishav Das",
      "photoUrl": "https://lh3.googleusercontent.com/a-/AOh14GhkdaCMvA2ffaGPZMfcs0EkFFXTsKiwTyLisksJPto=s64",
      "userId": "09499082006741547774"
     },
     "user_tz": -330
    },
    "id": "PNlr80aaD5gP",
    "outputId": "ac46c48d-9418-4aa5-dafd-c981f2dce70d"
   },
   "outputs": [
    {
     "data": {
      "text/plain": [
       "XGBRegressor(base_score=0.5, booster='gbtree', colsample_bylevel=1,\n",
       "             colsample_bynode=1, colsample_bytree=1, enable_categorical=False,\n",
       "             gamma=0, gpu_id=-1, importance_type=None,\n",
       "             interaction_constraints='', learning_rate=0.300000012,\n",
       "             max_delta_step=0, max_depth=6, min_child_weight=1, missing=nan,\n",
       "             monotone_constraints='()', n_estimators=100, n_jobs=4,\n",
       "             num_parallel_tree=1, predictor='auto', random_state=0, reg_alpha=0,\n",
       "             reg_lambda=1, scale_pos_weight=1, subsample=1, tree_method='exact',\n",
       "             validate_parameters=1, verbosity=None)"
      ]
     },
     "execution_count": 63,
     "metadata": {},
     "output_type": "execute_result"
    }
   ],
   "source": [
    "model = XGBRegressor()\n",
    "model.fit(train_x, Y_train)"
   ]
  },
  {
   "cell_type": "markdown",
   "metadata": {},
   "source": [
    "### `Do not include any activation function in last phase, it's regression`"
   ]
  },
  {
   "cell_type": "code",
   "execution_count": 64,
   "metadata": {
    "id": "pA8GuyXOWxLS"
   },
   "outputs": [],
   "source": [
    "network = tf.keras.Sequential()\n",
    "network.add(layers.Dense(128, activation='relu', input_shape=(13,)))\n",
    "network.add(layers.Dropout(0.2))\n",
    "network.add(layers.Dense(64, activation='relu'))\n",
    "# network.add(layers.Dropout(0.5)) ## will lead to over fitting\n",
    "### too much dropout can lead to overfitting\n",
    "network.add(layers.Dense(32, activation='relu'))\n",
    "network.add(layers.Dense(1))"
   ]
  },
  {
   "cell_type": "code",
   "execution_count": 65,
   "metadata": {
    "colab": {
     "base_uri": "https://localhost:8080/"
    },
    "executionInfo": {
     "elapsed": 555,
     "status": "ok",
     "timestamp": 1632119899999,
     "user": {
      "displayName": "Rishav Das",
      "photoUrl": "https://lh3.googleusercontent.com/a-/AOh14GhkdaCMvA2ffaGPZMfcs0EkFFXTsKiwTyLisksJPto=s64",
      "userId": "09499082006741547774"
     },
     "user_tz": -330
    },
    "id": "qKOiZxtOWxOI",
    "outputId": "87520ca5-a68e-4e06-a795-7f506ca381db"
   },
   "outputs": [],
   "source": [
    "network.compile(optimizer=tf.keras.optimizers.Adam(lr=0.01), loss='mse', metrics=['mae'])"
   ]
  },
  {
   "cell_type": "code",
   "execution_count": 66,
   "metadata": {
    "colab": {
     "base_uri": "https://localhost:8080/"
    },
    "executionInfo": {
     "elapsed": 9,
     "status": "ok",
     "timestamp": 1632119901792,
     "user": {
      "displayName": "Rishav Das",
      "photoUrl": "https://lh3.googleusercontent.com/a-/AOh14GhkdaCMvA2ffaGPZMfcs0EkFFXTsKiwTyLisksJPto=s64",
      "userId": "09499082006741547774"
     },
     "user_tz": -330
    },
    "id": "snKbsJT1b-48",
    "outputId": "6592c357-599c-4210-f212-c323cbb8c1db"
   },
   "outputs": [
    {
     "name": "stdout",
     "output_type": "stream",
     "text": [
      "Model: \"sequential_1\"\n",
      "_________________________________________________________________\n",
      " Layer (type)                Output Shape              Param #   \n",
      "=================================================================\n",
      " dense_4 (Dense)             (None, 128)               1792      \n",
      "                                                                 \n",
      " dropout_2 (Dropout)         (None, 128)               0         \n",
      "                                                                 \n",
      " dense_5 (Dense)             (None, 64)                8256      \n",
      "                                                                 \n",
      " dense_6 (Dense)             (None, 32)                2080      \n",
      "                                                                 \n",
      " dense_7 (Dense)             (None, 1)                 33        \n",
      "                                                                 \n",
      "=================================================================\n",
      "Total params: 12,161\n",
      "Trainable params: 12,161\n",
      "Non-trainable params: 0\n",
      "_________________________________________________________________\n",
      "None\n"
     ]
    }
   ],
   "source": [
    "print(network.summary())"
   ]
  },
  {
   "cell_type": "code",
   "execution_count": 67,
   "metadata": {
    "colab": {
     "base_uri": "https://localhost:8080/"
    },
    "executionInfo": {
     "elapsed": 70993,
     "status": "ok",
     "timestamp": 1632119976808,
     "user": {
      "displayName": "Rishav Das",
      "photoUrl": "https://lh3.googleusercontent.com/a-/AOh14GhkdaCMvA2ffaGPZMfcs0EkFFXTsKiwTyLisksJPto=s64",
      "userId": "09499082006741547774"
     },
     "user_tz": -330
    },
    "id": "zYjp6u-xb-_S",
    "outputId": "2056408b-12bb-4c73-dac2-7e37938a4c4f"
   },
   "outputs": [
    {
     "name": "stdout",
     "output_type": "stream",
     "text": [
      "Epoch 1/100\n",
      "404/404 [==============================] - 2s 3ms/step - loss: 104.3464 - mae: 7.0856 - val_loss: 55.5931 - val_mae: 6.2026\n",
      "Epoch 2/100\n",
      "404/404 [==============================] - 1s 2ms/step - loss: 74.7207 - mae: 6.2992 - val_loss: 40.8683 - val_mae: 3.9778\n",
      "Epoch 3/100\n",
      "404/404 [==============================] - 1s 2ms/step - loss: 73.9452 - mae: 6.3177 - val_loss: 34.7573 - val_mae: 3.7819\n",
      "Epoch 4/100\n",
      "404/404 [==============================] - 1s 2ms/step - loss: 69.3108 - mae: 5.9215 - val_loss: 35.3210 - val_mae: 4.1927\n",
      "Epoch 5/100\n",
      "404/404 [==============================] - 1s 2ms/step - loss: 61.9862 - mae: 5.6254 - val_loss: 32.8217 - val_mae: 3.5015\n",
      "Epoch 6/100\n",
      "404/404 [==============================] - 1s 2ms/step - loss: 54.4822 - mae: 5.3887 - val_loss: 45.6951 - val_mae: 4.3965\n",
      "Epoch 7/100\n",
      "404/404 [==============================] - 1s 3ms/step - loss: 51.0658 - mae: 5.0237 - val_loss: 26.9116 - val_mae: 3.2827\n",
      "Epoch 8/100\n",
      "404/404 [==============================] - 1s 2ms/step - loss: 53.4140 - mae: 5.0996 - val_loss: 24.5306 - val_mae: 3.3281\n",
      "Epoch 9/100\n",
      "404/404 [==============================] - 1s 3ms/step - loss: 44.2107 - mae: 4.8191 - val_loss: 29.4518 - val_mae: 3.5212\n",
      "Epoch 10/100\n",
      "404/404 [==============================] - 1s 3ms/step - loss: 48.8037 - mae: 5.0566 - val_loss: 26.5189 - val_mae: 3.2454\n",
      "Epoch 11/100\n",
      "404/404 [==============================] - 1s 2ms/step - loss: 42.8079 - mae: 4.7706 - val_loss: 34.8394 - val_mae: 3.8336\n",
      "Epoch 12/100\n",
      "404/404 [==============================] - 1s 2ms/step - loss: 42.7002 - mae: 4.9768 - val_loss: 33.6055 - val_mae: 4.8284\n",
      "Epoch 13/100\n",
      "404/404 [==============================] - 1s 2ms/step - loss: 38.3745 - mae: 4.5464 - val_loss: 21.5846 - val_mae: 3.3646\n",
      "Epoch 14/100\n",
      "404/404 [==============================] - 1s 2ms/step - loss: 46.1494 - mae: 4.8017 - val_loss: 23.1995 - val_mae: 3.3775\n",
      "Epoch 15/100\n",
      "404/404 [==============================] - 1s 2ms/step - loss: 43.7663 - mae: 4.7968 - val_loss: 28.7506 - val_mae: 3.6748\n",
      "Epoch 16/100\n",
      "404/404 [==============================] - 1s 2ms/step - loss: 46.1285 - mae: 4.7477 - val_loss: 21.9096 - val_mae: 3.3257\n",
      "Epoch 17/100\n",
      "404/404 [==============================] - 1s 3ms/step - loss: 35.5370 - mae: 4.4977 - val_loss: 31.2866 - val_mae: 3.5499\n",
      "Epoch 18/100\n",
      "404/404 [==============================] - 1s 3ms/step - loss: 33.7811 - mae: 4.2702 - val_loss: 20.1119 - val_mae: 3.0265\n",
      "Epoch 19/100\n",
      "404/404 [==============================] - 1s 3ms/step - loss: 44.3571 - mae: 4.7788 - val_loss: 32.4984 - val_mae: 3.6679\n",
      "Epoch 20/100\n",
      "404/404 [==============================] - 1s 2ms/step - loss: 45.0922 - mae: 4.8732 - val_loss: 21.2079 - val_mae: 3.1733\n",
      "Epoch 21/100\n",
      "404/404 [==============================] - 1s 3ms/step - loss: 39.7598 - mae: 4.5052 - val_loss: 29.4026 - val_mae: 3.6363\n",
      "Epoch 22/100\n",
      "404/404 [==============================] - 1s 2ms/step - loss: 36.0687 - mae: 4.3031 - val_loss: 19.9040 - val_mae: 3.3512\n",
      "Epoch 23/100\n",
      "404/404 [==============================] - 1s 2ms/step - loss: 39.0125 - mae: 4.5594 - val_loss: 21.9405 - val_mae: 3.2952\n",
      "Epoch 24/100\n",
      "404/404 [==============================] - 1s 2ms/step - loss: 35.7325 - mae: 4.3411 - val_loss: 28.0149 - val_mae: 4.2836\n",
      "Epoch 25/100\n",
      "404/404 [==============================] - 1s 2ms/step - loss: 41.4025 - mae: 4.6277 - val_loss: 28.7176 - val_mae: 4.1431\n",
      "Epoch 26/100\n",
      "404/404 [==============================] - 1s 3ms/step - loss: 43.1132 - mae: 4.6258 - val_loss: 19.6437 - val_mae: 3.1520\n",
      "Epoch 27/100\n",
      "404/404 [==============================] - 1s 3ms/step - loss: 33.3123 - mae: 4.2171 - val_loss: 40.3381 - val_mae: 3.9872\n",
      "Epoch 28/100\n",
      "404/404 [==============================] - 1s 3ms/step - loss: 38.7156 - mae: 4.5183 - val_loss: 26.6328 - val_mae: 3.5057\n",
      "Epoch 29/100\n",
      "404/404 [==============================] - 1s 3ms/step - loss: 31.7156 - mae: 3.9881 - val_loss: 24.4569 - val_mae: 3.4553\n",
      "Epoch 30/100\n",
      "404/404 [==============================] - 1s 3ms/step - loss: 36.4207 - mae: 4.3541 - val_loss: 23.0138 - val_mae: 3.2338\n",
      "Epoch 31/100\n",
      "404/404 [==============================] - 1s 3ms/step - loss: 34.5636 - mae: 4.2178 - val_loss: 21.3607 - val_mae: 3.3460\n",
      "Epoch 32/100\n",
      "404/404 [==============================] - 1s 2ms/step - loss: 36.4780 - mae: 4.3629 - val_loss: 19.1106 - val_mae: 2.8638\n",
      "Epoch 33/100\n",
      "404/404 [==============================] - 1s 2ms/step - loss: 35.5735 - mae: 4.1733 - val_loss: 22.6355 - val_mae: 3.4934\n",
      "Epoch 34/100\n",
      "404/404 [==============================] - 1s 2ms/step - loss: 33.8074 - mae: 4.1358 - val_loss: 19.8908 - val_mae: 3.2285\n",
      "Epoch 35/100\n",
      "404/404 [==============================] - 1s 2ms/step - loss: 36.1238 - mae: 4.4596 - val_loss: 23.3296 - val_mae: 3.0683\n",
      "Epoch 36/100\n",
      "404/404 [==============================] - 1s 2ms/step - loss: 38.4808 - mae: 4.4809 - val_loss: 25.3633 - val_mae: 3.3601\n",
      "Epoch 37/100\n",
      "404/404 [==============================] - 1s 2ms/step - loss: 37.0537 - mae: 4.3881 - val_loss: 25.8028 - val_mae: 3.4307\n",
      "Epoch 38/100\n",
      "404/404 [==============================] - 1s 2ms/step - loss: 37.4414 - mae: 4.3789 - val_loss: 20.5044 - val_mae: 3.0137\n",
      "Epoch 39/100\n",
      "404/404 [==============================] - 1s 2ms/step - loss: 37.6065 - mae: 4.2595 - val_loss: 22.5498 - val_mae: 3.7113\n",
      "Epoch 40/100\n",
      "404/404 [==============================] - 1s 2ms/step - loss: 34.6285 - mae: 4.2315 - val_loss: 29.6676 - val_mae: 3.6309\n",
      "Epoch 41/100\n",
      "404/404 [==============================] - 1s 2ms/step - loss: 31.5691 - mae: 4.0762 - val_loss: 30.1813 - val_mae: 3.5670\n",
      "Epoch 42/100\n",
      "404/404 [==============================] - 1s 2ms/step - loss: 39.8650 - mae: 4.4178 - val_loss: 26.1424 - val_mae: 3.3977\n",
      "Epoch 43/100\n",
      "404/404 [==============================] - 1s 2ms/step - loss: 34.1616 - mae: 4.2296 - val_loss: 18.5094 - val_mae: 3.0070\n",
      "Epoch 44/100\n",
      "404/404 [==============================] - 1s 2ms/step - loss: 40.9737 - mae: 4.5701 - val_loss: 21.6599 - val_mae: 3.2201\n",
      "Epoch 45/100\n",
      "404/404 [==============================] - 1s 2ms/step - loss: 36.9904 - mae: 4.2770 - val_loss: 19.5365 - val_mae: 3.0752\n",
      "Epoch 46/100\n",
      "404/404 [==============================] - 1s 2ms/step - loss: 37.6590 - mae: 4.3570 - val_loss: 23.3650 - val_mae: 3.1181\n",
      "Epoch 47/100\n",
      "404/404 [==============================] - 1s 2ms/step - loss: 34.7352 - mae: 4.2893 - val_loss: 23.7060 - val_mae: 3.0703\n",
      "Epoch 48/100\n",
      "404/404 [==============================] - 1s 2ms/step - loss: 37.9354 - mae: 4.2019 - val_loss: 32.8345 - val_mae: 4.6647\n",
      "Epoch 49/100\n",
      "404/404 [==============================] - 1s 2ms/step - loss: 33.2727 - mae: 4.2457 - val_loss: 38.9012 - val_mae: 5.2384\n",
      "Epoch 50/100\n",
      "404/404 [==============================] - 1s 2ms/step - loss: 37.3160 - mae: 4.4759 - val_loss: 25.2599 - val_mae: 3.9150\n",
      "Epoch 51/100\n",
      "404/404 [==============================] - 1s 2ms/step - loss: 35.0460 - mae: 4.1454 - val_loss: 27.4052 - val_mae: 4.1959\n",
      "Epoch 52/100\n",
      "404/404 [==============================] - 1s 2ms/step - loss: 38.2511 - mae: 4.3278 - val_loss: 33.9801 - val_mae: 4.8545\n",
      "Epoch 53/100\n",
      "404/404 [==============================] - 1s 2ms/step - loss: 36.4564 - mae: 4.2168 - val_loss: 26.4969 - val_mae: 3.3921\n",
      "Epoch 54/100\n",
      "404/404 [==============================] - 1s 2ms/step - loss: 33.0512 - mae: 4.0273 - val_loss: 24.1955 - val_mae: 3.8517\n",
      "Epoch 55/100\n",
      "404/404 [==============================] - 1s 2ms/step - loss: 39.5079 - mae: 4.4929 - val_loss: 23.6586 - val_mae: 3.3452\n",
      "Epoch 56/100\n",
      "404/404 [==============================] - 1s 2ms/step - loss: 38.0407 - mae: 4.3744 - val_loss: 21.4014 - val_mae: 2.9928\n",
      "Epoch 57/100\n",
      "404/404 [==============================] - 1s 2ms/step - loss: 28.8999 - mae: 3.8626 - val_loss: 20.3135 - val_mae: 3.0350\n",
      "Epoch 58/100\n",
      "404/404 [==============================] - 1s 3ms/step - loss: 36.6041 - mae: 4.2181 - val_loss: 27.2013 - val_mae: 3.5291\n",
      "Epoch 59/100\n",
      "404/404 [==============================] - 1s 3ms/step - loss: 33.1382 - mae: 4.0862 - val_loss: 22.1777 - val_mae: 3.0905\n",
      "Epoch 60/100\n",
      "404/404 [==============================] - 1s 3ms/step - loss: 34.9550 - mae: 4.1235 - val_loss: 29.1476 - val_mae: 3.2827\n",
      "Epoch 61/100\n"
     ]
    },
    {
     "name": "stdout",
     "output_type": "stream",
     "text": [
      "404/404 [==============================] - 1s 2ms/step - loss: 35.4779 - mae: 4.2718 - val_loss: 20.5747 - val_mae: 3.2665\n",
      "Epoch 62/100\n",
      "404/404 [==============================] - 1s 2ms/step - loss: 28.1050 - mae: 3.9441 - val_loss: 18.1421 - val_mae: 2.8855\n",
      "Epoch 63/100\n",
      "404/404 [==============================] - 1s 3ms/step - loss: 33.1753 - mae: 3.9839 - val_loss: 25.5949 - val_mae: 3.3881\n",
      "Epoch 64/100\n",
      "404/404 [==============================] - 1s 3ms/step - loss: 35.6303 - mae: 4.2873 - val_loss: 23.9764 - val_mae: 3.6146\n",
      "Epoch 65/100\n",
      "404/404 [==============================] - 1s 3ms/step - loss: 33.3482 - mae: 4.0493 - val_loss: 27.5444 - val_mae: 4.3127\n",
      "Epoch 66/100\n",
      "404/404 [==============================] - 1s 2ms/step - loss: 39.0173 - mae: 4.3306 - val_loss: 37.7267 - val_mae: 5.2141\n",
      "Epoch 67/100\n",
      "404/404 [==============================] - 1s 2ms/step - loss: 35.6163 - mae: 4.1968 - val_loss: 23.6217 - val_mae: 3.6879\n",
      "Epoch 68/100\n",
      "404/404 [==============================] - 1s 2ms/step - loss: 29.0491 - mae: 3.8408 - val_loss: 25.6656 - val_mae: 3.5247\n",
      "Epoch 69/100\n",
      "404/404 [==============================] - 1s 2ms/step - loss: 30.8706 - mae: 4.0005 - val_loss: 21.9327 - val_mae: 3.1228\n",
      "Epoch 70/100\n",
      "404/404 [==============================] - 1s 2ms/step - loss: 35.7789 - mae: 4.2651 - val_loss: 21.8456 - val_mae: 3.5171\n",
      "Epoch 71/100\n",
      "404/404 [==============================] - 1s 2ms/step - loss: 36.2642 - mae: 4.1254 - val_loss: 25.6195 - val_mae: 3.3586\n",
      "Epoch 72/100\n",
      "404/404 [==============================] - 1s 2ms/step - loss: 29.4857 - mae: 3.8263 - val_loss: 23.0018 - val_mae: 3.3021\n",
      "Epoch 73/100\n",
      "404/404 [==============================] - 1s 2ms/step - loss: 32.2743 - mae: 3.9863 - val_loss: 19.7506 - val_mae: 3.2217\n",
      "Epoch 74/100\n",
      "404/404 [==============================] - 1s 2ms/step - loss: 38.4604 - mae: 4.3205 - val_loss: 22.4732 - val_mae: 3.0443\n",
      "Epoch 75/100\n",
      "404/404 [==============================] - 1s 2ms/step - loss: 34.6116 - mae: 4.0877 - val_loss: 20.7834 - val_mae: 2.9080\n",
      "Epoch 76/100\n",
      "404/404 [==============================] - 1s 2ms/step - loss: 30.6910 - mae: 3.9369 - val_loss: 23.0715 - val_mae: 3.2565\n",
      "Epoch 77/100\n",
      "404/404 [==============================] - 1s 2ms/step - loss: 34.0717 - mae: 4.1642 - val_loss: 25.4795 - val_mae: 3.6345\n",
      "Epoch 78/100\n",
      "404/404 [==============================] - 1s 2ms/step - loss: 28.5516 - mae: 3.8890 - val_loss: 19.6948 - val_mae: 2.9583\n",
      "Epoch 79/100\n",
      "404/404 [==============================] - 1s 2ms/step - loss: 37.4828 - mae: 4.1927 - val_loss: 22.2412 - val_mae: 3.1792\n",
      "Epoch 80/100\n",
      "404/404 [==============================] - 1s 2ms/step - loss: 32.1169 - mae: 3.9475 - val_loss: 18.3191 - val_mae: 2.9333\n",
      "Epoch 81/100\n",
      "404/404 [==============================] - 1s 2ms/step - loss: 30.7137 - mae: 4.0168 - val_loss: 19.7033 - val_mae: 3.0291\n",
      "Epoch 82/100\n",
      "404/404 [==============================] - 1s 2ms/step - loss: 38.5594 - mae: 4.1054 - val_loss: 20.9126 - val_mae: 3.2176\n",
      "Epoch 83/100\n",
      "404/404 [==============================] - 1s 2ms/step - loss: 34.5838 - mae: 4.0484 - val_loss: 23.3524 - val_mae: 3.6623\n",
      "Epoch 84/100\n",
      "404/404 [==============================] - 1s 2ms/step - loss: 25.7020 - mae: 3.6893 - val_loss: 26.3103 - val_mae: 4.0588\n",
      "Epoch 85/100\n",
      "404/404 [==============================] - 1s 2ms/step - loss: 31.7241 - mae: 3.9648 - val_loss: 24.7260 - val_mae: 3.7851\n",
      "Epoch 86/100\n",
      "404/404 [==============================] - 1s 2ms/step - loss: 32.7101 - mae: 4.1014 - val_loss: 19.8691 - val_mae: 3.1289\n",
      "Epoch 87/100\n",
      "404/404 [==============================] - 1s 2ms/step - loss: 31.2065 - mae: 3.9770 - val_loss: 20.9786 - val_mae: 3.3136\n",
      "Epoch 88/100\n",
      "404/404 [==============================] - 1s 2ms/step - loss: 31.7541 - mae: 3.9267 - val_loss: 19.4106 - val_mae: 3.1422\n",
      "Epoch 89/100\n",
      "404/404 [==============================] - 1s 3ms/step - loss: 38.4620 - mae: 4.3303 - val_loss: 35.9329 - val_mae: 4.1761\n",
      "Epoch 90/100\n",
      "404/404 [==============================] - 1s 3ms/step - loss: 42.0751 - mae: 4.4990 - val_loss: 24.5244 - val_mae: 3.5768\n",
      "Epoch 91/100\n",
      "404/404 [==============================] - 1s 2ms/step - loss: 45.6095 - mae: 4.6396 - val_loss: 37.9692 - val_mae: 4.9095\n",
      "Epoch 92/100\n",
      "404/404 [==============================] - 1s 3ms/step - loss: 43.8795 - mae: 4.6076 - val_loss: 24.3158 - val_mae: 3.2420\n",
      "Epoch 93/100\n",
      "404/404 [==============================] - 1s 2ms/step - loss: 41.4672 - mae: 4.5816 - val_loss: 31.8601 - val_mae: 4.1701\n",
      "Epoch 94/100\n",
      "404/404 [==============================] - 1s 2ms/step - loss: 33.7483 - mae: 4.1671 - val_loss: 27.7744 - val_mae: 3.5806\n",
      "Epoch 95/100\n",
      "404/404 [==============================] - 1s 2ms/step - loss: 37.2149 - mae: 4.2080 - val_loss: 33.4062 - val_mae: 4.3520\n",
      "Epoch 96/100\n",
      "404/404 [==============================] - 1s 2ms/step - loss: 35.7019 - mae: 4.2118 - val_loss: 27.2929 - val_mae: 3.8476\n",
      "Epoch 97/100\n",
      "404/404 [==============================] - 1s 3ms/step - loss: 39.8372 - mae: 4.4720 - val_loss: 28.9806 - val_mae: 3.7952\n",
      "Epoch 98/100\n",
      "404/404 [==============================] - 1s 2ms/step - loss: 44.4534 - mae: 4.5614 - val_loss: 31.2580 - val_mae: 3.8950\n",
      "Epoch 99/100\n",
      "404/404 [==============================] - 1s 2ms/step - loss: 42.5038 - mae: 4.5743 - val_loss: 35.9971 - val_mae: 4.7664\n",
      "Epoch 100/100\n",
      "404/404 [==============================] - 1s 2ms/step - loss: 38.2560 - mae: 4.3539 - val_loss: 28.1017 - val_mae: 3.4003\n"
     ]
    }
   ],
   "source": [
    "history = network.fit(train_x, Y_train, epochs= 100, validation_data = (test_x, Y_test), batch_size= 1)"
   ]
  },
  {
   "cell_type": "code",
   "execution_count": 68,
   "metadata": {
    "executionInfo": {
     "elapsed": 439,
     "status": "ok",
     "timestamp": 1632206119587,
     "user": {
      "displayName": "Rishav Das",
      "photoUrl": "https://lh3.googleusercontent.com/a-/AOh14GhkdaCMvA2ffaGPZMfcs0EkFFXTsKiwTyLisksJPto=s64",
      "userId": "09499082006741547774"
     },
     "user_tz": -330
    },
    "id": "5Xz1MRy_eDnM"
   },
   "outputs": [],
   "source": [
    "pred_y = model.predict(np.reshape(test_x[0], (-1, 13)))"
   ]
  },
  {
   "cell_type": "code",
   "execution_count": 69,
   "metadata": {
    "colab": {
     "base_uri": "https://localhost:8080/"
    },
    "executionInfo": {
     "elapsed": 19,
     "status": "ok",
     "timestamp": 1632206121732,
     "user": {
      "displayName": "Rishav Das",
      "photoUrl": "https://lh3.googleusercontent.com/a-/AOh14GhkdaCMvA2ffaGPZMfcs0EkFFXTsKiwTyLisksJPto=s64",
      "userId": "09499082006741547774"
     },
     "user_tz": -330
    },
    "id": "Rix9-eTZCvtX",
    "outputId": "4650d780-9e6b-482b-aeb5-b6b080934194"
   },
   "outputs": [
    {
     "data": {
      "text/plain": [
       "array([23.475895], dtype=float32)"
      ]
     },
     "execution_count": 69,
     "metadata": {},
     "output_type": "execute_result"
    }
   ],
   "source": [
    "pred_y"
   ]
  },
  {
   "cell_type": "code",
   "execution_count": 70,
   "metadata": {
    "colab": {
     "base_uri": "https://localhost:8080/"
    },
    "executionInfo": {
     "elapsed": 1139,
     "status": "ok",
     "timestamp": 1632206142875,
     "user": {
      "displayName": "Rishav Das",
      "photoUrl": "https://lh3.googleusercontent.com/a-/AOh14GhkdaCMvA2ffaGPZMfcs0EkFFXTsKiwTyLisksJPto=s64",
      "userId": "09499082006741547774"
     },
     "user_tz": -330
    },
    "id": "qlHfkb5_9yxt",
    "outputId": "67bb76d9-9936-419e-e44e-60ce59ecedf6"
   },
   "outputs": [
    {
     "name": "stdout",
     "output_type": "stream",
     "text": [
      "24.0\n"
     ]
    }
   ],
   "source": [
    "print(y[0])"
   ]
  },
  {
   "cell_type": "code",
   "execution_count": 71,
   "metadata": {
    "executionInfo": {
     "elapsed": 12,
     "status": "ok",
     "timestamp": 1632206162448,
     "user": {
      "displayName": "Rishav Das",
      "photoUrl": "https://lh3.googleusercontent.com/a-/AOh14GhkdaCMvA2ffaGPZMfcs0EkFFXTsKiwTyLisksJPto=s64",
      "userId": "09499082006741547774"
     },
     "user_tz": -330
    },
    "id": "IUmBzor1eDsd"
   },
   "outputs": [],
   "source": [
    "vals = []\n",
    "for i in range(0, Y_train.__len__()):\n",
    "  val= model.predict(np.reshape(train_x[i], (-1, 13)))\n",
    "  vals.append(val[0])"
   ]
  },
  {
   "cell_type": "code",
   "execution_count": 72,
   "metadata": {
    "colab": {
     "base_uri": "https://localhost:8080/"
    },
    "executionInfo": {
     "elapsed": 64,
     "status": "ok",
     "timestamp": 1632206170130,
     "user": {
      "displayName": "Rishav Das",
      "photoUrl": "https://lh3.googleusercontent.com/a-/AOh14GhkdaCMvA2ffaGPZMfcs0EkFFXTsKiwTyLisksJPto=s64",
      "userId": "09499082006741547774"
     },
     "user_tz": -330
    },
    "id": "LGX9py2Ge9RG",
    "outputId": "fa394bc5-0486-47f0-e7ed-d56d3905ca74"
   },
   "outputs": [
    {
     "name": "stdout",
     "output_type": "stream",
     "text": [
      "404\n"
     ]
    }
   ],
   "source": [
    "print(vals.__len__())"
   ]
  },
  {
   "cell_type": "code",
   "execution_count": 73,
   "metadata": {
    "colab": {
     "base_uri": "https://localhost:8080/",
     "height": 611
    },
    "executionInfo": {
     "elapsed": 998,
     "status": "ok",
     "timestamp": 1632206173544,
     "user": {
      "displayName": "Rishav Das",
      "photoUrl": "https://lh3.googleusercontent.com/a-/AOh14GhkdaCMvA2ffaGPZMfcs0EkFFXTsKiwTyLisksJPto=s64",
      "userId": "09499082006741547774"
     },
     "user_tz": -330
    },
    "id": "pH-IAe7Pe9T8",
    "outputId": "a075874a-e8be-4c3e-cad2-316c1093187b"
   },
   "outputs": [
    {
     "data": {
      "image/png": "[encoded data removed]",
      "text/plain": [
       "<Figure size 1080x720 with 1 Axes>"
      ]
     },
     "metadata": {},
     "output_type": "display_data"
    }
   ],
   "source": [
    "fig, ax = plt.subplots()\n",
    "ax.scatter(Y_train, vals)\n",
    "ax.plot([y.min(), y.max()], [y.min(), y.max()], 'k--', lw=4)\n",
    "ax.set_xlabel('Actuals')\n",
    "ax.set_ylabel('Predicted')\n",
    "plt.show()"
   ]
  },
  {
   "cell_type": "markdown",
   "metadata": {
    "id": "iF2lyqM8e9XB"
   },
   "source": [
    "# `END -----------------------------------------`"
   ]
  }
 ],
 "metadata": {
  "colab": {
   "authorship_tag": "ABX9TyNmOZFYV0m5y3FW0gHK4o3L",
   "collapsed_sections": [],
   "name": "Basic_ANN_House_Price_prediction.ipynb",
   "provenance": []
  },
  "kernelspec": {
   "display_name": "Python 3 (ipykernel)",
   "language": "python",
   "name": "python3"
  },
  "language_info": {
   "codemirror_mode": {
    "name": "ipython",
    "version": 3
   },
   "file_extension": ".py",
   "mimetype": "text/x-python",
   "name": "python",
   "nbconvert_exporter": "python",
   "pygments_lexer": "ipython3",
   "version": "3.9.7"
  }
 },
 "nbformat": 4,
 "nbformat_minor": 1
}
