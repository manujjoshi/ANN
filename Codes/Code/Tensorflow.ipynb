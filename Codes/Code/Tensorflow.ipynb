{
 "cells": [
  {
   "cell_type": "markdown",
   "metadata": {},
   "source": [
    "# `Tensorflow --------------------------------------`\n",
    "\n",
    "### [Tensorflow Website => Explore it](https://www.tensorflow.org/)\n",
    "### [MLOps Website => Explore it](https://ml-ops.org/)\n",
    "### [Bring DevOps To Data Science With MLOps => Explore it](https://www.analyticsvidhya.com/blog/2021/04/bring-devops-to-data-science-with-continuous-mlops/)\n",
    "### [What is DevOps => Explore it](https://www.atlassian.com/devops)\n",
    "- Deep Learning Library\n",
    "- Used for building DL models\n",
    "- Designed by Google\n",
    "- DL model are mathematical models\n",
    "- Tensorflow has it's own data structure and it's own way of defining models\n",
    "- To make tensorflow more simpler we have keras\n",
    "- In 2020 tensorflow acquired keras\n",
    "- from tensorflow v2.0 keras was included\n",
    "- pytorch is good for vision related problem, made by facebook\n",
    "- Google have android and facebook have react, facebook app are way robust"
   ]
  },
  {
   "cell_type": "code",
   "execution_count": 1,
   "metadata": {
    "id": "AdkiSaeny5Tv"
   },
   "outputs": [],
   "source": [
    "# !pip install --user tensorflow\n",
    "# !pip install --user numpy "
   ]
  },
  {
   "cell_type": "code",
   "execution_count": 2,
   "metadata": {
    "executionInfo": {
     "elapsed": 3610,
     "status": "ok",
     "timestamp": 1638241710723,
     "user": {
      "displayName": "Rishav Das",
      "photoUrl": "https://lh3.googleusercontent.com/a-/AOh14GhkdaCMvA2ffaGPZMfcs0EkFFXTsKiwTyLisksJPto=s64",
      "userId": "09499082006741547774"
     },
     "user_tz": -330
    },
    "id": "X0-NYVEDzUUO"
   },
   "outputs": [
    {
     "name": "stderr",
     "output_type": "stream",
     "text": [
      "Using TensorFlow backend.\n"
     ]
    }
   ],
   "source": [
    "import tensorflow as tf\n",
    "import numpy as np\n",
    "import scipy as sc\n",
    "import math"
   ]
  },
  {
   "cell_type": "markdown",
   "metadata": {},
   "source": [
    "### tensorflow is a sub-programming langauge"
   ]
  },
  {
   "cell_type": "code",
   "execution_count": 7,
   "metadata": {
    "colab": {
     "base_uri": "https://localhost:8080/"
    },
    "executionInfo": {
     "elapsed": 476,
     "status": "ok",
     "timestamp": 1638242257685,
     "user": {
      "displayName": "Rishav Das",
      "photoUrl": "https://lh3.googleusercontent.com/a-/AOh14GhkdaCMvA2ffaGPZMfcs0EkFFXTsKiwTyLisksJPto=s64",
      "userId": "09499082006741547774"
     },
     "user_tz": -330
    },
    "id": "LncPOZ00zUXB",
    "outputId": "b1258391-b518-416b-ccfc-81dd4a3ebe92"
   },
   "outputs": [
    {
     "name": "stdout",
     "output_type": "stream",
     "text": [
      "<tf.Variable 'Variable:0' shape=() dtype=string, numpy=b'Innomatics Research Labs'>\n",
      "<tf.Variable 'Variable:0' shape=() dtype=int32, numpy=34>\n",
      "<tf.Variable 'Variable:0' shape=() dtype=float32, numpy=3.4>\n"
     ]
    }
   ],
   "source": [
    "string_val = tf.Variable('Innomatics Research Labs', tf.string)\n",
    "int_val = tf.Variable(34, tf.int32)\n",
    "float_val = tf.Variable(3.4, tf.float32)\n",
    "\n",
    "print(f'{string_val}\\n{int_val}\\n{float_val}')"
   ]
  },
  {
   "cell_type": "code",
   "execution_count": 5,
   "metadata": {
    "colab": {
     "base_uri": "https://localhost:8080/"
    },
    "executionInfo": {
     "elapsed": 455,
     "status": "ok",
     "timestamp": 1638242623424,
     "user": {
      "displayName": "Rishav Das",
      "photoUrl": "https://lh3.googleusercontent.com/a-/AOh14GhkdaCMvA2ffaGPZMfcs0EkFFXTsKiwTyLisksJPto=s64",
      "userId": "09499082006741547774"
     },
     "user_tz": -330
    },
    "id": "QWBeTNxPzUcJ",
    "outputId": "bdbaecd2-2942-4522-d4fb-4ffcd0658598"
   },
   "outputs": [
    {
     "name": "stdout",
     "output_type": "stream",
     "text": [
      "<tf.Variable 'Variable:0' shape=() dtype=string, numpy=b'Innomatics Research Labs'>\n"
     ]
    }
   ],
   "source": [
    "val = tf.Variable(\"Innomatics Research Labs\")\n",
    "print(val)"
   ]
  },
  {
   "cell_type": "code",
   "execution_count": 16,
   "metadata": {
    "colab": {
     "base_uri": "https://localhost:8080/"
    },
    "executionInfo": {
     "elapsed": 515,
     "status": "ok",
     "timestamp": 1638243096624,
     "user": {
      "displayName": "Rishav Das",
      "photoUrl": "https://lh3.googleusercontent.com/a-/AOh14GhkdaCMvA2ffaGPZMfcs0EkFFXTsKiwTyLisksJPto=s64",
      "userId": "09499082006741547774"
     },
     "user_tz": -330
    },
    "id": "bLd2ENkezUe-",
    "outputId": "4168a9ab-8b23-4205-944b-fc6a9dd5f947"
   },
   "outputs": [
    {
     "name": "stdout",
     "output_type": "stream",
     "text": [
      "<tf.Variable 'Variable:0' shape=(2, 2, 2) dtype=string, numpy=\n",
      "array([[[b'Test', b'deep'],\n",
      "        [b'Learning', b'AI']],\n",
      "\n",
      "       [[b'ML', b'Analytics'],\n",
      "        [b'DL', b'ML']]], dtype=object)>\n",
      "\n",
      "#############################\n",
      "\n",
      "Rank =>  tf.Tensor(3, shape=(), dtype=int32)\n"
     ]
    }
   ],
   "source": [
    "rank1_tensor = tf.Variable([[['Test', \"deep\"], ['Learning', 'AI']], [['ML', 'Analytics'], ['DL', 'ML']]])\n",
    "print(rank1_tensor)\n",
    "print('\\n#############################\\n')\n",
    "print('Rank => ',tf.rank(rank1_tensor))"
   ]
  },
  {
   "cell_type": "code",
   "execution_count": 22,
   "metadata": {},
   "outputs": [
    {
     "data": {
      "text/plain": [
       "<tf.Tensor: shape=(), dtype=string, numpy=b'deep'>"
      ]
     },
     "execution_count": 22,
     "metadata": {},
     "output_type": "execute_result"
    }
   ],
   "source": [
    "rank1_tensor[0][0][1]"
   ]
  },
  {
   "cell_type": "code",
   "execution_count": 10,
   "metadata": {},
   "outputs": [
    {
     "data": {
      "text/plain": [
       "<tf.Tensor: shape=(), dtype=string, numpy=b'ML'>"
      ]
     },
     "execution_count": 10,
     "metadata": {},
     "output_type": "execute_result"
    }
   ],
   "source": [
    "rank1_tensor[1][0][0]"
   ]
  },
  {
   "cell_type": "markdown",
   "metadata": {},
   "source": [
    "### tensorflow is using numpy v1.19, current version it is unable to access"
   ]
  },
  {
   "cell_type": "code",
   "execution_count": 23,
   "metadata": {
    "executionInfo": {
     "elapsed": 432,
     "status": "ok",
     "timestamp": 1638243513752,
     "user": {
      "displayName": "Rishav Das",
      "photoUrl": "https://lh3.googleusercontent.com/a-/AOh14GhkdaCMvA2ffaGPZMfcs0EkFFXTsKiwTyLisksJPto=s64",
      "userId": "09499082006741547774"
     },
     "user_tz": -330
    },
    "id": "cjXlPzYJzUhM"
   },
   "outputs": [],
   "source": [
    "tensor1 = tf.ones([1,2,3])\n",
    "tensor2 = tf.reshape(tensor1, [2,3,1])\n",
    "tensor3 = tf.reshape(tensor2, [3, 2])"
   ]
  },
  {
   "cell_type": "code",
   "execution_count": 24,
   "metadata": {
    "colab": {
     "base_uri": "https://localhost:8080/"
    },
    "executionInfo": {
     "elapsed": 436,
     "status": "ok",
     "timestamp": 1638243526535,
     "user": {
      "displayName": "Rishav Das",
      "photoUrl": "https://lh3.googleusercontent.com/a-/AOh14GhkdaCMvA2ffaGPZMfcs0EkFFXTsKiwTyLisksJPto=s64",
      "userId": "09499082006741547774"
     },
     "user_tz": -330
    },
    "id": "Sgeecbj1zUkB",
    "outputId": "53bbe45f-d4c4-461e-a50f-8bb84e3b5dd1"
   },
   "outputs": [
    {
     "name": "stdout",
     "output_type": "stream",
     "text": [
      "tf.Tensor(\n",
      "[[[1. 1. 1.]\n",
      "  [1. 1. 1.]]], shape=(1, 2, 3), dtype=float32)\n",
      "\n",
      "#############################\n",
      "\n",
      "tf.Tensor(\n",
      "[[[1.]\n",
      "  [1.]\n",
      "  [1.]]\n",
      "\n",
      " [[1.]\n",
      "  [1.]\n",
      "  [1.]]], shape=(2, 3, 1), dtype=float32)\n",
      "\n",
      "#############################\n",
      "\n",
      "tf.Tensor(\n",
      "[[1. 1.]\n",
      " [1. 1.]\n",
      " [1. 1.]], shape=(3, 2), dtype=float32)\n"
     ]
    }
   ],
   "source": [
    "print(tensor1)\n",
    "print('\\n#############################\\n')\n",
    "print(tensor2)\n",
    "print('\\n#############################\\n')\n",
    "print(tensor3)"
   ]
  },
  {
   "cell_type": "code",
   "execution_count": 25,
   "metadata": {
    "colab": {
     "base_uri": "https://localhost:8080/"
    },
    "executionInfo": {
     "elapsed": 455,
     "status": "ok",
     "timestamp": 1638243736744,
     "user": {
      "displayName": "Rishav Das",
      "photoUrl": "https://lh3.googleusercontent.com/a-/AOh14GhkdaCMvA2ffaGPZMfcs0EkFFXTsKiwTyLisksJPto=s64",
      "userId": "09499082006741547774"
     },
     "user_tz": -330
    },
    "id": "huwIQYe4zUuv",
    "outputId": "9d530350-bc58-4768-a030-10edcffb135e"
   },
   "outputs": [
    {
     "name": "stdout",
     "output_type": "stream",
     "text": [
      "tf.Tensor(2, shape=(), dtype=int32)\n",
      "\n",
      "#############################\n",
      "\n",
      "(4, 5)\n"
     ]
    }
   ],
   "source": [
    "matrix = [[1,2,3,4,5], [6,7,8,9,10], [11,12,13,14,15], [16, 17, 18, 19, 20]]\n",
    "tensor = tf.Variable(matrix, dtype=tf.int32)\n",
    "print(tf.rank(tensor))\n",
    "print('\\n#############################\\n')\n",
    "print(tensor.shape)"
   ]
  },
  {
   "cell_type": "code",
   "execution_count": 26,
   "metadata": {
    "colab": {
     "base_uri": "https://localhost:8080/"
    },
    "executionInfo": {
     "elapsed": 470,
     "status": "ok",
     "timestamp": 1638243871984,
     "user": {
      "displayName": "Rishav Das",
      "photoUrl": "https://lh3.googleusercontent.com/a-/AOh14GhkdaCMvA2ffaGPZMfcs0EkFFXTsKiwTyLisksJPto=s64",
      "userId": "09499082006741547774"
     },
     "user_tz": -330
    },
    "id": "Nl6s9E2UzUx1",
    "outputId": "d84495d3-61ff-4889-eb84-8ff1a517f4d8"
   },
   "outputs": [
    {
     "name": "stdout",
     "output_type": "stream",
     "text": [
      "tf.Tensor(4, shape=(), dtype=int32)\n",
      "\n",
      "#############################\n",
      "\n",
      "tf.Tensor([ 1  6 11 16], shape=(4,), dtype=int32)\n",
      "\n",
      "#############################\n",
      "\n",
      "tf.Tensor([1 2 3 4 5], shape=(5,), dtype=int32)\n"
     ]
    }
   ],
   "source": [
    "print(tensor[0,3])\n",
    "print('\\n#############################\\n')\n",
    "print(tensor[:, 0])\n",
    "print('\\n#############################\\n')\n",
    "print(tensor[0])"
   ]
  },
  {
   "cell_type": "code",
   "execution_count": 17,
   "metadata": {
    "colab": {
     "base_uri": "https://localhost:8080/"
    },
    "executionInfo": {
     "elapsed": 515,
     "status": "ok",
     "timestamp": 1638244238921,
     "user": {
      "displayName": "Rishav Das",
      "photoUrl": "https://lh3.googleusercontent.com/a-/AOh14GhkdaCMvA2ffaGPZMfcs0EkFFXTsKiwTyLisksJPto=s64",
      "userId": "09499082006741547774"
     },
     "user_tz": -330
    },
    "id": "Q3TwZ0tvzU0f",
    "outputId": "61e4a8e5-d883-4270-a3ca-d7fc2e4ace4b"
   },
   "outputs": [
    {
     "name": "stdout",
     "output_type": "stream",
     "text": [
      "<tf.Variable 'UnreadVariable' shape=() dtype=int32, numpy=74>\n"
     ]
    }
   ],
   "source": [
    "val = tf.Variable(14, tf.int32)\n",
    "val.assign(54)\n",
    "val = val.assign_add(20)\n",
    "print(val)"
   ]
  },
  {
   "cell_type": "code",
   "execution_count": 29,
   "metadata": {
    "colab": {
     "base_uri": "https://localhost:8080/"
    },
    "executionInfo": {
     "elapsed": 448,
     "status": "ok",
     "timestamp": 1638244402928,
     "user": {
      "displayName": "Rishav Das",
      "photoUrl": "https://lh3.googleusercontent.com/a-/AOh14GhkdaCMvA2ffaGPZMfcs0EkFFXTsKiwTyLisksJPto=s64",
      "userId": "09499082006741547774"
     },
     "user_tz": -330
    },
    "id": "e7tKr6U5zU3y",
    "outputId": "3bfaade3-49ff-41f0-faa5-5a0ef7921bd6"
   },
   "outputs": [
    {
     "name": "stdout",
     "output_type": "stream",
     "text": [
      "tf.Tensor(48, shape=(), dtype=int32)\n",
      "tf.Tensor(476, shape=(), dtype=int32)\n",
      "tf.Tensor(-20, shape=(), dtype=int32)\n",
      "tf.Tensor(0.4117647058823529, shape=(), dtype=float64)\n",
      "<class 'tensorflow.python.ops.resource_variable_ops.ResourceVariable'>\n"
     ]
    }
   ],
   "source": [
    "val = tf.Variable(14, tf.int32) \n",
    "print(val + 34)\n",
    "print(val * 34)\n",
    "print(val - 34)\n",
    "print(val / 34)\n",
    "print(type(val))"
   ]
  },
  {
   "cell_type": "code",
   "execution_count": 30,
   "metadata": {
    "colab": {
     "base_uri": "https://localhost:8080/",
     "height": 322
    },
    "executionInfo": {
     "elapsed": 482,
     "status": "error",
     "timestamp": 1638244952107,
     "user": {
      "displayName": "Rishav Das",
      "photoUrl": "https://lh3.googleusercontent.com/a-/AOh14GhkdaCMvA2ffaGPZMfcs0EkFFXTsKiwTyLisksJPto=s64",
      "userId": "09499082006741547774"
     },
     "user_tz": -330
    },
    "id": "StlW2F2lASsR",
    "outputId": "47c6150b-fc27-4436-b107-6b96a1ff7c8e"
   },
   "outputs": [
    {
     "name": "stdout",
     "output_type": "stream",
     "text": [
      "tf.Tensor([1 2 3 4 5 6], shape=(6,), dtype=int32)\n"
     ]
    }
   ],
   "source": [
    "val = tf.constant([1,2,3,4,5,6])\n",
    "print(val)"
   ]
  },
  {
   "cell_type": "markdown",
   "metadata": {},
   "source": [
    "### It's a constant we cannot make change to it"
   ]
  },
  {
   "cell_type": "code",
   "execution_count": 31,
   "metadata": {},
   "outputs": [
    {
     "ename": "AttributeError",
     "evalue": "'tensorflow.python.framework.ops.EagerTensor' object has no attribute 'assign_add'",
     "output_type": "error",
     "traceback": [
      "\u001b[1;31m---------------------------------------------------------------------------\u001b[0m",
      "\u001b[1;31mAttributeError\u001b[0m                            Traceback (most recent call last)",
      "\u001b[1;32m<ipython-input-31-ea124704c979>\u001b[0m in \u001b[0;36m<module>\u001b[1;34m\u001b[0m\n\u001b[1;32m----> 1\u001b[1;33m \u001b[0mval\u001b[0m  \u001b[1;33m=\u001b[0m \u001b[0mval\u001b[0m\u001b[1;33m.\u001b[0m\u001b[0massign_add\u001b[0m\u001b[1;33m(\u001b[0m\u001b[1;36m3\u001b[0m\u001b[1;33m)\u001b[0m\u001b[1;33m\u001b[0m\u001b[1;33m\u001b[0m\u001b[0m\n\u001b[0m\u001b[0;32m      2\u001b[0m \u001b[0mprint\u001b[0m\u001b[1;33m(\u001b[0m\u001b[0mval\u001b[0m\u001b[1;33m)\u001b[0m\u001b[1;33m\u001b[0m\u001b[1;33m\u001b[0m\u001b[0m\n",
      "\u001b[1;32m~\\Anaconda3\\lib\\site-packages\\tensorflow\\python\\framework\\ops.py\u001b[0m in \u001b[0;36m__getattr__\u001b[1;34m(self, name)\u001b[0m\n\u001b[0;32m    440\u001b[0m         \u001b[1;32mfrom\u001b[0m \u001b[0mtensorflow\u001b[0m\u001b[1;33m.\u001b[0m\u001b[0mpython\u001b[0m\u001b[1;33m.\u001b[0m\u001b[0mops\u001b[0m\u001b[1;33m.\u001b[0m\u001b[0mnumpy_ops\u001b[0m \u001b[1;32mimport\u001b[0m \u001b[0mnp_config\u001b[0m\u001b[1;33m\u001b[0m\u001b[1;33m\u001b[0m\u001b[0m\n\u001b[0;32m    441\u001b[0m         np_config.enable_numpy_behavior()\"\"\".format(type(self).__name__, name))\n\u001b[1;32m--> 442\u001b[1;33m     \u001b[0mself\u001b[0m\u001b[1;33m.\u001b[0m\u001b[0m__getattribute__\u001b[0m\u001b[1;33m(\u001b[0m\u001b[0mname\u001b[0m\u001b[1;33m)\u001b[0m\u001b[1;33m\u001b[0m\u001b[1;33m\u001b[0m\u001b[0m\n\u001b[0m\u001b[0;32m    443\u001b[0m \u001b[1;33m\u001b[0m\u001b[0m\n\u001b[0;32m    444\u001b[0m   \u001b[1;33m@\u001b[0m\u001b[0mstaticmethod\u001b[0m\u001b[1;33m\u001b[0m\u001b[1;33m\u001b[0m\u001b[0m\n",
      "\u001b[1;31mAttributeError\u001b[0m: 'tensorflow.python.framework.ops.EagerTensor' object has no attribute 'assign_add'"
     ]
    }
   ],
   "source": [
    "val  = val.assign_add(3)\n",
    "print(val)"
   ]
  },
  {
   "cell_type": "code",
   "execution_count": 21,
   "metadata": {
    "colab": {
     "base_uri": "https://localhost:8080/",
     "height": 165
    },
    "executionInfo": {
     "elapsed": 460,
     "status": "error",
     "timestamp": 1638245193283,
     "user": {
      "displayName": "Rishav Das",
      "photoUrl": "https://lh3.googleusercontent.com/a-/AOh14GhkdaCMvA2ffaGPZMfcs0EkFFXTsKiwTyLisksJPto=s64",
      "userId": "09499082006741547774"
     },
     "user_tz": -330
    },
    "id": "I4H6hH8LzU62",
    "outputId": "f7cdf09f-5f64-4cba-fe75-59526b2dc121"
   },
   "outputs": [
    {
     "ename": "AttributeError",
     "evalue": "ignored",
     "output_type": "error",
     "traceback": [
      "\u001b[0;31m---------------------------------------------------------------------------\u001b[0m",
      "\u001b[0;31mAttributeError\u001b[0m                            Traceback (most recent call last)",
      "\u001b[0;32m<ipython-input-21-9a46b989fc5d>\u001b[0m in \u001b[0;36m<module>\u001b[0;34m()\u001b[0m\n\u001b[0;32m----> 1\u001b[0;31m \u001b[0mx\u001b[0m \u001b[0;34m=\u001b[0m \u001b[0mtf\u001b[0m\u001b[0;34m.\u001b[0m\u001b[0mplaceholder\u001b[0m\u001b[0;34m(\u001b[0m\u001b[0;34m'float'\u001b[0m\u001b[0;34m,\u001b[0m \u001b[0;32mNone\u001b[0m\u001b[0;34m)\u001b[0m\u001b[0;34m\u001b[0m\u001b[0;34m\u001b[0m\u001b[0m\n\u001b[0m",
      "\u001b[0;31mAttributeError\u001b[0m: module 'tensorflow' has no attribute 'placeholder'"
     ]
    }
   ],
   "source": [
    "x = tf.placeholder('float', None)"
   ]
  },
  {
   "cell_type": "markdown",
   "metadata": {
    "id": "vpIJ8dQ6zU9V"
   },
   "source": [
    "### Placeholder is not avilable now\n",
    "### kernel => shell => tensorflow => keras  \n",
    "### kernel => shell => pytorch\n",
    "### => means ( on bottom of )"
   ]
  },
  {
   "cell_type": "markdown",
   "metadata": {
    "id": "CxEgenklzVAR"
   },
   "source": [
    "## `END ----------------------------------`"
   ]
  }
 ],
 "metadata": {
  "colab": {
   "authorship_tag": "ABX9TyPQYAjCEFMOZXURyOaJDdi6",
   "name": "Tensorflow.ipynb",
   "provenance": []
  },
  "kernelspec": {
   "display_name": "Python 3",
   "language": "python",
   "name": "python3"
  },
  "language_info": {
   "codemirror_mode": {
    "name": "ipython",
    "version": 3
   },
   "file_extension": ".py",
   "mimetype": "text/x-python",
   "name": "python",
   "nbconvert_exporter": "python",
   "pygments_lexer": "ipython3",
   "version": "3.8.8"
  }
 },
 "nbformat": 4,
 "nbformat_minor": 1
}
