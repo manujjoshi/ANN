{
 "cells": [
  {
   "cell_type": "markdown",
   "metadata": {},
   "source": [
    "# `Regression_Neurons -----------------------------------`\n",
    "### [Theory](http://localhost:8888/notebooks/DL_Concepts/ANN/Optimization%20functions.ipynb)"
   ]
  },
  {
   "cell_type": "code",
   "execution_count": 15,
   "metadata": {
    "executionInfo": {
     "elapsed": 547,
     "status": "ok",
     "timestamp": 1638416522497,
     "user": {
      "displayName": "Rishav Das",
      "photoUrl": "https://lh3.googleusercontent.com/a-/AOh14GhkdaCMvA2ffaGPZMfcs0EkFFXTsKiwTyLisksJPto=s64",
      "userId": "09499082006741547774"
     },
     "user_tz": -330
    },
    "id": "87EVPr9wBgZ-"
   },
   "outputs": [],
   "source": [
    "import numpy as np\n",
    "import pandas as pd\n",
    "import matplotlib.pyplot as plt \n",
    "import tensorflow as tf\n",
    "from tensorflow import keras\n",
    "from tensorflow.keras import layers\n",
    "import seaborn as sns\n",
    "from sklearn.model_selection import train_test_split\n",
    "from sklearn import preprocessing\n",
    "from sklearn import datasets\n",
    "import warnings\n",
    "warnings.filterwarnings('ignore')"
   ]
  },
  {
   "cell_type": "code",
   "execution_count": 31,
   "metadata": {
    "colab": {
     "base_uri": "https://localhost:8080/"
    },
    "executionInfo": {
     "elapsed": 479,
     "status": "ok",
     "timestamp": 1638416566246,
     "user": {
      "displayName": "Rishav Das",
      "photoUrl": "https://lh3.googleusercontent.com/a-/AOh14GhkdaCMvA2ffaGPZMfcs0EkFFXTsKiwTyLisksJPto=s64",
      "userId": "09499082006741547774"
     },
     "user_tz": -330
    },
    "id": "GILx-eNKPB1d",
    "outputId": "22047b3c-7456-43d0-8c5a-83f7dd8b30cb"
   },
   "outputs": [],
   "source": [
    "dataset_boston = datasets.load_boston()"
   ]
  },
  {
   "cell_type": "code",
   "execution_count": 32,
   "metadata": {
    "colab": {
     "base_uri": "https://localhost:8080/"
    },
    "executionInfo": {
     "elapsed": 538,
     "status": "ok",
     "timestamp": 1638416586753,
     "user": {
      "displayName": "Rishav Das",
      "photoUrl": "https://lh3.googleusercontent.com/a-/AOh14GhkdaCMvA2ffaGPZMfcs0EkFFXTsKiwTyLisksJPto=s64",
      "userId": "09499082006741547774"
     },
     "user_tz": -330
    },
    "id": "xp1-rgv6PB39",
    "outputId": "a727dde7-070a-4aac-a036-994619094a20"
   },
   "outputs": [
    {
     "data": {
      "text/plain": [
       "{'data': array([[6.3200e-03, 1.8000e+01, 2.3100e+00, ..., 1.5300e+01, 3.9690e+02,\n",
       "         4.9800e+00],\n",
       "        [2.7310e-02, 0.0000e+00, 7.0700e+00, ..., 1.7800e+01, 3.9690e+02,\n",
       "         9.1400e+00],\n",
       "        [2.7290e-02, 0.0000e+00, 7.0700e+00, ..., 1.7800e+01, 3.9283e+02,\n",
       "         4.0300e+00],\n",
       "        ...,\n",
       "        [6.0760e-02, 0.0000e+00, 1.1930e+01, ..., 2.1000e+01, 3.9690e+02,\n",
       "         5.6400e+00],\n",
       "        [1.0959e-01, 0.0000e+00, 1.1930e+01, ..., 2.1000e+01, 3.9345e+02,\n",
       "         6.4800e+00],\n",
       "        [4.7410e-02, 0.0000e+00, 1.1930e+01, ..., 2.1000e+01, 3.9690e+02,\n",
       "         7.8800e+00]]),\n",
       " 'target': array([24. , 21.6, 34.7, 33.4, 36.2, 28.7, 22.9, 27.1, 16.5, 18.9, 15. ,\n",
       "        18.9, 21.7, 20.4, 18.2, 19.9, 23.1, 17.5, 20.2, 18.2, 13.6, 19.6,\n",
       "        15.2, 14.5, 15.6, 13.9, 16.6, 14.8, 18.4, 21. , 12.7, 14.5, 13.2,\n",
       "        13.1, 13.5, 18.9, 20. , 21. , 24.7, 30.8, 34.9, 26.6, 25.3, 24.7,\n",
       "        21.2, 19.3, 20. , 16.6, 14.4, 19.4, 19.7, 20.5, 25. , 23.4, 18.9,\n",
       "        35.4, 24.7, 31.6, 23.3, 19.6, 18.7, 16. , 22.2, 25. , 33. , 23.5,\n",
       "        19.4, 22. , 17.4, 20.9, 24.2, 21.7, 22.8, 23.4, 24.1, 21.4, 20. ,\n",
       "        20.8, 21.2, 20.3, 28. , 23.9, 24.8, 22.9, 23.9, 26.6, 22.5, 22.2,\n",
       "        23.6, 28.7, 22.6, 22. , 22.9, 25. , 20.6, 28.4, 21.4, 38.7, 43.8,\n",
       "        33.2, 27.5, 26.5, 18.6, 19.3, 20.1, 19.5, 19.5, 20.4, 19.8, 19.4,\n",
       "        21.7, 22.8, 18.8, 18.7, 18.5, 18.3, 21.2, 19.2, 20.4, 19.3, 22. ,\n",
       "        20.3, 20.5, 17.3, 18.8, 21.4, 15.7, 16.2, 18. , 14.3, 19.2, 19.6,\n",
       "        23. , 18.4, 15.6, 18.1, 17.4, 17.1, 13.3, 17.8, 14. , 14.4, 13.4,\n",
       "        15.6, 11.8, 13.8, 15.6, 14.6, 17.8, 15.4, 21.5, 19.6, 15.3, 19.4,\n",
       "        17. , 15.6, 13.1, 41.3, 24.3, 23.3, 27. , 50. , 50. , 50. , 22.7,\n",
       "        25. , 50. , 23.8, 23.8, 22.3, 17.4, 19.1, 23.1, 23.6, 22.6, 29.4,\n",
       "        23.2, 24.6, 29.9, 37.2, 39.8, 36.2, 37.9, 32.5, 26.4, 29.6, 50. ,\n",
       "        32. , 29.8, 34.9, 37. , 30.5, 36.4, 31.1, 29.1, 50. , 33.3, 30.3,\n",
       "        34.6, 34.9, 32.9, 24.1, 42.3, 48.5, 50. , 22.6, 24.4, 22.5, 24.4,\n",
       "        20. , 21.7, 19.3, 22.4, 28.1, 23.7, 25. , 23.3, 28.7, 21.5, 23. ,\n",
       "        26.7, 21.7, 27.5, 30.1, 44.8, 50. , 37.6, 31.6, 46.7, 31.5, 24.3,\n",
       "        31.7, 41.7, 48.3, 29. , 24. , 25.1, 31.5, 23.7, 23.3, 22. , 20.1,\n",
       "        22.2, 23.7, 17.6, 18.5, 24.3, 20.5, 24.5, 26.2, 24.4, 24.8, 29.6,\n",
       "        42.8, 21.9, 20.9, 44. , 50. , 36. , 30.1, 33.8, 43.1, 48.8, 31. ,\n",
       "        36.5, 22.8, 30.7, 50. , 43.5, 20.7, 21.1, 25.2, 24.4, 35.2, 32.4,\n",
       "        32. , 33.2, 33.1, 29.1, 35.1, 45.4, 35.4, 46. , 50. , 32.2, 22. ,\n",
       "        20.1, 23.2, 22.3, 24.8, 28.5, 37.3, 27.9, 23.9, 21.7, 28.6, 27.1,\n",
       "        20.3, 22.5, 29. , 24.8, 22. , 26.4, 33.1, 36.1, 28.4, 33.4, 28.2,\n",
       "        22.8, 20.3, 16.1, 22.1, 19.4, 21.6, 23.8, 16.2, 17.8, 19.8, 23.1,\n",
       "        21. , 23.8, 23.1, 20.4, 18.5, 25. , 24.6, 23. , 22.2, 19.3, 22.6,\n",
       "        19.8, 17.1, 19.4, 22.2, 20.7, 21.1, 19.5, 18.5, 20.6, 19. , 18.7,\n",
       "        32.7, 16.5, 23.9, 31.2, 17.5, 17.2, 23.1, 24.5, 26.6, 22.9, 24.1,\n",
       "        18.6, 30.1, 18.2, 20.6, 17.8, 21.7, 22.7, 22.6, 25. , 19.9, 20.8,\n",
       "        16.8, 21.9, 27.5, 21.9, 23.1, 50. , 50. , 50. , 50. , 50. , 13.8,\n",
       "        13.8, 15. , 13.9, 13.3, 13.1, 10.2, 10.4, 10.9, 11.3, 12.3,  8.8,\n",
       "         7.2, 10.5,  7.4, 10.2, 11.5, 15.1, 23.2,  9.7, 13.8, 12.7, 13.1,\n",
       "        12.5,  8.5,  5. ,  6.3,  5.6,  7.2, 12.1,  8.3,  8.5,  5. , 11.9,\n",
       "        27.9, 17.2, 27.5, 15. , 17.2, 17.9, 16.3,  7. ,  7.2,  7.5, 10.4,\n",
       "         8.8,  8.4, 16.7, 14.2, 20.8, 13.4, 11.7,  8.3, 10.2, 10.9, 11. ,\n",
       "         9.5, 14.5, 14.1, 16.1, 14.3, 11.7, 13.4,  9.6,  8.7,  8.4, 12.8,\n",
       "        10.5, 17.1, 18.4, 15.4, 10.8, 11.8, 14.9, 12.6, 14.1, 13. , 13.4,\n",
       "        15.2, 16.1, 17.8, 14.9, 14.1, 12.7, 13.5, 14.9, 20. , 16.4, 17.7,\n",
       "        19.5, 20.2, 21.4, 19.9, 19. , 19.1, 19.1, 20.1, 19.9, 19.6, 23.2,\n",
       "        29.8, 13.8, 13.3, 16.7, 12. , 14.6, 21.4, 23. , 23.7, 25. , 21.8,\n",
       "        20.6, 21.2, 19.1, 20.6, 15.2,  7. ,  8.1, 13.6, 20.1, 21.8, 24.5,\n",
       "        23.1, 19.7, 18.3, 21.2, 17.5, 16.8, 22.4, 20.6, 23.9, 22. , 11.9]),\n",
       " 'feature_names': array(['CRIM', 'ZN', 'INDUS', 'CHAS', 'NOX', 'RM', 'AGE', 'DIS', 'RAD',\n",
       "        'TAX', 'PTRATIO', 'B', 'LSTAT'], dtype='<U7'),\n",
       " 'DESCR': \".. _boston_dataset:\\n\\nBoston house prices dataset\\n---------------------------\\n\\n**Data Set Characteristics:**  \\n\\n    :Number of Instances: 506 \\n\\n    :Number of Attributes: 13 numeric/categorical predictive. Median Value (attribute 14) is usually the target.\\n\\n    :Attribute Information (in order):\\n        - CRIM     per capita crime rate by town\\n        - ZN       proportion of residential land zoned for lots over 25,000 sq.ft.\\n        - INDUS    proportion of non-retail business acres per town\\n        - CHAS     Charles River dummy variable (= 1 if tract bounds river; 0 otherwise)\\n        - NOX      nitric oxides concentration (parts per 10 million)\\n        - RM       average number of rooms per dwelling\\n        - AGE      proportion of owner-occupied units built prior to 1940\\n        - DIS      weighted distances to five Boston employment centres\\n        - RAD      index of accessibility to radial highways\\n        - TAX      full-value property-tax rate per $10,000\\n        - PTRATIO  pupil-teacher ratio by town\\n        - B        1000(Bk - 0.63)^2 where Bk is the proportion of blacks by town\\n        - LSTAT    % lower status of the population\\n        - MEDV     Median value of owner-occupied homes in $1000's\\n\\n    :Missing Attribute Values: None\\n\\n    :Creator: Harrison, D. and Rubinfeld, D.L.\\n\\nThis is a copy of UCI ML housing dataset.\\nhttps://archive.ics.uci.edu/ml/machine-learning-databases/housing/\\n\\n\\nThis dataset was taken from the StatLib library which is maintained at Carnegie Mellon University.\\n\\nThe Boston house-price data of Harrison, D. and Rubinfeld, D.L. 'Hedonic\\nprices and the demand for clean air', J. Environ. Economics & Management,\\nvol.5, 81-102, 1978.   Used in Belsley, Kuh & Welsch, 'Regression diagnostics\\n...', Wiley, 1980.   N.B. Various transformations are used in the table on\\npages 244-261 of the latter.\\n\\nThe Boston house-price data has been used in many machine learning papers that address regression\\nproblems.   \\n     \\n.. topic:: References\\n\\n   - Belsley, Kuh & Welsch, 'Regression diagnostics: Identifying Influential Data and Sources of Collinearity', Wiley, 1980. 244-261.\\n   - Quinlan,R. (1993). Combining Instance-Based and Model-Based Learning. In Proceedings on the Tenth International Conference of Machine Learning, 236-243, University of Massachusetts, Amherst. Morgan Kaufmann.\\n\",\n",
       " 'filename': 'C:\\\\Users\\\\manuj\\\\Anaconda3\\\\lib\\\\site-packages\\\\sklearn\\\\datasets\\\\data\\\\boston_house_prices.csv'}"
      ]
     },
     "execution_count": 32,
     "metadata": {},
     "output_type": "execute_result"
    }
   ],
   "source": [
    "dataset_boston"
   ]
  },
  {
   "cell_type": "code",
   "execution_count": 34,
   "metadata": {
    "colab": {
     "base_uri": "https://localhost:8080/"
    },
    "executionInfo": {
     "elapsed": 567,
     "status": "ok",
     "timestamp": 1638416631169,
     "user": {
      "displayName": "Rishav Das",
      "photoUrl": "https://lh3.googleusercontent.com/a-/AOh14GhkdaCMvA2ffaGPZMfcs0EkFFXTsKiwTyLisksJPto=s64",
      "userId": "09499082006741547774"
     },
     "user_tz": -330
    },
    "id": "ZRsuJcaEPB68",
    "outputId": "7c35b4bf-892c-4e89-e89d-2ea015f01bd8"
   },
   "outputs": [
    {
     "name": "stdout",
     "output_type": "stream",
     "text": [
      ".. _boston_dataset:\n",
      "\n",
      "Boston house prices dataset\n",
      "---------------------------\n",
      "\n",
      "**Data Set Characteristics:**  \n",
      "\n",
      "    :Number of Instances: 506 \n",
      "\n",
      "    :Number of Attributes: 13 numeric/categorical predictive. Median Value (attribute 14) is usually the target.\n",
      "\n",
      "    :Attribute Information (in order):\n",
      "        - CRIM     per capita crime rate by town\n",
      "        - ZN       proportion of residential land zoned for lots over 25,000 sq.ft.\n",
      "        - INDUS    proportion of non-retail business acres per town\n",
      "        - CHAS     Charles River dummy variable (= 1 if tract bounds river; 0 otherwise)\n",
      "        - NOX      nitric oxides concentration (parts per 10 million)\n",
      "        - RM       average number of rooms per dwelling\n",
      "        - AGE      proportion of owner-occupied units built prior to 1940\n",
      "        - DIS      weighted distances to five Boston employment centres\n",
      "        - RAD      index of accessibility to radial highways\n",
      "        - TAX      full-value property-tax rate per $10,000\n",
      "        - PTRATIO  pupil-teacher ratio by town\n",
      "        - B        1000(Bk - 0.63)^2 where Bk is the proportion of blacks by town\n",
      "        - LSTAT    % lower status of the population\n",
      "        - MEDV     Median value of owner-occupied homes in $1000's\n",
      "\n",
      "    :Missing Attribute Values: None\n",
      "\n",
      "    :Creator: Harrison, D. and Rubinfeld, D.L.\n",
      "\n",
      "This is a copy of UCI ML housing dataset.\n",
      "https://archive.ics.uci.edu/ml/machine-learning-databases/housing/\n",
      "\n",
      "\n",
      "This dataset was taken from the StatLib library which is maintained at Carnegie Mellon University.\n",
      "\n",
      "The Boston house-price data of Harrison, D. and Rubinfeld, D.L. 'Hedonic\n",
      "prices and the demand for clean air', J. Environ. Economics & Management,\n",
      "vol.5, 81-102, 1978.   Used in Belsley, Kuh & Welsch, 'Regression diagnostics\n",
      "...', Wiley, 1980.   N.B. Various transformations are used in the table on\n",
      "pages 244-261 of the latter.\n",
      "\n",
      "The Boston house-price data has been used in many machine learning papers that address regression\n",
      "problems.   \n",
      "     \n",
      ".. topic:: References\n",
      "\n",
      "   - Belsley, Kuh & Welsch, 'Regression diagnostics: Identifying Influential Data and Sources of Collinearity', Wiley, 1980. 244-261.\n",
      "   - Quinlan,R. (1993). Combining Instance-Based and Model-Based Learning. In Proceedings on the Tenth International Conference of Machine Learning, 236-243, University of Massachusetts, Amherst. Morgan Kaufmann.\n",
      "\n"
     ]
    }
   ],
   "source": [
    "print(dataset_boston.DESCR)"
   ]
  },
  {
   "cell_type": "code",
   "execution_count": 35,
   "metadata": {
    "colab": {
     "base_uri": "https://localhost:8080/"
    },
    "executionInfo": {
     "elapsed": 549,
     "status": "ok",
     "timestamp": 1638416858785,
     "user": {
      "displayName": "Rishav Das",
      "photoUrl": "https://lh3.googleusercontent.com/a-/AOh14GhkdaCMvA2ffaGPZMfcs0EkFFXTsKiwTyLisksJPto=s64",
      "userId": "09499082006741547774"
     },
     "user_tz": -330
    },
    "id": "YGPGQNoAPCDM",
    "outputId": "080bffc7-e80c-42d3-e323-43585e8bb56b"
   },
   "outputs": [
    {
     "data": {
      "text/plain": [
       "dict_keys(['data', 'target', 'feature_names', 'DESCR', 'filename'])"
      ]
     },
     "execution_count": 35,
     "metadata": {},
     "output_type": "execute_result"
    }
   ],
   "source": [
    "dataset_boston.keys()"
   ]
  },
  {
   "cell_type": "code",
   "execution_count": 36,
   "metadata": {
    "executionInfo": {
     "elapsed": 505,
     "status": "ok",
     "timestamp": 1638416921399,
     "user": {
      "displayName": "Rishav Das",
      "photoUrl": "https://lh3.googleusercontent.com/a-/AOh14GhkdaCMvA2ffaGPZMfcs0EkFFXTsKiwTyLisksJPto=s64",
      "userId": "09499082006741547774"
     },
     "user_tz": -330
    },
    "id": "ezdMz8UfPCFz"
   },
   "outputs": [],
   "source": [
    "boston = pd.DataFrame(dataset_boston.data, columns=dataset_boston.feature_names)"
   ]
  },
  {
   "cell_type": "code",
   "execution_count": 37,
   "metadata": {
    "colab": {
     "base_uri": "https://localhost:8080/",
     "height": 206
    },
    "executionInfo": {
     "elapsed": 496,
     "status": "ok",
     "timestamp": 1638416931953,
     "user": {
      "displayName": "Rishav Das",
      "photoUrl": "https://lh3.googleusercontent.com/a-/AOh14GhkdaCMvA2ffaGPZMfcs0EkFFXTsKiwTyLisksJPto=s64",
      "userId": "09499082006741547774"
     },
     "user_tz": -330
    },
    "id": "YUW4LMLNPCIh",
    "outputId": "667a8579-44ef-4193-de1c-eadf78016337"
   },
   "outputs": [
    {
     "data": {
      "text/html": [
       "<div>\n",
       "<style scoped>\n",
       "    .dataframe tbody tr th:only-of-type {\n",
       "        vertical-align: middle;\n",
       "    }\n",
       "\n",
       "    .dataframe tbody tr th {\n",
       "        vertical-align: top;\n",
       "    }\n",
       "\n",
       "    .dataframe thead th {\n",
       "        text-align: right;\n",
       "    }\n",
       "</style>\n",
       "<table border=\"1\" class=\"dataframe\">\n",
       "  <thead>\n",
       "    <tr style=\"text-align: right;\">\n",
       "      <th></th>\n",
       "      <th>CRIM</th>\n",
       "      <th>ZN</th>\n",
       "      <th>INDUS</th>\n",
       "      <th>CHAS</th>\n",
       "      <th>NOX</th>\n",
       "      <th>RM</th>\n",
       "      <th>AGE</th>\n",
       "      <th>DIS</th>\n",
       "      <th>RAD</th>\n",
       "      <th>TAX</th>\n",
       "      <th>PTRATIO</th>\n",
       "      <th>B</th>\n",
       "      <th>LSTAT</th>\n",
       "    </tr>\n",
       "  </thead>\n",
       "  <tbody>\n",
       "    <tr>\n",
       "      <th>0</th>\n",
       "      <td>0.00632</td>\n",
       "      <td>18.0</td>\n",
       "      <td>2.31</td>\n",
       "      <td>0.0</td>\n",
       "      <td>0.538</td>\n",
       "      <td>6.575</td>\n",
       "      <td>65.2</td>\n",
       "      <td>4.0900</td>\n",
       "      <td>1.0</td>\n",
       "      <td>296.0</td>\n",
       "      <td>15.3</td>\n",
       "      <td>396.90</td>\n",
       "      <td>4.98</td>\n",
       "    </tr>\n",
       "    <tr>\n",
       "      <th>1</th>\n",
       "      <td>0.02731</td>\n",
       "      <td>0.0</td>\n",
       "      <td>7.07</td>\n",
       "      <td>0.0</td>\n",
       "      <td>0.469</td>\n",
       "      <td>6.421</td>\n",
       "      <td>78.9</td>\n",
       "      <td>4.9671</td>\n",
       "      <td>2.0</td>\n",
       "      <td>242.0</td>\n",
       "      <td>17.8</td>\n",
       "      <td>396.90</td>\n",
       "      <td>9.14</td>\n",
       "    </tr>\n",
       "    <tr>\n",
       "      <th>2</th>\n",
       "      <td>0.02729</td>\n",
       "      <td>0.0</td>\n",
       "      <td>7.07</td>\n",
       "      <td>0.0</td>\n",
       "      <td>0.469</td>\n",
       "      <td>7.185</td>\n",
       "      <td>61.1</td>\n",
       "      <td>4.9671</td>\n",
       "      <td>2.0</td>\n",
       "      <td>242.0</td>\n",
       "      <td>17.8</td>\n",
       "      <td>392.83</td>\n",
       "      <td>4.03</td>\n",
       "    </tr>\n",
       "    <tr>\n",
       "      <th>3</th>\n",
       "      <td>0.03237</td>\n",
       "      <td>0.0</td>\n",
       "      <td>2.18</td>\n",
       "      <td>0.0</td>\n",
       "      <td>0.458</td>\n",
       "      <td>6.998</td>\n",
       "      <td>45.8</td>\n",
       "      <td>6.0622</td>\n",
       "      <td>3.0</td>\n",
       "      <td>222.0</td>\n",
       "      <td>18.7</td>\n",
       "      <td>394.63</td>\n",
       "      <td>2.94</td>\n",
       "    </tr>\n",
       "    <tr>\n",
       "      <th>4</th>\n",
       "      <td>0.06905</td>\n",
       "      <td>0.0</td>\n",
       "      <td>2.18</td>\n",
       "      <td>0.0</td>\n",
       "      <td>0.458</td>\n",
       "      <td>7.147</td>\n",
       "      <td>54.2</td>\n",
       "      <td>6.0622</td>\n",
       "      <td>3.0</td>\n",
       "      <td>222.0</td>\n",
       "      <td>18.7</td>\n",
       "      <td>396.90</td>\n",
       "      <td>5.33</td>\n",
       "    </tr>\n",
       "  </tbody>\n",
       "</table>\n",
       "</div>"
      ],
      "text/plain": [
       "      CRIM    ZN  INDUS  CHAS    NOX     RM   AGE     DIS  RAD    TAX  \\\n",
       "0  0.00632  18.0   2.31   0.0  0.538  6.575  65.2  4.0900  1.0  296.0   \n",
       "1  0.02731   0.0   7.07   0.0  0.469  6.421  78.9  4.9671  2.0  242.0   \n",
       "2  0.02729   0.0   7.07   0.0  0.469  7.185  61.1  4.9671  2.0  242.0   \n",
       "3  0.03237   0.0   2.18   0.0  0.458  6.998  45.8  6.0622  3.0  222.0   \n",
       "4  0.06905   0.0   2.18   0.0  0.458  7.147  54.2  6.0622  3.0  222.0   \n",
       "\n",
       "   PTRATIO       B  LSTAT  \n",
       "0     15.3  396.90   4.98  \n",
       "1     17.8  396.90   9.14  \n",
       "2     17.8  392.83   4.03  \n",
       "3     18.7  394.63   2.94  \n",
       "4     18.7  396.90   5.33  "
      ]
     },
     "execution_count": 37,
     "metadata": {},
     "output_type": "execute_result"
    }
   ],
   "source": [
    "boston.head()"
   ]
  },
  {
   "cell_type": "code",
   "execution_count": 38,
   "metadata": {
    "colab": {
     "base_uri": "https://localhost:8080/",
     "height": 300
    },
    "executionInfo": {
     "elapsed": 634,
     "status": "ok",
     "timestamp": 1638416989461,
     "user": {
      "displayName": "Rishav Das",
      "photoUrl": "https://lh3.googleusercontent.com/a-/AOh14GhkdaCMvA2ffaGPZMfcs0EkFFXTsKiwTyLisksJPto=s64",
      "userId": "09499082006741547774"
     },
     "user_tz": -330
    },
    "id": "ItrIGDONPCLg",
    "outputId": "f47a3cb8-b0bf-4440-9523-162942ed0c27"
   },
   "outputs": [
    {
     "data": {
      "text/html": [
       "<div>\n",
       "<style scoped>\n",
       "    .dataframe tbody tr th:only-of-type {\n",
       "        vertical-align: middle;\n",
       "    }\n",
       "\n",
       "    .dataframe tbody tr th {\n",
       "        vertical-align: top;\n",
       "    }\n",
       "\n",
       "    .dataframe thead th {\n",
       "        text-align: right;\n",
       "    }\n",
       "</style>\n",
       "<table border=\"1\" class=\"dataframe\">\n",
       "  <thead>\n",
       "    <tr style=\"text-align: right;\">\n",
       "      <th></th>\n",
       "      <th>CRIM</th>\n",
       "      <th>ZN</th>\n",
       "      <th>INDUS</th>\n",
       "      <th>CHAS</th>\n",
       "      <th>NOX</th>\n",
       "      <th>RM</th>\n",
       "      <th>AGE</th>\n",
       "      <th>DIS</th>\n",
       "      <th>RAD</th>\n",
       "      <th>TAX</th>\n",
       "      <th>PTRATIO</th>\n",
       "      <th>B</th>\n",
       "      <th>LSTAT</th>\n",
       "    </tr>\n",
       "  </thead>\n",
       "  <tbody>\n",
       "    <tr>\n",
       "      <th>count</th>\n",
       "      <td>506.000000</td>\n",
       "      <td>506.000000</td>\n",
       "      <td>506.000000</td>\n",
       "      <td>506.000000</td>\n",
       "      <td>506.000000</td>\n",
       "      <td>506.000000</td>\n",
       "      <td>506.000000</td>\n",
       "      <td>506.000000</td>\n",
       "      <td>506.000000</td>\n",
       "      <td>506.000000</td>\n",
       "      <td>506.000000</td>\n",
       "      <td>506.000000</td>\n",
       "      <td>506.000000</td>\n",
       "    </tr>\n",
       "    <tr>\n",
       "      <th>mean</th>\n",
       "      <td>3.613524</td>\n",
       "      <td>11.363636</td>\n",
       "      <td>11.136779</td>\n",
       "      <td>0.069170</td>\n",
       "      <td>0.554695</td>\n",
       "      <td>6.284634</td>\n",
       "      <td>68.574901</td>\n",
       "      <td>3.795043</td>\n",
       "      <td>9.549407</td>\n",
       "      <td>408.237154</td>\n",
       "      <td>18.455534</td>\n",
       "      <td>356.674032</td>\n",
       "      <td>12.653063</td>\n",
       "    </tr>\n",
       "    <tr>\n",
       "      <th>std</th>\n",
       "      <td>8.601545</td>\n",
       "      <td>23.322453</td>\n",
       "      <td>6.860353</td>\n",
       "      <td>0.253994</td>\n",
       "      <td>0.115878</td>\n",
       "      <td>0.702617</td>\n",
       "      <td>28.148861</td>\n",
       "      <td>2.105710</td>\n",
       "      <td>8.707259</td>\n",
       "      <td>168.537116</td>\n",
       "      <td>2.164946</td>\n",
       "      <td>91.294864</td>\n",
       "      <td>7.141062</td>\n",
       "    </tr>\n",
       "    <tr>\n",
       "      <th>min</th>\n",
       "      <td>0.006320</td>\n",
       "      <td>0.000000</td>\n",
       "      <td>0.460000</td>\n",
       "      <td>0.000000</td>\n",
       "      <td>0.385000</td>\n",
       "      <td>3.561000</td>\n",
       "      <td>2.900000</td>\n",
       "      <td>1.129600</td>\n",
       "      <td>1.000000</td>\n",
       "      <td>187.000000</td>\n",
       "      <td>12.600000</td>\n",
       "      <td>0.320000</td>\n",
       "      <td>1.730000</td>\n",
       "    </tr>\n",
       "    <tr>\n",
       "      <th>25%</th>\n",
       "      <td>0.082045</td>\n",
       "      <td>0.000000</td>\n",
       "      <td>5.190000</td>\n",
       "      <td>0.000000</td>\n",
       "      <td>0.449000</td>\n",
       "      <td>5.885500</td>\n",
       "      <td>45.025000</td>\n",
       "      <td>2.100175</td>\n",
       "      <td>4.000000</td>\n",
       "      <td>279.000000</td>\n",
       "      <td>17.400000</td>\n",
       "      <td>375.377500</td>\n",
       "      <td>6.950000</td>\n",
       "    </tr>\n",
       "    <tr>\n",
       "      <th>50%</th>\n",
       "      <td>0.256510</td>\n",
       "      <td>0.000000</td>\n",
       "      <td>9.690000</td>\n",
       "      <td>0.000000</td>\n",
       "      <td>0.538000</td>\n",
       "      <td>6.208500</td>\n",
       "      <td>77.500000</td>\n",
       "      <td>3.207450</td>\n",
       "      <td>5.000000</td>\n",
       "      <td>330.000000</td>\n",
       "      <td>19.050000</td>\n",
       "      <td>391.440000</td>\n",
       "      <td>11.360000</td>\n",
       "    </tr>\n",
       "    <tr>\n",
       "      <th>75%</th>\n",
       "      <td>3.677083</td>\n",
       "      <td>12.500000</td>\n",
       "      <td>18.100000</td>\n",
       "      <td>0.000000</td>\n",
       "      <td>0.624000</td>\n",
       "      <td>6.623500</td>\n",
       "      <td>94.075000</td>\n",
       "      <td>5.188425</td>\n",
       "      <td>24.000000</td>\n",
       "      <td>666.000000</td>\n",
       "      <td>20.200000</td>\n",
       "      <td>396.225000</td>\n",
       "      <td>16.955000</td>\n",
       "    </tr>\n",
       "    <tr>\n",
       "      <th>max</th>\n",
       "      <td>88.976200</td>\n",
       "      <td>100.000000</td>\n",
       "      <td>27.740000</td>\n",
       "      <td>1.000000</td>\n",
       "      <td>0.871000</td>\n",
       "      <td>8.780000</td>\n",
       "      <td>100.000000</td>\n",
       "      <td>12.126500</td>\n",
       "      <td>24.000000</td>\n",
       "      <td>711.000000</td>\n",
       "      <td>22.000000</td>\n",
       "      <td>396.900000</td>\n",
       "      <td>37.970000</td>\n",
       "    </tr>\n",
       "  </tbody>\n",
       "</table>\n",
       "</div>"
      ],
      "text/plain": [
       "             CRIM          ZN       INDUS        CHAS         NOX          RM  \\\n",
       "count  506.000000  506.000000  506.000000  506.000000  506.000000  506.000000   \n",
       "mean     3.613524   11.363636   11.136779    0.069170    0.554695    6.284634   \n",
       "std      8.601545   23.322453    6.860353    0.253994    0.115878    0.702617   \n",
       "min      0.006320    0.000000    0.460000    0.000000    0.385000    3.561000   \n",
       "25%      0.082045    0.000000    5.190000    0.000000    0.449000    5.885500   \n",
       "50%      0.256510    0.000000    9.690000    0.000000    0.538000    6.208500   \n",
       "75%      3.677083   12.500000   18.100000    0.000000    0.624000    6.623500   \n",
       "max     88.976200  100.000000   27.740000    1.000000    0.871000    8.780000   \n",
       "\n",
       "              AGE         DIS         RAD         TAX     PTRATIO           B  \\\n",
       "count  506.000000  506.000000  506.000000  506.000000  506.000000  506.000000   \n",
       "mean    68.574901    3.795043    9.549407  408.237154   18.455534  356.674032   \n",
       "std     28.148861    2.105710    8.707259  168.537116    2.164946   91.294864   \n",
       "min      2.900000    1.129600    1.000000  187.000000   12.600000    0.320000   \n",
       "25%     45.025000    2.100175    4.000000  279.000000   17.400000  375.377500   \n",
       "50%     77.500000    3.207450    5.000000  330.000000   19.050000  391.440000   \n",
       "75%     94.075000    5.188425   24.000000  666.000000   20.200000  396.225000   \n",
       "max    100.000000   12.126500   24.000000  711.000000   22.000000  396.900000   \n",
       "\n",
       "            LSTAT  \n",
       "count  506.000000  \n",
       "mean    12.653063  \n",
       "std      7.141062  \n",
       "min      1.730000  \n",
       "25%      6.950000  \n",
       "50%     11.360000  \n",
       "75%     16.955000  \n",
       "max     37.970000  "
      ]
     },
     "execution_count": 38,
     "metadata": {},
     "output_type": "execute_result"
    }
   ],
   "source": [
    "boston.describe()"
   ]
  },
  {
   "cell_type": "code",
   "execution_count": 39,
   "metadata": {
    "colab": {
     "base_uri": "https://localhost:8080/"
    },
    "executionInfo": {
     "elapsed": 509,
     "status": "ok",
     "timestamp": 1638419229133,
     "user": {
      "displayName": "Rishav Das",
      "photoUrl": "https://lh3.googleusercontent.com/a-/AOh14GhkdaCMvA2ffaGPZMfcs0EkFFXTsKiwTyLisksJPto=s64",
      "userId": "09499082006741547774"
     },
     "user_tz": -330
    },
    "id": "0mdjDcB7ZVAl",
    "outputId": "54fa42d5-0eb0-44c7-feaf-5141b3352c67"
   },
   "outputs": [
    {
     "data": {
      "text/plain": [
       "(506, 13)"
      ]
     },
     "execution_count": 39,
     "metadata": {},
     "output_type": "execute_result"
    }
   ],
   "source": [
    "boston.shape"
   ]
  },
  {
   "cell_type": "code",
   "execution_count": 40,
   "metadata": {
    "executionInfo": {
     "elapsed": 540,
     "status": "ok",
     "timestamp": 1638417305512,
     "user": {
      "displayName": "Rishav Das",
      "photoUrl": "https://lh3.googleusercontent.com/a-/AOh14GhkdaCMvA2ffaGPZMfcs0EkFFXTsKiwTyLisksJPto=s64",
      "userId": "09499082006741547774"
     },
     "user_tz": -330
    },
    "id": "L8Kn4PsHRz2j"
   },
   "outputs": [],
   "source": [
    "boston['price'] = dataset_boston.target"
   ]
  },
  {
   "cell_type": "code",
   "execution_count": 41,
   "metadata": {
    "colab": {
     "base_uri": "https://localhost:8080/",
     "height": 206
    },
    "executionInfo": {
     "elapsed": 476,
     "status": "ok",
     "timestamp": 1638417319638,
     "user": {
      "displayName": "Rishav Das",
      "photoUrl": "https://lh3.googleusercontent.com/a-/AOh14GhkdaCMvA2ffaGPZMfcs0EkFFXTsKiwTyLisksJPto=s64",
      "userId": "09499082006741547774"
     },
     "user_tz": -330
    },
    "id": "y43rQFF5Rz3j",
    "outputId": "68786e41-7747-4ef7-af13-101ea33f51ec"
   },
   "outputs": [
    {
     "data": {
      "text/html": [
       "<div>\n",
       "<style scoped>\n",
       "    .dataframe tbody tr th:only-of-type {\n",
       "        vertical-align: middle;\n",
       "    }\n",
       "\n",
       "    .dataframe tbody tr th {\n",
       "        vertical-align: top;\n",
       "    }\n",
       "\n",
       "    .dataframe thead th {\n",
       "        text-align: right;\n",
       "    }\n",
       "</style>\n",
       "<table border=\"1\" class=\"dataframe\">\n",
       "  <thead>\n",
       "    <tr style=\"text-align: right;\">\n",
       "      <th></th>\n",
       "      <th>CRIM</th>\n",
       "      <th>ZN</th>\n",
       "      <th>INDUS</th>\n",
       "      <th>CHAS</th>\n",
       "      <th>NOX</th>\n",
       "      <th>RM</th>\n",
       "      <th>AGE</th>\n",
       "      <th>DIS</th>\n",
       "      <th>RAD</th>\n",
       "      <th>TAX</th>\n",
       "      <th>PTRATIO</th>\n",
       "      <th>B</th>\n",
       "      <th>LSTAT</th>\n",
       "      <th>price</th>\n",
       "    </tr>\n",
       "  </thead>\n",
       "  <tbody>\n",
       "    <tr>\n",
       "      <th>0</th>\n",
       "      <td>0.00632</td>\n",
       "      <td>18.0</td>\n",
       "      <td>2.31</td>\n",
       "      <td>0.0</td>\n",
       "      <td>0.538</td>\n",
       "      <td>6.575</td>\n",
       "      <td>65.2</td>\n",
       "      <td>4.0900</td>\n",
       "      <td>1.0</td>\n",
       "      <td>296.0</td>\n",
       "      <td>15.3</td>\n",
       "      <td>396.90</td>\n",
       "      <td>4.98</td>\n",
       "      <td>24.0</td>\n",
       "    </tr>\n",
       "    <tr>\n",
       "      <th>1</th>\n",
       "      <td>0.02731</td>\n",
       "      <td>0.0</td>\n",
       "      <td>7.07</td>\n",
       "      <td>0.0</td>\n",
       "      <td>0.469</td>\n",
       "      <td>6.421</td>\n",
       "      <td>78.9</td>\n",
       "      <td>4.9671</td>\n",
       "      <td>2.0</td>\n",
       "      <td>242.0</td>\n",
       "      <td>17.8</td>\n",
       "      <td>396.90</td>\n",
       "      <td>9.14</td>\n",
       "      <td>21.6</td>\n",
       "    </tr>\n",
       "    <tr>\n",
       "      <th>2</th>\n",
       "      <td>0.02729</td>\n",
       "      <td>0.0</td>\n",
       "      <td>7.07</td>\n",
       "      <td>0.0</td>\n",
       "      <td>0.469</td>\n",
       "      <td>7.185</td>\n",
       "      <td>61.1</td>\n",
       "      <td>4.9671</td>\n",
       "      <td>2.0</td>\n",
       "      <td>242.0</td>\n",
       "      <td>17.8</td>\n",
       "      <td>392.83</td>\n",
       "      <td>4.03</td>\n",
       "      <td>34.7</td>\n",
       "    </tr>\n",
       "    <tr>\n",
       "      <th>3</th>\n",
       "      <td>0.03237</td>\n",
       "      <td>0.0</td>\n",
       "      <td>2.18</td>\n",
       "      <td>0.0</td>\n",
       "      <td>0.458</td>\n",
       "      <td>6.998</td>\n",
       "      <td>45.8</td>\n",
       "      <td>6.0622</td>\n",
       "      <td>3.0</td>\n",
       "      <td>222.0</td>\n",
       "      <td>18.7</td>\n",
       "      <td>394.63</td>\n",
       "      <td>2.94</td>\n",
       "      <td>33.4</td>\n",
       "    </tr>\n",
       "    <tr>\n",
       "      <th>4</th>\n",
       "      <td>0.06905</td>\n",
       "      <td>0.0</td>\n",
       "      <td>2.18</td>\n",
       "      <td>0.0</td>\n",
       "      <td>0.458</td>\n",
       "      <td>7.147</td>\n",
       "      <td>54.2</td>\n",
       "      <td>6.0622</td>\n",
       "      <td>3.0</td>\n",
       "      <td>222.0</td>\n",
       "      <td>18.7</td>\n",
       "      <td>396.90</td>\n",
       "      <td>5.33</td>\n",
       "      <td>36.2</td>\n",
       "    </tr>\n",
       "  </tbody>\n",
       "</table>\n",
       "</div>"
      ],
      "text/plain": [
       "      CRIM    ZN  INDUS  CHAS    NOX     RM   AGE     DIS  RAD    TAX  \\\n",
       "0  0.00632  18.0   2.31   0.0  0.538  6.575  65.2  4.0900  1.0  296.0   \n",
       "1  0.02731   0.0   7.07   0.0  0.469  6.421  78.9  4.9671  2.0  242.0   \n",
       "2  0.02729   0.0   7.07   0.0  0.469  7.185  61.1  4.9671  2.0  242.0   \n",
       "3  0.03237   0.0   2.18   0.0  0.458  6.998  45.8  6.0622  3.0  222.0   \n",
       "4  0.06905   0.0   2.18   0.0  0.458  7.147  54.2  6.0622  3.0  222.0   \n",
       "\n",
       "   PTRATIO       B  LSTAT  price  \n",
       "0     15.3  396.90   4.98   24.0  \n",
       "1     17.8  396.90   9.14   21.6  \n",
       "2     17.8  392.83   4.03   34.7  \n",
       "3     18.7  394.63   2.94   33.4  \n",
       "4     18.7  396.90   5.33   36.2  "
      ]
     },
     "execution_count": 41,
     "metadata": {},
     "output_type": "execute_result"
    }
   ],
   "source": [
    "boston.head()"
   ]
  },
  {
   "cell_type": "code",
   "execution_count": 42,
   "metadata": {
    "colab": {
     "base_uri": "https://localhost:8080/"
    },
    "executionInfo": {
     "elapsed": 576,
     "status": "ok",
     "timestamp": 1638417383673,
     "user": {
      "displayName": "Rishav Das",
      "photoUrl": "https://lh3.googleusercontent.com/a-/AOh14GhkdaCMvA2ffaGPZMfcs0EkFFXTsKiwTyLisksJPto=s64",
      "userId": "09499082006741547774"
     },
     "user_tz": -330
    },
    "id": "uvW5gVVpRz79",
    "outputId": "2cf7f3ec-a9f0-4ff3-b502-0fe5c0d8608b"
   },
   "outputs": [
    {
     "data": {
      "text/plain": [
       "CRIM       0\n",
       "ZN         0\n",
       "INDUS      0\n",
       "CHAS       0\n",
       "NOX        0\n",
       "RM         0\n",
       "AGE        0\n",
       "DIS        0\n",
       "RAD        0\n",
       "TAX        0\n",
       "PTRATIO    0\n",
       "B          0\n",
       "LSTAT      0\n",
       "price      0\n",
       "dtype: int64"
      ]
     },
     "execution_count": 42,
     "metadata": {},
     "output_type": "execute_result"
    }
   ],
   "source": [
    "boston.isnull().sum()"
   ]
  },
  {
   "cell_type": "code",
   "execution_count": 43,
   "metadata": {
    "colab": {
     "base_uri": "https://localhost:8080/",
     "height": 666
    },
    "executionInfo": {
     "elapsed": 757,
     "status": "ok",
     "timestamp": 1638417515596,
     "user": {
      "displayName": "Rishav Das",
      "photoUrl": "https://lh3.googleusercontent.com/a-/AOh14GhkdaCMvA2ffaGPZMfcs0EkFFXTsKiwTyLisksJPto=s64",
      "userId": "09499082006741547774"
     },
     "user_tz": -330
    },
    "id": "rZl9ekXeRz9J",
    "outputId": "dba17a19-281d-414b-bfa6-5ec42abc59b5"
   },
   "outputs": [
    {
     "data": {
      "image/png": "[encoded data removed]",
      "text/plain": [
       "<Figure size 1080x720 with 1 Axes>"
      ]
     },
     "metadata": {},
     "output_type": "display_data"
    }
   ],
   "source": [
    "sns.set(rc={'figure.figsize':(15,10)})\n",
    "sns.distplot(boston['DIS'], bins=30)\n",
    "plt.show()"
   ]
  },
  {
   "cell_type": "code",
   "execution_count": 44,
   "metadata": {
    "colab": {
     "base_uri": "https://localhost:8080/",
     "height": 666
    },
    "executionInfo": {
     "elapsed": 660,
     "status": "ok",
     "timestamp": 1638417591645,
     "user": {
      "displayName": "Rishav Das",
      "photoUrl": "https://lh3.googleusercontent.com/a-/AOh14GhkdaCMvA2ffaGPZMfcs0EkFFXTsKiwTyLisksJPto=s64",
      "userId": "09499082006741547774"
     },
     "user_tz": -330
    },
    "id": "wZjzGJEIR0CF",
    "outputId": "32d5aa80-6f1a-4588-ccc1-c25ccd46e402"
   },
   "outputs": [
    {
     "data": {
      "image/png": "[encoded data removed]",
      "text/plain": [
       "<Figure size 1080x720 with 1 Axes>"
      ]
     },
     "metadata": {},
     "output_type": "display_data"
    }
   ],
   "source": [
    "sns.set(rc={'figure.figsize':(15,10)})\n",
    "sns.distplot(boston['AGE'], bins=30)\n",
    "plt.show()"
   ]
  },
  {
   "cell_type": "code",
   "execution_count": 45,
   "metadata": {
    "colab": {
     "base_uri": "https://localhost:8080/",
     "height": 615
    },
    "executionInfo": {
     "elapsed": 2785,
     "status": "ok",
     "timestamp": 1638417745323,
     "user": {
      "displayName": "Rishav Das",
      "photoUrl": "https://lh3.googleusercontent.com/a-/AOh14GhkdaCMvA2ffaGPZMfcs0EkFFXTsKiwTyLisksJPto=s64",
      "userId": "09499082006741547774"
     },
     "user_tz": -330
    },
    "id": "kkE-4HsgR0DE",
    "outputId": "9cb85844-c81a-4218-8135-2ae8df33a171"
   },
   "outputs": [
    {
     "data": {
      "text/plain": [
       "<AxesSubplot:>"
      ]
     },
     "execution_count": 45,
     "metadata": {},
     "output_type": "execute_result"
    },
    {
     "data": {
      "image/png": "[encoded data removed]",
      "text/plain": [
       "<Figure size 1080x720 with 2 Axes>"
      ]
     },
     "metadata": {},
     "output_type": "display_data"
    }
   ],
   "source": [
    "correlation_matrix = boston.corr().round(2)\n",
    "sns.heatmap(data=correlation_matrix, annot=True)"
   ]
  },
  {
   "cell_type": "code",
   "execution_count": 46,
   "metadata": {
    "colab": {
     "base_uri": "https://localhost:8080/",
     "height": 666
    },
    "executionInfo": {
     "elapsed": 550,
     "status": "ok",
     "timestamp": 1638418249226,
     "user": {
      "displayName": "Rishav Das",
      "photoUrl": "https://lh3.googleusercontent.com/a-/AOh14GhkdaCMvA2ffaGPZMfcs0EkFFXTsKiwTyLisksJPto=s64",
      "userId": "09499082006741547774"
     },
     "user_tz": -330
    },
    "id": "DenIVP54R0Hw",
    "outputId": "35385556-2596-448c-fe88-159e871816c4"
   },
   "outputs": [
    {
     "name": "stderr",
     "output_type": "stream",
     "text": [
      "*c* argument looks like a single numeric RGB or RGBA sequence, which should be avoided as value-mapping will have precedence in case its length matches with *x* & *y*.  Please use the *color* keyword-argument or provide a 2-D array with a single row if you intend to specify the same RGB or RGBA value for all points.\n"
     ]
    },
    {
     "data": {
      "text/plain": [
       "<AxesSubplot:xlabel='TAX', ylabel='INDUS'>"
      ]
     },
     "execution_count": 46,
     "metadata": {},
     "output_type": "execute_result"
    },
    {
     "data": {
      "image/png": "[encoded data removed]",
      "text/plain": [
       "<Figure size 1080x720 with 1 Axes>"
      ]
     },
     "metadata": {},
     "output_type": "display_data"
    }
   ],
   "source": [
    "boston.plot.scatter(x='TAX', y='INDUS')"
   ]
  },
  {
   "cell_type": "code",
   "execution_count": 48,
   "metadata": {
    "executionInfo": {
     "elapsed": 487,
     "status": "ok",
     "timestamp": 1638418810174,
     "user": {
      "displayName": "Rishav Das",
      "photoUrl": "https://lh3.googleusercontent.com/a-/AOh14GhkdaCMvA2ffaGPZMfcs0EkFFXTsKiwTyLisksJPto=s64",
      "userId": "09499082006741547774"
     },
     "user_tz": -330
    },
    "id": "0a1_eOFXR0Iz"
   },
   "outputs": [],
   "source": [
    "x = dataset_boston.data\n",
    "y = dataset_boston.target"
   ]
  },
  {
   "cell_type": "markdown",
   "metadata": {},
   "source": [
    "## Model"
   ]
  },
  {
   "cell_type": "code",
   "execution_count": 55,
   "metadata": {},
   "outputs": [
    {
     "data": {
      "text/plain": [
       "14"
      ]
     },
     "execution_count": 55,
     "metadata": {},
     "output_type": "execute_result"
    }
   ],
   "source": [
    "len(boston.columns)"
   ]
  },
  {
   "cell_type": "code",
   "execution_count": 49,
   "metadata": {
    "executionInfo": {
     "elapsed": 476,
     "status": "ok",
     "timestamp": 1638419945592,
     "user": {
      "displayName": "Rishav Das",
      "photoUrl": "https://lh3.googleusercontent.com/a-/AOh14GhkdaCMvA2ffaGPZMfcs0EkFFXTsKiwTyLisksJPto=s64",
      "userId": "09499082006741547774"
     },
     "user_tz": -330
    },
    "id": "52uuI1LkR0OI"
   },
   "outputs": [],
   "source": [
    "network = tf.keras.Sequential()\n",
    "network.add(layers.Dense(128, activation='relu', input_shape=(13,)))\n",
    "network.add(layers.Dropout(0.1))\n",
    "network.add(layers.Dense(64, activation='relu'))\n",
    "network.add(layers.Dropout(0.1))\n",
    "network.add(layers.Dense(32, activation='relu'))\n",
    "network.add(layers.Dense(1))"
   ]
  },
  {
   "cell_type": "code",
   "execution_count": 50,
   "metadata": {
    "colab": {
     "base_uri": "https://localhost:8080/"
    },
    "executionInfo": {
     "elapsed": 3,
     "status": "ok",
     "timestamp": 1638419949605,
     "user": {
      "displayName": "Rishav Das",
      "photoUrl": "https://lh3.googleusercontent.com/a-/AOh14GhkdaCMvA2ffaGPZMfcs0EkFFXTsKiwTyLisksJPto=s64",
      "userId": "09499082006741547774"
     },
     "user_tz": -330
    },
    "id": "0VZiRMPZZhnT",
    "outputId": "18f1e9c1-f768-4a4a-d94b-f2c5304e331c"
   },
   "outputs": [],
   "source": [
    "network.compile(optimizer = tf.keras.optimizers.RMSprop(lr=0.01), loss='mse', metrics=['mae'])"
   ]
  },
  {
   "cell_type": "code",
   "execution_count": 51,
   "metadata": {
    "colab": {
     "base_uri": "https://localhost:8080/"
    },
    "executionInfo": {
     "elapsed": 6,
     "status": "ok",
     "timestamp": 1638419954434,
     "user": {
      "displayName": "Rishav Das",
      "photoUrl": "https://lh3.googleusercontent.com/a-/AOh14GhkdaCMvA2ffaGPZMfcs0EkFFXTsKiwTyLisksJPto=s64",
      "userId": "09499082006741547774"
     },
     "user_tz": -330
    },
    "id": "643RL8HhZhpg",
    "outputId": "78b23441-10d9-42ba-fa5e-0d55741d6b36"
   },
   "outputs": [
    {
     "name": "stdout",
     "output_type": "stream",
     "text": [
      "Model: \"sequential\"\n",
      "_________________________________________________________________\n",
      "Layer (type)                 Output Shape              Param #   \n",
      "=================================================================\n",
      "dense (Dense)                (None, 128)               1792      \n",
      "_________________________________________________________________\n",
      "dropout (Dropout)            (None, 128)               0         \n",
      "_________________________________________________________________\n",
      "dense_1 (Dense)              (None, 64)                8256      \n",
      "_________________________________________________________________\n",
      "dropout_1 (Dropout)          (None, 64)                0         \n",
      "_________________________________________________________________\n",
      "dense_2 (Dense)              (None, 32)                2080      \n",
      "_________________________________________________________________\n",
      "dense_3 (Dense)              (None, 1)                 33        \n",
      "=================================================================\n",
      "Total params: 12,161\n",
      "Trainable params: 12,161\n",
      "Non-trainable params: 0\n",
      "_________________________________________________________________\n",
      "None\n"
     ]
    }
   ],
   "source": [
    "print(network.summary())"
   ]
  },
  {
   "cell_type": "code",
   "execution_count": 56,
   "metadata": {
    "executionInfo": {
     "elapsed": 2,
     "status": "ok",
     "timestamp": 1638419955906,
     "user": {
      "displayName": "Rishav Das",
      "photoUrl": "https://lh3.googleusercontent.com/a-/AOh14GhkdaCMvA2ffaGPZMfcs0EkFFXTsKiwTyLisksJPto=s64",
      "userId": "09499082006741547774"
     },
     "user_tz": -330
    },
    "id": "qgLR449GZhs8"
   },
   "outputs": [],
   "source": [
    "X_train, X_test, Y_train, Y_test = train_test_split(x,y, test_size=0.2, random_state= 42)"
   ]
  },
  {
   "cell_type": "code",
   "execution_count": 57,
   "metadata": {
    "executionInfo": {
     "elapsed": 3,
     "status": "ok",
     "timestamp": 1638419959689,
     "user": {
      "displayName": "Rishav Das",
      "photoUrl": "https://lh3.googleusercontent.com/a-/AOh14GhkdaCMvA2ffaGPZMfcs0EkFFXTsKiwTyLisksJPto=s64",
      "userId": "09499082006741547774"
     },
     "user_tz": -330
    },
    "id": "qnBsFeSJZhwG"
   },
   "outputs": [],
   "source": [
    "train_X = preprocessing.normalize(X_train)\n",
    "test_X = preprocessing.normalize(X_test)"
   ]
  },
  {
   "cell_type": "code",
   "execution_count": 58,
   "metadata": {
    "colab": {
     "base_uri": "https://localhost:8080/"
    },
    "executionInfo": {
     "elapsed": 81820,
     "status": "ok",
     "timestamp": 1638420045885,
     "user": {
      "displayName": "Rishav Das",
      "photoUrl": "https://lh3.googleusercontent.com/a-/AOh14GhkdaCMvA2ffaGPZMfcs0EkFFXTsKiwTyLisksJPto=s64",
      "userId": "09499082006741547774"
     },
     "user_tz": -330
    },
    "id": "YHIhp2VqZhx9",
    "outputId": "76f671e0-07b2-488e-cc09-686a8d24b355"
   },
   "outputs": [
    {
     "name": "stdout",
     "output_type": "stream",
     "text": [
      "Epoch 1/100\n",
      "404/404 [==============================] - 4s 4ms/step - loss: 103.8808 - mae: 7.4027 - val_loss: 41.9046 - val_mae: 4.4464\n",
      "Epoch 2/100\n",
      "404/404 [==============================] - 1s 3ms/step - loss: 79.0071 - mae: 6.2868 - val_loss: 271.8563 - val_mae: 15.5698\n",
      "Epoch 3/100\n",
      "404/404 [==============================] - 1s 2ms/step - loss: 75.4046 - mae: 6.2797 - val_loss: 36.7893 - val_mae: 4.4119\n",
      "Epoch 4/100\n",
      "404/404 [==============================] - 1s 2ms/step - loss: 68.6959 - mae: 5.7720 - val_loss: 55.1974 - val_mae: 6.3282\n",
      "Epoch 5/100\n",
      "404/404 [==============================] - 1s 2ms/step - loss: 61.8725 - mae: 5.4619 - val_loss: 32.1832 - val_mae: 4.1197\n",
      "Epoch 6/100\n",
      "404/404 [==============================] - 1s 2ms/step - loss: 60.1553 - mae: 5.6135 - val_loss: 56.3421 - val_mae: 5.3007\n",
      "Epoch 7/100\n",
      "404/404 [==============================] - 1s 2ms/step - loss: 62.5027 - mae: 5.5469 - val_loss: 28.4376 - val_mae: 3.4437\n",
      "Epoch 8/100\n",
      "404/404 [==============================] - 1s 3ms/step - loss: 51.6058 - mae: 5.0368 - val_loss: 29.1539 - val_mae: 3.4044\n",
      "Epoch 9/100\n",
      "404/404 [==============================] - 1s 2ms/step - loss: 54.2461 - mae: 5.2628 - val_loss: 40.6358 - val_mae: 5.4442\n",
      "Epoch 10/100\n",
      "404/404 [==============================] - 1s 2ms/step - loss: 47.8178 - mae: 4.9118 - val_loss: 31.2610 - val_mae: 4.4618\n",
      "Epoch 11/100\n",
      "404/404 [==============================] - 1s 2ms/step - loss: 50.6488 - mae: 5.1011 - val_loss: 24.6578 - val_mae: 3.4019\n",
      "Epoch 12/100\n",
      "404/404 [==============================] - 1s 2ms/step - loss: 45.8431 - mae: 4.7541 - val_loss: 44.0103 - val_mae: 5.7485\n",
      "Epoch 13/100\n",
      "404/404 [==============================] - 1s 2ms/step - loss: 43.5954 - mae: 4.7930 - val_loss: 33.5215 - val_mae: 3.7029\n",
      "Epoch 14/100\n",
      "404/404 [==============================] - 1s 2ms/step - loss: 41.2184 - mae: 4.7498 - val_loss: 61.6460 - val_mae: 7.0463\n",
      "Epoch 15/100\n",
      "404/404 [==============================] - 1s 2ms/step - loss: 46.7479 - mae: 4.8954 - val_loss: 32.8032 - val_mae: 3.6098\n",
      "Epoch 16/100\n",
      "404/404 [==============================] - 1s 2ms/step - loss: 40.1586 - mae: 4.6319 - val_loss: 27.1458 - val_mae: 3.2524\n",
      "Epoch 17/100\n",
      "404/404 [==============================] - 1s 2ms/step - loss: 40.3598 - mae: 4.5709 - val_loss: 30.3930 - val_mae: 4.4424\n",
      "Epoch 18/100\n",
      "404/404 [==============================] - 1s 2ms/step - loss: 39.8880 - mae: 4.7118 - val_loss: 24.8968 - val_mae: 3.7528\n",
      "Epoch 19/100\n",
      "404/404 [==============================] - 1s 2ms/step - loss: 36.2103 - mae: 4.3581 - val_loss: 31.1751 - val_mae: 3.5247\n",
      "Epoch 20/100\n",
      "404/404 [==============================] - 1s 2ms/step - loss: 36.9590 - mae: 4.4088 - val_loss: 29.7596 - val_mae: 3.4151\n",
      "Epoch 21/100\n",
      "404/404 [==============================] - 1s 2ms/step - loss: 43.2600 - mae: 4.7057 - val_loss: 35.8207 - val_mae: 4.9136\n",
      "Epoch 22/100\n",
      "404/404 [==============================] - 1s 3ms/step - loss: 38.8162 - mae: 4.6037 - val_loss: 22.7867 - val_mae: 3.1760\n",
      "Epoch 23/100\n",
      "404/404 [==============================] - 1s 2ms/step - loss: 35.0016 - mae: 4.2766 - val_loss: 19.2017 - val_mae: 2.9122\n",
      "Epoch 24/100\n",
      "404/404 [==============================] - 1s 2ms/step - loss: 36.0291 - mae: 4.3302 - val_loss: 43.9881 - val_mae: 5.6429\n",
      "Epoch 25/100\n",
      "404/404 [==============================] - 1s 2ms/step - loss: 37.8203 - mae: 4.2421 - val_loss: 23.6400 - val_mae: 3.3960\n",
      "Epoch 26/100\n",
      "404/404 [==============================] - 1s 2ms/step - loss: 32.4653 - mae: 4.2638 - val_loss: 19.5776 - val_mae: 2.9536\n",
      "Epoch 27/100\n",
      "404/404 [==============================] - 1s 2ms/step - loss: 36.1848 - mae: 4.3157 - val_loss: 42.8375 - val_mae: 5.4551\n",
      "Epoch 28/100\n",
      "404/404 [==============================] - 1s 2ms/step - loss: 33.5834 - mae: 4.2430 - val_loss: 35.8349 - val_mae: 3.8737\n",
      "Epoch 29/100\n",
      "404/404 [==============================] - 1s 2ms/step - loss: 38.2622 - mae: 4.3827 - val_loss: 21.6916 - val_mae: 3.1310\n",
      "Epoch 30/100\n",
      "404/404 [==============================] - 1s 2ms/step - loss: 34.4485 - mae: 4.2391 - val_loss: 24.3952 - val_mae: 3.3416\n",
      "Epoch 31/100\n",
      "404/404 [==============================] - 1s 2ms/step - loss: 32.1132 - mae: 4.2018 - val_loss: 19.5030 - val_mae: 2.8082\n",
      "Epoch 32/100\n",
      "404/404 [==============================] - 1s 2ms/step - loss: 31.2030 - mae: 3.9782 - val_loss: 30.1230 - val_mae: 3.4953\n",
      "Epoch 33/100\n",
      "404/404 [==============================] - 1s 2ms/step - loss: 33.5198 - mae: 4.2323 - val_loss: 23.6107 - val_mae: 3.0585\n",
      "Epoch 34/100\n",
      "404/404 [==============================] - 1s 2ms/step - loss: 34.6766 - mae: 4.2564 - val_loss: 21.7657 - val_mae: 2.9614\n",
      "Epoch 35/100\n",
      "404/404 [==============================] - 1s 3ms/step - loss: 35.8854 - mae: 4.2359 - val_loss: 20.4852 - val_mae: 3.2795\n",
      "Epoch 36/100\n",
      "404/404 [==============================] - 1s 2ms/step - loss: 33.1710 - mae: 4.1492 - val_loss: 30.0866 - val_mae: 3.7047\n",
      "Epoch 37/100\n",
      "404/404 [==============================] - 1s 2ms/step - loss: 32.2719 - mae: 4.2139 - val_loss: 18.4643 - val_mae: 2.8719\n",
      "Epoch 38/100\n",
      "404/404 [==============================] - 1s 3ms/step - loss: 37.0475 - mae: 4.2424 - val_loss: 20.3542 - val_mae: 3.2070\n",
      "Epoch 39/100\n",
      "404/404 [==============================] - 1s 2ms/step - loss: 31.4605 - mae: 3.9371 - val_loss: 21.4381 - val_mae: 3.2985\n",
      "Epoch 40/100\n",
      "404/404 [==============================] - 1s 2ms/step - loss: 30.9833 - mae: 3.9819 - val_loss: 36.7730 - val_mae: 4.8408\n",
      "Epoch 41/100\n",
      "404/404 [==============================] - 1s 3ms/step - loss: 34.1365 - mae: 4.0748 - val_loss: 19.1553 - val_mae: 2.9960\n",
      "Epoch 42/100\n",
      "404/404 [==============================] - 1s 2ms/step - loss: 32.2818 - mae: 3.9479 - val_loss: 19.5888 - val_mae: 3.1965\n",
      "Epoch 43/100\n",
      "404/404 [==============================] - 1s 2ms/step - loss: 36.0487 - mae: 4.3131 - val_loss: 22.1145 - val_mae: 3.4924\n",
      "Epoch 44/100\n",
      "404/404 [==============================] - 1s 2ms/step - loss: 28.6687 - mae: 4.0138 - val_loss: 18.1277 - val_mae: 2.7629\n",
      "Epoch 45/100\n",
      "404/404 [==============================] - 1s 2ms/step - loss: 33.6884 - mae: 4.1820 - val_loss: 24.8998 - val_mae: 3.7789\n",
      "Epoch 46/100\n",
      "404/404 [==============================] - 1s 2ms/step - loss: 33.7351 - mae: 4.1332 - val_loss: 33.9999 - val_mae: 4.1377\n",
      "Epoch 47/100\n",
      "404/404 [==============================] - 1s 3ms/step - loss: 31.6413 - mae: 4.0108 - val_loss: 25.0718 - val_mae: 3.3730\n",
      "Epoch 48/100\n",
      "404/404 [==============================] - 1s 2ms/step - loss: 32.4024 - mae: 3.9734 - val_loss: 22.0594 - val_mae: 3.2073\n",
      "Epoch 49/100\n",
      "404/404 [==============================] - 1s 2ms/step - loss: 31.0903 - mae: 3.9870 - val_loss: 25.0334 - val_mae: 3.5043\n",
      "Epoch 50/100\n",
      "404/404 [==============================] - 1s 3ms/step - loss: 36.3202 - mae: 4.1723 - val_loss: 24.2805 - val_mae: 3.7037\n",
      "Epoch 51/100\n",
      "404/404 [==============================] - 1s 2ms/step - loss: 34.3899 - mae: 4.1963 - val_loss: 18.5833 - val_mae: 2.8821\n",
      "Epoch 52/100\n",
      "404/404 [==============================] - 1s 2ms/step - loss: 30.5686 - mae: 4.0179 - val_loss: 28.5614 - val_mae: 3.5052\n",
      "Epoch 53/100\n",
      "404/404 [==============================] - 1s 3ms/step - loss: 34.1249 - mae: 4.0663 - val_loss: 32.7589 - val_mae: 4.6418\n",
      "Epoch 54/100\n",
      "404/404 [==============================] - 1s 2ms/step - loss: 32.3994 - mae: 3.9535 - val_loss: 27.0585 - val_mae: 4.1271\n",
      "Epoch 55/100\n",
      "404/404 [==============================] - 1s 2ms/step - loss: 30.5930 - mae: 4.0582 - val_loss: 19.0113 - val_mae: 2.7380\n",
      "Epoch 56/100\n",
      "404/404 [==============================] - 1s 2ms/step - loss: 32.7603 - mae: 4.1012 - val_loss: 23.1313 - val_mae: 3.6091\n",
      "Epoch 57/100\n",
      "404/404 [==============================] - 1s 2ms/step - loss: 32.6188 - mae: 3.9793 - val_loss: 23.8094 - val_mae: 3.6174\n",
      "Epoch 58/100\n",
      "404/404 [==============================] - 1s 2ms/step - loss: 33.5598 - mae: 4.1516 - val_loss: 21.6261 - val_mae: 3.0512\n",
      "Epoch 59/100\n",
      "404/404 [==============================] - 1s 2ms/step - loss: 31.9874 - mae: 4.2080 - val_loss: 20.1833 - val_mae: 2.9142\n",
      "Epoch 60/100\n",
      "404/404 [==============================] - 1s 2ms/step - loss: 33.6667 - mae: 4.1144 - val_loss: 20.6448 - val_mae: 3.1357\n",
      "Epoch 61/100\n"
     ]
    },
    {
     "name": "stdout",
     "output_type": "stream",
     "text": [
      "404/404 [==============================] - 1s 2ms/step - loss: 29.9555 - mae: 3.9836 - val_loss: 25.3827 - val_mae: 3.0490\n",
      "Epoch 62/100\n",
      "404/404 [==============================] - 1s 2ms/step - loss: 29.5514 - mae: 3.9067 - val_loss: 24.9717 - val_mae: 3.7588\n",
      "Epoch 63/100\n",
      "404/404 [==============================] - 1s 2ms/step - loss: 28.2275 - mae: 3.7768 - val_loss: 26.0811 - val_mae: 3.3905\n",
      "Epoch 64/100\n",
      "404/404 [==============================] - 1s 2ms/step - loss: 32.7310 - mae: 4.0459 - val_loss: 19.6872 - val_mae: 2.9383\n",
      "Epoch 65/100\n",
      "404/404 [==============================] - 1s 2ms/step - loss: 31.1309 - mae: 3.9488 - val_loss: 23.2038 - val_mae: 3.5009\n",
      "Epoch 66/100\n",
      "404/404 [==============================] - 1s 2ms/step - loss: 28.3015 - mae: 3.8486 - val_loss: 21.9808 - val_mae: 3.3422\n",
      "Epoch 67/100\n",
      "404/404 [==============================] - 1s 2ms/step - loss: 27.4977 - mae: 3.7446 - val_loss: 21.1518 - val_mae: 3.1336\n",
      "Epoch 68/100\n",
      "404/404 [==============================] - 1s 2ms/step - loss: 33.5233 - mae: 4.2230 - val_loss: 44.9916 - val_mae: 5.7724\n",
      "Epoch 69/100\n",
      "404/404 [==============================] - 1s 2ms/step - loss: 30.8644 - mae: 4.0080 - val_loss: 63.9851 - val_mae: 6.7339\n",
      "Epoch 70/100\n",
      "404/404 [==============================] - 1s 2ms/step - loss: 34.6973 - mae: 4.1371 - val_loss: 27.2943 - val_mae: 4.0295\n",
      "Epoch 71/100\n",
      "404/404 [==============================] - 1s 2ms/step - loss: 31.8437 - mae: 3.9267 - val_loss: 29.8958 - val_mae: 4.0496\n",
      "Epoch 72/100\n",
      "404/404 [==============================] - 1s 2ms/step - loss: 29.4571 - mae: 3.8500 - val_loss: 25.0413 - val_mae: 3.2658\n",
      "Epoch 73/100\n",
      "404/404 [==============================] - 1s 2ms/step - loss: 32.7159 - mae: 3.9723 - val_loss: 21.8975 - val_mae: 3.1114\n",
      "Epoch 74/100\n",
      "404/404 [==============================] - 1s 2ms/step - loss: 33.2590 - mae: 4.0298 - val_loss: 32.9377 - val_mae: 4.0772\n",
      "Epoch 75/100\n",
      "404/404 [==============================] - 1s 2ms/step - loss: 29.9471 - mae: 3.8925 - val_loss: 28.0982 - val_mae: 3.6910\n",
      "Epoch 76/100\n",
      "404/404 [==============================] - 1s 2ms/step - loss: 31.3867 - mae: 3.9724 - val_loss: 28.3661 - val_mae: 4.0859\n",
      "Epoch 77/100\n",
      "404/404 [==============================] - 1s 2ms/step - loss: 36.8226 - mae: 4.1422 - val_loss: 21.2194 - val_mae: 3.0134\n",
      "Epoch 78/100\n",
      "404/404 [==============================] - 1s 2ms/step - loss: 30.4503 - mae: 3.9281 - val_loss: 24.6021 - val_mae: 3.5794\n",
      "Epoch 79/100\n",
      "404/404 [==============================] - 1s 2ms/step - loss: 31.4020 - mae: 4.0040 - val_loss: 25.9503 - val_mae: 3.6498\n",
      "Epoch 80/100\n",
      "404/404 [==============================] - 1s 2ms/step - loss: 31.4484 - mae: 3.9937 - val_loss: 22.5990 - val_mae: 3.4118\n",
      "Epoch 81/100\n",
      "404/404 [==============================] - 1s 2ms/step - loss: 33.3763 - mae: 4.0916 - val_loss: 25.6687 - val_mae: 3.8646\n",
      "Epoch 82/100\n",
      "404/404 [==============================] - 1s 2ms/step - loss: 30.4700 - mae: 3.9661 - val_loss: 28.9003 - val_mae: 3.7135\n",
      "Epoch 83/100\n",
      "404/404 [==============================] - 1s 2ms/step - loss: 29.6639 - mae: 3.9017 - val_loss: 21.2694 - val_mae: 3.1669\n",
      "Epoch 84/100\n",
      "404/404 [==============================] - 1s 2ms/step - loss: 34.8850 - mae: 4.1094 - val_loss: 40.1114 - val_mae: 5.4120\n",
      "Epoch 85/100\n",
      "404/404 [==============================] - 1s 2ms/step - loss: 27.5828 - mae: 3.8066 - val_loss: 51.8525 - val_mae: 5.9737\n",
      "Epoch 86/100\n",
      "404/404 [==============================] - 1s 2ms/step - loss: 33.3042 - mae: 4.0315 - val_loss: 21.9125 - val_mae: 3.2999\n",
      "Epoch 87/100\n",
      "404/404 [==============================] - 1s 2ms/step - loss: 31.2288 - mae: 3.9155 - val_loss: 21.0785 - val_mae: 3.2015\n",
      "Epoch 88/100\n",
      "404/404 [==============================] - 1s 2ms/step - loss: 33.1526 - mae: 3.9996 - val_loss: 21.0154 - val_mae: 3.2858\n",
      "Epoch 89/100\n",
      "404/404 [==============================] - 1s 2ms/step - loss: 34.1473 - mae: 4.1352 - val_loss: 20.1280 - val_mae: 2.8129\n",
      "Epoch 90/100\n",
      "404/404 [==============================] - 1s 2ms/step - loss: 27.8484 - mae: 3.8367 - val_loss: 22.0041 - val_mae: 3.2493\n",
      "Epoch 91/100\n",
      "404/404 [==============================] - 1s 2ms/step - loss: 34.1924 - mae: 3.9511 - val_loss: 26.9790 - val_mae: 4.1510\n",
      "Epoch 92/100\n",
      "404/404 [==============================] - 1s 2ms/step - loss: 32.9292 - mae: 3.9542 - val_loss: 23.1143 - val_mae: 3.4693\n",
      "Epoch 93/100\n",
      "404/404 [==============================] - 1s 2ms/step - loss: 32.6646 - mae: 4.0715 - val_loss: 18.7236 - val_mae: 2.9024\n",
      "Epoch 94/100\n",
      "404/404 [==============================] - 1s 2ms/step - loss: 34.4841 - mae: 4.1226 - val_loss: 22.4030 - val_mae: 3.4302\n",
      "Epoch 95/100\n",
      "404/404 [==============================] - 1s 2ms/step - loss: 29.8233 - mae: 3.7816 - val_loss: 24.9545 - val_mae: 3.3847\n",
      "Epoch 96/100\n",
      "404/404 [==============================] - 1s 2ms/step - loss: 29.1136 - mae: 3.8164 - val_loss: 21.5361 - val_mae: 2.9140\n",
      "Epoch 97/100\n",
      "404/404 [==============================] - 1s 2ms/step - loss: 33.2229 - mae: 4.1018 - val_loss: 24.7332 - val_mae: 3.5677\n",
      "Epoch 98/100\n",
      "404/404 [==============================] - 1s 3ms/step - loss: 30.3408 - mae: 3.9205 - val_loss: 22.0697 - val_mae: 3.0737\n",
      "Epoch 99/100\n",
      "404/404 [==============================] - 1s 2ms/step - loss: 31.7329 - mae: 4.0850 - val_loss: 29.5243 - val_mae: 4.4842\n",
      "Epoch 100/100\n",
      "404/404 [==============================] - 1s 2ms/step - loss: 34.3253 - mae: 3.9722 - val_loss: 25.1166 - val_mae: 3.4607\n"
     ]
    }
   ],
   "source": [
    "hist = network.fit(train_X, Y_train, epochs = 100, validation_data = (test_X, Y_test), batch_size=1)"
   ]
  },
  {
   "cell_type": "markdown",
   "metadata": {
    "id": "RH0AYWu7Zhzl"
   },
   "source": [
    "## `END -------------------------------------------------------`"
   ]
  }
 ],
 "metadata": {
  "colab": {
   "authorship_tag": "ABX9TyOz99nFPNeHh0vQSYXHPP4K",
   "collapsed_sections": [],
   "name": "Regression_Neurons.ipynb",
   "provenance": []
  },
  "kernelspec": {
   "display_name": "Python 3",
   "language": "python",
   "name": "python3"
  },
  "language_info": {
   "codemirror_mode": {
    "name": "ipython",
    "version": 3
   },
   "file_extension": ".py",
   "mimetype": "text/x-python",
   "name": "python",
   "nbconvert_exporter": "python",
   "pygments_lexer": "ipython3",
   "version": "3.8.8"
  }
 },
 "nbformat": 4,
 "nbformat_minor": 1
}
