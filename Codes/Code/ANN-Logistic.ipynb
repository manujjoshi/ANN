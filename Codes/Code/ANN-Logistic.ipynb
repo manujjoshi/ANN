{
 "cells": [
  {
   "cell_type": "markdown",
   "metadata": {
    "id": "oSBNeTTv4Ib9"
   },
   "source": [
    "\"Number of times pregnant\", \"Plasma glucose concentration a 2 hours in an oral glucose tolerance test\", \"Diastolic blood pressure (mm Hg)\", \"Triceps skin fold thickness (mm)\", \"2-Hour serum insulin (mu U/ml)\", \"Body mass index\", \"Diabetes pedigree function\", \"Age (years)\", \"Labled_Dataset\""
   ]
  },
  {
   "cell_type": "code",
   "execution_count": null,
   "metadata": {
    "id": "TTufbLak4y1q"
   },
   "outputs": [],
   "source": [
    "import pandas as pd \n",
    "import numpy as np\n",
    "from numpy import loadtxt\n",
    "import tensorflow as tf\n",
    "from keras.models import Sequential\n",
    "from keras.layers import Dense"
   ]
  },
  {
   "cell_type": "code",
   "execution_count": null,
   "metadata": {
    "id": "JRdBaam_4y4p"
   },
   "outputs": [],
   "source": [
    "dataset = loadtxt('/content/drive/MyDrive/DL-batch-3/diabetes.txt', delimiter=',' )"
   ]
  },
  {
   "cell_type": "code",
   "execution_count": null,
   "metadata": {
    "colab": {
     "base_uri": "https://localhost:8080/"
    },
    "executionInfo": {
     "elapsed": 431,
     "status": "ok",
     "timestamp": 1638331424877,
     "user": {
      "displayName": "Rishav Das",
      "photoUrl": "https://lh3.googleusercontent.com/a-/AOh14GhkdaCMvA2ffaGPZMfcs0EkFFXTsKiwTyLisksJPto=s64",
      "userId": "09499082006741547774"
     },
     "user_tz": -330
    },
    "id": "w9QvSGu04y7W",
    "outputId": "9d9e1db6-00e2-48b8-a003-3717447ab0dc"
   },
   "outputs": [
    {
     "name": "stdout",
     "output_type": "stream",
     "text": [
      "[[6.000e+00 1.480e+02 7.200e+01 3.500e+01 0.000e+00 3.360e+01 6.270e-01\n",
      "  5.000e+01 1.000e+00]\n",
      " [1.000e+00 8.500e+01 6.600e+01 2.900e+01 0.000e+00 2.660e+01 3.510e-01\n",
      "  3.100e+01 0.000e+00]\n",
      " [8.000e+00 1.830e+02 6.400e+01 0.000e+00 0.000e+00 2.330e+01 6.720e-01\n",
      "  3.200e+01 1.000e+00]\n",
      " [1.000e+00 8.900e+01 6.600e+01 2.300e+01 9.400e+01 2.810e+01 1.670e-01\n",
      "  2.100e+01 0.000e+00]\n",
      " [0.000e+00 1.370e+02 4.000e+01 3.500e+01 1.680e+02 4.310e+01 2.288e+00\n",
      "  3.300e+01 1.000e+00]]\n"
     ]
    }
   ],
   "source": [
    "print(dataset[0:5])"
   ]
  },
  {
   "cell_type": "code",
   "execution_count": null,
   "metadata": {
    "colab": {
     "base_uri": "https://localhost:8080/"
    },
    "executionInfo": {
     "elapsed": 9,
     "status": "ok",
     "timestamp": 1638331426742,
     "user": {
      "displayName": "Rishav Das",
      "photoUrl": "https://lh3.googleusercontent.com/a-/AOh14GhkdaCMvA2ffaGPZMfcs0EkFFXTsKiwTyLisksJPto=s64",
      "userId": "09499082006741547774"
     },
     "user_tz": -330
    },
    "id": "hMB6yKP44y-q",
    "outputId": "166345d4-0e6c-4a0d-c415-ae32869b93c0"
   },
   "outputs": [
    {
     "name": "stdout",
     "output_type": "stream",
     "text": [
      "<class 'numpy.ndarray'>\n"
     ]
    }
   ],
   "source": [
    "print(type(dataset))"
   ]
  },
  {
   "cell_type": "code",
   "execution_count": null,
   "metadata": {
    "id": "TL7ofDl44zBz"
   },
   "outputs": [],
   "source": [
    "labeled_dataset = pd.DataFrame(data=dataset, columns=[\"Number of times pregnant\", \"Plasma glucose concentration a 2 hours in an oral glucose tolerance test\", \"Diastolic blood pressure (mm Hg)\", \"Triceps skin fold thickness (mm)\", \"2-Hour serum insulin (mu U/ml)\", \"Body mass index\", \"Diabetes pedigree function\", \"Age (years)\", \"Labled_Dataset\"])"
   ]
  },
  {
   "cell_type": "code",
   "execution_count": null,
   "metadata": {
    "colab": {
     "base_uri": "https://localhost:8080/",
     "height": 258
    },
    "executionInfo": {
     "elapsed": 20,
     "status": "ok",
     "timestamp": 1638331430774,
     "user": {
      "displayName": "Rishav Das",
      "photoUrl": "https://lh3.googleusercontent.com/a-/AOh14GhkdaCMvA2ffaGPZMfcs0EkFFXTsKiwTyLisksJPto=s64",
      "userId": "09499082006741547774"
     },
     "user_tz": -330
    },
    "id": "g9kOJc-U4zEP",
    "outputId": "dbabc379-5ac6-4039-e113-dee055437b2d"
   },
   "outputs": [
    {
     "data": {
      "text/html": [
       "<div>\n",
       "<style scoped>\n",
       "    .dataframe tbody tr th:only-of-type {\n",
       "        vertical-align: middle;\n",
       "    }\n",
       "\n",
       "    .dataframe tbody tr th {\n",
       "        vertical-align: top;\n",
       "    }\n",
       "\n",
       "    .dataframe thead th {\n",
       "        text-align: right;\n",
       "    }\n",
       "</style>\n",
       "<table border=\"1\" class=\"dataframe\">\n",
       "  <thead>\n",
       "    <tr style=\"text-align: right;\">\n",
       "      <th></th>\n",
       "      <th>Number of times pregnant</th>\n",
       "      <th>Plasma glucose concentration a 2 hours in an oral glucose tolerance test</th>\n",
       "      <th>Diastolic blood pressure (mm Hg)</th>\n",
       "      <th>Triceps skin fold thickness (mm)</th>\n",
       "      <th>2-Hour serum insulin (mu U/ml)</th>\n",
       "      <th>Body mass index</th>\n",
       "      <th>Diabetes pedigree function</th>\n",
       "      <th>Age (years)</th>\n",
       "      <th>Labled_Dataset</th>\n",
       "    </tr>\n",
       "  </thead>\n",
       "  <tbody>\n",
       "    <tr>\n",
       "      <th>0</th>\n",
       "      <td>6.0</td>\n",
       "      <td>148.0</td>\n",
       "      <td>72.0</td>\n",
       "      <td>35.0</td>\n",
       "      <td>0.0</td>\n",
       "      <td>33.6</td>\n",
       "      <td>0.627</td>\n",
       "      <td>50.0</td>\n",
       "      <td>1.0</td>\n",
       "    </tr>\n",
       "    <tr>\n",
       "      <th>1</th>\n",
       "      <td>1.0</td>\n",
       "      <td>85.0</td>\n",
       "      <td>66.0</td>\n",
       "      <td>29.0</td>\n",
       "      <td>0.0</td>\n",
       "      <td>26.6</td>\n",
       "      <td>0.351</td>\n",
       "      <td>31.0</td>\n",
       "      <td>0.0</td>\n",
       "    </tr>\n",
       "    <tr>\n",
       "      <th>2</th>\n",
       "      <td>8.0</td>\n",
       "      <td>183.0</td>\n",
       "      <td>64.0</td>\n",
       "      <td>0.0</td>\n",
       "      <td>0.0</td>\n",
       "      <td>23.3</td>\n",
       "      <td>0.672</td>\n",
       "      <td>32.0</td>\n",
       "      <td>1.0</td>\n",
       "    </tr>\n",
       "    <tr>\n",
       "      <th>3</th>\n",
       "      <td>1.0</td>\n",
       "      <td>89.0</td>\n",
       "      <td>66.0</td>\n",
       "      <td>23.0</td>\n",
       "      <td>94.0</td>\n",
       "      <td>28.1</td>\n",
       "      <td>0.167</td>\n",
       "      <td>21.0</td>\n",
       "      <td>0.0</td>\n",
       "    </tr>\n",
       "    <tr>\n",
       "      <th>4</th>\n",
       "      <td>0.0</td>\n",
       "      <td>137.0</td>\n",
       "      <td>40.0</td>\n",
       "      <td>35.0</td>\n",
       "      <td>168.0</td>\n",
       "      <td>43.1</td>\n",
       "      <td>2.288</td>\n",
       "      <td>33.0</td>\n",
       "      <td>1.0</td>\n",
       "    </tr>\n",
       "  </tbody>\n",
       "</table>\n",
       "</div>"
      ],
      "text/plain": [
       "   Number of times pregnant  ...  Labled_Dataset\n",
       "0                       6.0  ...             1.0\n",
       "1                       1.0  ...             0.0\n",
       "2                       8.0  ...             1.0\n",
       "3                       1.0  ...             0.0\n",
       "4                       0.0  ...             1.0\n",
       "\n",
       "[5 rows x 9 columns]"
      ]
     },
     "execution_count": 6,
     "metadata": {},
     "output_type": "execute_result"
    }
   ],
   "source": [
    "labeled_dataset.head()"
   ]
  },
  {
   "cell_type": "code",
   "execution_count": null,
   "metadata": {
    "colab": {
     "base_uri": "https://localhost:8080/"
    },
    "executionInfo": {
     "elapsed": 497,
     "status": "ok",
     "timestamp": 1638331433223,
     "user": {
      "displayName": "Rishav Das",
      "photoUrl": "https://lh3.googleusercontent.com/a-/AOh14GhkdaCMvA2ffaGPZMfcs0EkFFXTsKiwTyLisksJPto=s64",
      "userId": "09499082006741547774"
     },
     "user_tz": -330
    },
    "id": "r_i9eikj4zHC",
    "outputId": "35b2c4c8-9a07-42c7-812d-238cd0288a59"
   },
   "outputs": [
    {
     "data": {
      "text/plain": [
       "(768, 9)"
      ]
     },
     "execution_count": 7,
     "metadata": {},
     "output_type": "execute_result"
    }
   ],
   "source": [
    "labeled_dataset.shape"
   ]
  },
  {
   "cell_type": "code",
   "execution_count": null,
   "metadata": {
    "colab": {
     "base_uri": "https://localhost:8080/"
    },
    "executionInfo": {
     "elapsed": 770,
     "status": "ok",
     "timestamp": 1638331435495,
     "user": {
      "displayName": "Rishav Das",
      "photoUrl": "https://lh3.googleusercontent.com/a-/AOh14GhkdaCMvA2ffaGPZMfcs0EkFFXTsKiwTyLisksJPto=s64",
      "userId": "09499082006741547774"
     },
     "user_tz": -330
    },
    "id": "2APUYNfA4zJt",
    "outputId": "806b3c13-4f60-4d0e-a4e5-f412acf996e8"
   },
   "outputs": [
    {
     "data": {
      "text/plain": [
       "Number of times pregnant                                                    0\n",
       "Plasma glucose concentration a 2 hours in an oral glucose tolerance test    0\n",
       "Diastolic blood pressure (mm Hg)                                            0\n",
       "Triceps skin fold thickness (mm)                                            0\n",
       "2-Hour serum insulin (mu U/ml)                                              0\n",
       "Body mass index                                                             0\n",
       "Diabetes pedigree function                                                  0\n",
       "Age (years)                                                                 0\n",
       "Labled_Dataset                                                              0\n",
       "dtype: int64"
      ]
     },
     "execution_count": 8,
     "metadata": {},
     "output_type": "execute_result"
    }
   ],
   "source": [
    "labeled_dataset.isnull().sum()"
   ]
  },
  {
   "cell_type": "code",
   "execution_count": null,
   "metadata": {
    "colab": {
     "base_uri": "https://localhost:8080/",
     "height": 352
    },
    "executionInfo": {
     "elapsed": 9,
     "status": "ok",
     "timestamp": 1638331436962,
     "user": {
      "displayName": "Rishav Das",
      "photoUrl": "https://lh3.googleusercontent.com/a-/AOh14GhkdaCMvA2ffaGPZMfcs0EkFFXTsKiwTyLisksJPto=s64",
      "userId": "09499082006741547774"
     },
     "user_tz": -330
    },
    "id": "A7_xXSg27gHv",
    "outputId": "5fc67744-8d83-4231-a92d-f8e482f56a28"
   },
   "outputs": [
    {
     "data": {
      "text/html": [
       "<div>\n",
       "<style scoped>\n",
       "    .dataframe tbody tr th:only-of-type {\n",
       "        vertical-align: middle;\n",
       "    }\n",
       "\n",
       "    .dataframe tbody tr th {\n",
       "        vertical-align: top;\n",
       "    }\n",
       "\n",
       "    .dataframe thead th {\n",
       "        text-align: right;\n",
       "    }\n",
       "</style>\n",
       "<table border=\"1\" class=\"dataframe\">\n",
       "  <thead>\n",
       "    <tr style=\"text-align: right;\">\n",
       "      <th></th>\n",
       "      <th>Number of times pregnant</th>\n",
       "      <th>Plasma glucose concentration a 2 hours in an oral glucose tolerance test</th>\n",
       "      <th>Diastolic blood pressure (mm Hg)</th>\n",
       "      <th>Triceps skin fold thickness (mm)</th>\n",
       "      <th>2-Hour serum insulin (mu U/ml)</th>\n",
       "      <th>Body mass index</th>\n",
       "      <th>Diabetes pedigree function</th>\n",
       "      <th>Age (years)</th>\n",
       "      <th>Labled_Dataset</th>\n",
       "    </tr>\n",
       "  </thead>\n",
       "  <tbody>\n",
       "    <tr>\n",
       "      <th>count</th>\n",
       "      <td>768.000000</td>\n",
       "      <td>768.000000</td>\n",
       "      <td>768.000000</td>\n",
       "      <td>768.000000</td>\n",
       "      <td>768.000000</td>\n",
       "      <td>768.000000</td>\n",
       "      <td>768.000000</td>\n",
       "      <td>768.000000</td>\n",
       "      <td>768.000000</td>\n",
       "    </tr>\n",
       "    <tr>\n",
       "      <th>mean</th>\n",
       "      <td>3.845052</td>\n",
       "      <td>120.894531</td>\n",
       "      <td>69.105469</td>\n",
       "      <td>20.536458</td>\n",
       "      <td>79.799479</td>\n",
       "      <td>31.992578</td>\n",
       "      <td>0.471876</td>\n",
       "      <td>33.240885</td>\n",
       "      <td>0.348958</td>\n",
       "    </tr>\n",
       "    <tr>\n",
       "      <th>std</th>\n",
       "      <td>3.369578</td>\n",
       "      <td>31.972618</td>\n",
       "      <td>19.355807</td>\n",
       "      <td>15.952218</td>\n",
       "      <td>115.244002</td>\n",
       "      <td>7.884160</td>\n",
       "      <td>0.331329</td>\n",
       "      <td>11.760232</td>\n",
       "      <td>0.476951</td>\n",
       "    </tr>\n",
       "    <tr>\n",
       "      <th>min</th>\n",
       "      <td>0.000000</td>\n",
       "      <td>0.000000</td>\n",
       "      <td>0.000000</td>\n",
       "      <td>0.000000</td>\n",
       "      <td>0.000000</td>\n",
       "      <td>0.000000</td>\n",
       "      <td>0.078000</td>\n",
       "      <td>21.000000</td>\n",
       "      <td>0.000000</td>\n",
       "    </tr>\n",
       "    <tr>\n",
       "      <th>25%</th>\n",
       "      <td>1.000000</td>\n",
       "      <td>99.000000</td>\n",
       "      <td>62.000000</td>\n",
       "      <td>0.000000</td>\n",
       "      <td>0.000000</td>\n",
       "      <td>27.300000</td>\n",
       "      <td>0.243750</td>\n",
       "      <td>24.000000</td>\n",
       "      <td>0.000000</td>\n",
       "    </tr>\n",
       "    <tr>\n",
       "      <th>50%</th>\n",
       "      <td>3.000000</td>\n",
       "      <td>117.000000</td>\n",
       "      <td>72.000000</td>\n",
       "      <td>23.000000</td>\n",
       "      <td>30.500000</td>\n",
       "      <td>32.000000</td>\n",
       "      <td>0.372500</td>\n",
       "      <td>29.000000</td>\n",
       "      <td>0.000000</td>\n",
       "    </tr>\n",
       "    <tr>\n",
       "      <th>75%</th>\n",
       "      <td>6.000000</td>\n",
       "      <td>140.250000</td>\n",
       "      <td>80.000000</td>\n",
       "      <td>32.000000</td>\n",
       "      <td>127.250000</td>\n",
       "      <td>36.600000</td>\n",
       "      <td>0.626250</td>\n",
       "      <td>41.000000</td>\n",
       "      <td>1.000000</td>\n",
       "    </tr>\n",
       "    <tr>\n",
       "      <th>max</th>\n",
       "      <td>17.000000</td>\n",
       "      <td>199.000000</td>\n",
       "      <td>122.000000</td>\n",
       "      <td>99.000000</td>\n",
       "      <td>846.000000</td>\n",
       "      <td>67.100000</td>\n",
       "      <td>2.420000</td>\n",
       "      <td>81.000000</td>\n",
       "      <td>1.000000</td>\n",
       "    </tr>\n",
       "  </tbody>\n",
       "</table>\n",
       "</div>"
      ],
      "text/plain": [
       "       Number of times pregnant  ...  Labled_Dataset\n",
       "count                768.000000  ...      768.000000\n",
       "mean                   3.845052  ...        0.348958\n",
       "std                    3.369578  ...        0.476951\n",
       "min                    0.000000  ...        0.000000\n",
       "25%                    1.000000  ...        0.000000\n",
       "50%                    3.000000  ...        0.000000\n",
       "75%                    6.000000  ...        1.000000\n",
       "max                   17.000000  ...        1.000000\n",
       "\n",
       "[8 rows x 9 columns]"
      ]
     },
     "execution_count": 9,
     "metadata": {},
     "output_type": "execute_result"
    }
   ],
   "source": [
    "labeled_dataset.describe()"
   ]
  },
  {
   "cell_type": "code",
   "execution_count": null,
   "metadata": {
    "id": "OKTdySyw7gK3"
   },
   "outputs": [],
   "source": [
    "x = dataset[:, 0:8]\n",
    "y = dataset[:, 8]"
   ]
  },
  {
   "cell_type": "code",
   "execution_count": null,
   "metadata": {
    "colab": {
     "base_uri": "https://localhost:8080/"
    },
    "executionInfo": {
     "elapsed": 7,
     "status": "ok",
     "timestamp": 1638331440870,
     "user": {
      "displayName": "Rishav Das",
      "photoUrl": "https://lh3.googleusercontent.com/a-/AOh14GhkdaCMvA2ffaGPZMfcs0EkFFXTsKiwTyLisksJPto=s64",
      "userId": "09499082006741547774"
     },
     "user_tz": -330
    },
    "id": "GPigFb1k7gON",
    "outputId": "102ebe00-78e8-4f1b-8297-2cbae3cbef16"
   },
   "outputs": [
    {
     "name": "stdout",
     "output_type": "stream",
     "text": [
      "[[6.000e+00 1.480e+02 7.200e+01 3.500e+01 0.000e+00 3.360e+01 6.270e-01\n",
      "  5.000e+01]\n",
      " [1.000e+00 8.500e+01 6.600e+01 2.900e+01 0.000e+00 2.660e+01 3.510e-01\n",
      "  3.100e+01]\n",
      " [8.000e+00 1.830e+02 6.400e+01 0.000e+00 0.000e+00 2.330e+01 6.720e-01\n",
      "  3.200e+01]\n",
      " [1.000e+00 8.900e+01 6.600e+01 2.300e+01 9.400e+01 2.810e+01 1.670e-01\n",
      "  2.100e+01]\n",
      " [0.000e+00 1.370e+02 4.000e+01 3.500e+01 1.680e+02 4.310e+01 2.288e+00\n",
      "  3.300e+01]\n",
      " [5.000e+00 1.160e+02 7.400e+01 0.000e+00 0.000e+00 2.560e+01 2.010e-01\n",
      "  3.000e+01]\n",
      " [3.000e+00 7.800e+01 5.000e+01 3.200e+01 8.800e+01 3.100e+01 2.480e-01\n",
      "  2.600e+01]\n",
      " [1.000e+01 1.150e+02 0.000e+00 0.000e+00 0.000e+00 3.530e+01 1.340e-01\n",
      "  2.900e+01]]\n"
     ]
    }
   ],
   "source": [
    "print(x[0:8])"
   ]
  },
  {
   "cell_type": "code",
   "execution_count": null,
   "metadata": {
    "colab": {
     "base_uri": "https://localhost:8080/"
    },
    "executionInfo": {
     "elapsed": 485,
     "status": "ok",
     "timestamp": 1638331443536,
     "user": {
      "displayName": "Rishav Das",
      "photoUrl": "https://lh3.googleusercontent.com/a-/AOh14GhkdaCMvA2ffaGPZMfcs0EkFFXTsKiwTyLisksJPto=s64",
      "userId": "09499082006741547774"
     },
     "user_tz": -330
    },
    "id": "GeFcdkyw7gQx",
    "outputId": "c6206943-50a6-420d-8123-cefd58f6259a"
   },
   "outputs": [
    {
     "name": "stdout",
     "output_type": "stream",
     "text": [
      "[1. 0. 1. 0. 1. 0. 1. 0.]\n"
     ]
    }
   ],
   "source": [
    "print(y[0:8])"
   ]
  },
  {
   "cell_type": "code",
   "execution_count": null,
   "metadata": {
    "colab": {
     "base_uri": "https://localhost:8080/"
    },
    "executionInfo": {
     "elapsed": 9,
     "status": "ok",
     "timestamp": 1638331445342,
     "user": {
      "displayName": "Rishav Das",
      "photoUrl": "https://lh3.googleusercontent.com/a-/AOh14GhkdaCMvA2ffaGPZMfcs0EkFFXTsKiwTyLisksJPto=s64",
      "userId": "09499082006741547774"
     },
     "user_tz": -330
    },
    "id": "RXhBNfCU7gUI",
    "outputId": "b0148af5-4c5e-4a95-a916-2049cbfc8a19"
   },
   "outputs": [
    {
     "data": {
      "text/plain": [
       "0.0    500\n",
       "1.0    268\n",
       "Name: Labled_Dataset, dtype: int64"
      ]
     },
     "execution_count": 13,
     "metadata": {},
     "output_type": "execute_result"
    }
   ],
   "source": [
    "labeled_dataset.Labled_Dataset.value_counts()"
   ]
  },
  {
   "cell_type": "code",
   "execution_count": null,
   "metadata": {
    "id": "XLAma0sA7gWo"
   },
   "outputs": [],
   "source": [
    "model = Sequential()\n",
    "model.add(Dense(24, input_dim=8, activation=tf.keras.layers.LeakyReLU(alpha=0.1)))\n",
    "model.add(Dense(12, activation=tf.keras.layers.LeakyReLU(alpha=0.3)))\n",
    "model.add(Dense(6, activation='LeakyReLU'))\n",
    "model.add(Dense(1, activation='sigmoid'))\n"
   ]
  },
  {
   "cell_type": "code",
   "execution_count": null,
   "metadata": {
    "colab": {
     "base_uri": "https://localhost:8080/"
    },
    "executionInfo": {
     "elapsed": 491,
     "status": "ok",
     "timestamp": 1638331858512,
     "user": {
      "displayName": "Rishav Das",
      "photoUrl": "https://lh3.googleusercontent.com/a-/AOh14GhkdaCMvA2ffaGPZMfcs0EkFFXTsKiwTyLisksJPto=s64",
      "userId": "09499082006741547774"
     },
     "user_tz": -330
    },
    "id": "ibCeaQev7gaS",
    "outputId": "b4e41b8d-c139-417b-b650-52d3572d5511"
   },
   "outputs": [
    {
     "name": "stdout",
     "output_type": "stream",
     "text": [
      "Model: \"sequential_1\"\n",
      "_________________________________________________________________\n",
      " Layer (type)                Output Shape              Param #   \n",
      "=================================================================\n",
      " dense_4 (Dense)             (None, 24)                216       \n",
      "                                                                 \n",
      " dense_5 (Dense)             (None, 12)                300       \n",
      "                                                                 \n",
      " dense_6 (Dense)             (None, 6)                 78        \n",
      "                                                                 \n",
      " dense_7 (Dense)             (None, 1)                 7         \n",
      "                                                                 \n",
      "=================================================================\n",
      "Total params: 601\n",
      "Trainable params: 601\n",
      "Non-trainable params: 0\n",
      "_________________________________________________________________\n",
      "None\n"
     ]
    }
   ],
   "source": [
    "print(model.summary())"
   ]
  },
  {
   "cell_type": "code",
   "execution_count": null,
   "metadata": {
    "colab": {
     "base_uri": "https://localhost:8080/"
    },
    "executionInfo": {
     "elapsed": 6116,
     "status": "ok",
     "timestamp": 1638331866669,
     "user": {
      "displayName": "Rishav Das",
      "photoUrl": "https://lh3.googleusercontent.com/a-/AOh14GhkdaCMvA2ffaGPZMfcs0EkFFXTsKiwTyLisksJPto=s64",
      "userId": "09499082006741547774"
     },
     "user_tz": -330
    },
    "id": "qr3sR8Hv-96f",
    "outputId": "580beaa1-69b8-4d96-acd6-69d600430dfe"
   },
   "outputs": [
    {
     "name": "stdout",
     "output_type": "stream",
     "text": [
      "Epoch 1/150\n",
      "8/8 [==============================] - 1s 3ms/step - loss: 15.5578 - accuracy: 0.3503\n",
      "Epoch 2/150\n",
      "8/8 [==============================] - 0s 2ms/step - loss: 3.5568 - accuracy: 0.5495\n",
      "Epoch 3/150\n",
      "8/8 [==============================] - 0s 3ms/step - loss: 4.0237 - accuracy: 0.6602\n",
      "Epoch 4/150\n",
      "8/8 [==============================] - 0s 2ms/step - loss: 2.6389 - accuracy: 0.6419\n",
      "Epoch 5/150\n",
      "8/8 [==============================] - 0s 2ms/step - loss: 1.8060 - accuracy: 0.5846\n",
      "Epoch 6/150\n",
      "8/8 [==============================] - 0s 3ms/step - loss: 1.4900 - accuracy: 0.6107\n",
      "Epoch 7/150\n",
      "8/8 [==============================] - 0s 3ms/step - loss: 1.3981 - accuracy: 0.6341\n",
      "Epoch 8/150\n",
      "8/8 [==============================] - 0s 2ms/step - loss: 1.2505 - accuracy: 0.5911\n",
      "Epoch 9/150\n",
      "8/8 [==============================] - 0s 2ms/step - loss: 1.1798 - accuracy: 0.5964\n",
      "Epoch 10/150\n",
      "8/8 [==============================] - 0s 4ms/step - loss: 1.1417 - accuracy: 0.6224\n",
      "Epoch 11/150\n",
      "8/8 [==============================] - 0s 2ms/step - loss: 1.0774 - accuracy: 0.5977\n",
      "Epoch 12/150\n",
      "8/8 [==============================] - 0s 3ms/step - loss: 1.0276 - accuracy: 0.6068\n",
      "Epoch 13/150\n",
      "8/8 [==============================] - 0s 3ms/step - loss: 0.9844 - accuracy: 0.6068\n",
      "Epoch 14/150\n",
      "8/8 [==============================] - 0s 2ms/step - loss: 0.9515 - accuracy: 0.5990\n",
      "Epoch 15/150\n",
      "8/8 [==============================] - 0s 3ms/step - loss: 0.9135 - accuracy: 0.6120\n",
      "Epoch 16/150\n",
      "8/8 [==============================] - 0s 3ms/step - loss: 0.8897 - accuracy: 0.6224\n",
      "Epoch 17/150\n",
      "8/8 [==============================] - 0s 3ms/step - loss: 0.8596 - accuracy: 0.6042\n",
      "Epoch 18/150\n",
      "8/8 [==============================] - 0s 3ms/step - loss: 0.8486 - accuracy: 0.6094\n",
      "Epoch 19/150\n",
      "8/8 [==============================] - 0s 3ms/step - loss: 0.8213 - accuracy: 0.6354\n",
      "Epoch 20/150\n",
      "8/8 [==============================] - 0s 2ms/step - loss: 0.7915 - accuracy: 0.6198\n",
      "Epoch 21/150\n",
      "8/8 [==============================] - 0s 3ms/step - loss: 0.7833 - accuracy: 0.6354\n",
      "Epoch 22/150\n",
      "8/8 [==============================] - 0s 3ms/step - loss: 0.7707 - accuracy: 0.6471\n",
      "Epoch 23/150\n",
      "8/8 [==============================] - 0s 2ms/step - loss: 0.7511 - accuracy: 0.6263\n",
      "Epoch 24/150\n",
      "8/8 [==============================] - 0s 2ms/step - loss: 0.7425 - accuracy: 0.6589\n",
      "Epoch 25/150\n",
      "8/8 [==============================] - 0s 3ms/step - loss: 0.7240 - accuracy: 0.6419\n",
      "Epoch 26/150\n",
      "8/8 [==============================] - 0s 2ms/step - loss: 0.7063 - accuracy: 0.6615\n",
      "Epoch 27/150\n",
      "8/8 [==============================] - 0s 3ms/step - loss: 0.7012 - accuracy: 0.6641\n",
      "Epoch 28/150\n",
      "8/8 [==============================] - 0s 2ms/step - loss: 0.6934 - accuracy: 0.6667\n",
      "Epoch 29/150\n",
      "8/8 [==============================] - 0s 2ms/step - loss: 0.6836 - accuracy: 0.6680\n",
      "Epoch 30/150\n",
      "8/8 [==============================] - 0s 2ms/step - loss: 0.6784 - accuracy: 0.6771\n",
      "Epoch 31/150\n",
      "8/8 [==============================] - 0s 3ms/step - loss: 0.6751 - accuracy: 0.6823\n",
      "Epoch 32/150\n",
      "8/8 [==============================] - 0s 3ms/step - loss: 0.6672 - accuracy: 0.6797\n",
      "Epoch 33/150\n",
      "8/8 [==============================] - 0s 3ms/step - loss: 0.6614 - accuracy: 0.6836\n",
      "Epoch 34/150\n",
      "8/8 [==============================] - 0s 3ms/step - loss: 0.6627 - accuracy: 0.6771\n",
      "Epoch 35/150\n",
      "8/8 [==============================] - 0s 3ms/step - loss: 0.6678 - accuracy: 0.6536\n",
      "Epoch 36/150\n",
      "8/8 [==============================] - 0s 3ms/step - loss: 0.6683 - accuracy: 0.6667\n",
      "Epoch 37/150\n",
      "8/8 [==============================] - 0s 2ms/step - loss: 0.6809 - accuracy: 0.6628\n",
      "Epoch 38/150\n",
      "8/8 [==============================] - 0s 2ms/step - loss: 0.6545 - accuracy: 0.6836\n",
      "Epoch 39/150\n",
      "8/8 [==============================] - 0s 3ms/step - loss: 0.6737 - accuracy: 0.6875\n",
      "Epoch 40/150\n",
      "8/8 [==============================] - 0s 3ms/step - loss: 0.6643 - accuracy: 0.6914\n",
      "Epoch 41/150\n",
      "8/8 [==============================] - 0s 2ms/step - loss: 0.6716 - accuracy: 0.6810\n",
      "Epoch 42/150\n",
      "8/8 [==============================] - 0s 3ms/step - loss: 0.6416 - accuracy: 0.6810\n",
      "Epoch 43/150\n",
      "8/8 [==============================] - 0s 3ms/step - loss: 0.6401 - accuracy: 0.6953\n",
      "Epoch 44/150\n",
      "8/8 [==============================] - 0s 3ms/step - loss: 0.6401 - accuracy: 0.6940\n",
      "Epoch 45/150\n",
      "8/8 [==============================] - 0s 3ms/step - loss: 0.6267 - accuracy: 0.6875\n",
      "Epoch 46/150\n",
      "8/8 [==============================] - 0s 2ms/step - loss: 0.6264 - accuracy: 0.7018\n",
      "Epoch 47/150\n",
      "8/8 [==============================] - 0s 3ms/step - loss: 0.6239 - accuracy: 0.6953\n",
      "Epoch 48/150\n",
      "8/8 [==============================] - 0s 3ms/step - loss: 0.6320 - accuracy: 0.6680\n",
      "Epoch 49/150\n",
      "8/8 [==============================] - 0s 3ms/step - loss: 0.6340 - accuracy: 0.7018\n",
      "Epoch 50/150\n",
      "8/8 [==============================] - 0s 3ms/step - loss: 0.6328 - accuracy: 0.6758\n",
      "Epoch 51/150\n",
      "8/8 [==============================] - 0s 3ms/step - loss: 0.6215 - accuracy: 0.6940\n",
      "Epoch 52/150\n",
      "8/8 [==============================] - 0s 4ms/step - loss: 0.6236 - accuracy: 0.6966\n",
      "Epoch 53/150\n",
      "8/8 [==============================] - 0s 2ms/step - loss: 0.6195 - accuracy: 0.7005\n",
      "Epoch 54/150\n",
      "8/8 [==============================] - 0s 3ms/step - loss: 0.6118 - accuracy: 0.7044\n",
      "Epoch 55/150\n",
      "8/8 [==============================] - 0s 2ms/step - loss: 0.6104 - accuracy: 0.6914\n",
      "Epoch 56/150\n",
      "8/8 [==============================] - 0s 4ms/step - loss: 0.6070 - accuracy: 0.7174\n",
      "Epoch 57/150\n",
      "8/8 [==============================] - 0s 4ms/step - loss: 0.6094 - accuracy: 0.7122\n",
      "Epoch 58/150\n",
      "8/8 [==============================] - 0s 3ms/step - loss: 0.6050 - accuracy: 0.7031\n",
      "Epoch 59/150\n",
      "8/8 [==============================] - 0s 2ms/step - loss: 0.5966 - accuracy: 0.7083\n",
      "Epoch 60/150\n",
      "8/8 [==============================] - 0s 3ms/step - loss: 0.6106 - accuracy: 0.7109\n",
      "Epoch 61/150\n",
      "8/8 [==============================] - 0s 3ms/step - loss: 0.6294 - accuracy: 0.6927\n",
      "Epoch 62/150\n",
      "8/8 [==============================] - 0s 3ms/step - loss: 0.6374 - accuracy: 0.6810\n",
      "Epoch 63/150\n",
      "8/8 [==============================] - 0s 3ms/step - loss: 0.6302 - accuracy: 0.6979\n",
      "Epoch 64/150\n",
      "8/8 [==============================] - 0s 2ms/step - loss: 0.6049 - accuracy: 0.6927\n",
      "Epoch 65/150\n",
      "8/8 [==============================] - 0s 3ms/step - loss: 0.6106 - accuracy: 0.6914\n",
      "Epoch 66/150\n",
      "8/8 [==============================] - 0s 3ms/step - loss: 0.6094 - accuracy: 0.7122\n",
      "Epoch 67/150\n",
      "8/8 [==============================] - 0s 2ms/step - loss: 0.6282 - accuracy: 0.6966\n",
      "Epoch 68/150\n",
      "8/8 [==============================] - 0s 3ms/step - loss: 0.6320 - accuracy: 0.6862\n",
      "Epoch 69/150\n",
      "8/8 [==============================] - 0s 3ms/step - loss: 0.6117 - accuracy: 0.7227\n",
      "Epoch 70/150\n",
      "8/8 [==============================] - 0s 3ms/step - loss: 0.6358 - accuracy: 0.7018\n",
      "Epoch 71/150\n",
      "8/8 [==============================] - 0s 2ms/step - loss: 0.6129 - accuracy: 0.7018\n",
      "Epoch 72/150\n",
      "8/8 [==============================] - 0s 4ms/step - loss: 0.6010 - accuracy: 0.7174\n",
      "Epoch 73/150\n",
      "8/8 [==============================] - 0s 3ms/step - loss: 0.5804 - accuracy: 0.7161\n",
      "Epoch 74/150\n",
      "8/8 [==============================] - 0s 4ms/step - loss: 0.5925 - accuracy: 0.7018\n",
      "Epoch 75/150\n",
      "8/8 [==============================] - 0s 3ms/step - loss: 0.6087 - accuracy: 0.7057\n",
      "Epoch 76/150\n",
      "8/8 [==============================] - 0s 3ms/step - loss: 0.5988 - accuracy: 0.7161\n",
      "Epoch 77/150\n",
      "8/8 [==============================] - 0s 3ms/step - loss: 0.5992 - accuracy: 0.7096\n",
      "Epoch 78/150\n",
      "8/8 [==============================] - 0s 3ms/step - loss: 0.5806 - accuracy: 0.7266\n",
      "Epoch 79/150\n",
      "8/8 [==============================] - 0s 3ms/step - loss: 0.5778 - accuracy: 0.7161\n",
      "Epoch 80/150\n",
      "8/8 [==============================] - 0s 3ms/step - loss: 0.5813 - accuracy: 0.7070\n",
      "Epoch 81/150\n",
      "8/8 [==============================] - 0s 3ms/step - loss: 0.5737 - accuracy: 0.7331\n",
      "Epoch 82/150\n",
      "8/8 [==============================] - 0s 4ms/step - loss: 0.5940 - accuracy: 0.7096\n",
      "Epoch 83/150\n",
      "8/8 [==============================] - 0s 3ms/step - loss: 0.5848 - accuracy: 0.7096\n",
      "Epoch 84/150\n",
      "8/8 [==============================] - 0s 3ms/step - loss: 0.5933 - accuracy: 0.7057\n",
      "Epoch 85/150\n",
      "8/8 [==============================] - 0s 2ms/step - loss: 0.5732 - accuracy: 0.7344\n",
      "Epoch 86/150\n",
      "8/8 [==============================] - 0s 3ms/step - loss: 0.6082 - accuracy: 0.6940\n",
      "Epoch 87/150\n",
      "8/8 [==============================] - 0s 3ms/step - loss: 0.5859 - accuracy: 0.7161\n",
      "Epoch 88/150\n",
      "8/8 [==============================] - 0s 3ms/step - loss: 0.5836 - accuracy: 0.7292\n",
      "Epoch 89/150\n",
      "8/8 [==============================] - 0s 3ms/step - loss: 0.5946 - accuracy: 0.7044\n",
      "Epoch 90/150\n",
      "8/8 [==============================] - 0s 3ms/step - loss: 0.5716 - accuracy: 0.7318\n",
      "Epoch 91/150\n",
      "8/8 [==============================] - 0s 5ms/step - loss: 0.5734 - accuracy: 0.7240\n",
      "Epoch 92/150\n",
      "8/8 [==============================] - 0s 3ms/step - loss: 0.5659 - accuracy: 0.7318\n",
      "Epoch 93/150\n",
      "8/8 [==============================] - 0s 3ms/step - loss: 0.5708 - accuracy: 0.7240\n",
      "Epoch 94/150\n",
      "8/8 [==============================] - 0s 3ms/step - loss: 0.5663 - accuracy: 0.7279\n",
      "Epoch 95/150\n",
      "8/8 [==============================] - 0s 3ms/step - loss: 0.5609 - accuracy: 0.7201\n",
      "Epoch 96/150\n",
      "8/8 [==============================] - 0s 3ms/step - loss: 0.5887 - accuracy: 0.6992\n",
      "Epoch 97/150\n",
      "8/8 [==============================] - 0s 3ms/step - loss: 0.5785 - accuracy: 0.7240\n",
      "Epoch 98/150\n",
      "8/8 [==============================] - 0s 2ms/step - loss: 0.5714 - accuracy: 0.7266\n",
      "Epoch 99/150\n",
      "8/8 [==============================] - 0s 2ms/step - loss: 0.5694 - accuracy: 0.7227\n",
      "Epoch 100/150\n",
      "8/8 [==============================] - 0s 3ms/step - loss: 0.5590 - accuracy: 0.7266\n",
      "Epoch 101/150\n",
      "8/8 [==============================] - 0s 3ms/step - loss: 0.5576 - accuracy: 0.7331\n",
      "Epoch 102/150\n",
      "8/8 [==============================] - 0s 3ms/step - loss: 0.5680 - accuracy: 0.7279\n",
      "Epoch 103/150\n",
      "8/8 [==============================] - 0s 3ms/step - loss: 0.5616 - accuracy: 0.7318\n",
      "Epoch 104/150\n",
      "8/8 [==============================] - 0s 2ms/step - loss: 0.5636 - accuracy: 0.7292\n",
      "Epoch 105/150\n",
      "8/8 [==============================] - 0s 3ms/step - loss: 0.5561 - accuracy: 0.7357\n",
      "Epoch 106/150\n",
      "8/8 [==============================] - 0s 2ms/step - loss: 0.5581 - accuracy: 0.7422\n",
      "Epoch 107/150\n",
      "8/8 [==============================] - 0s 3ms/step - loss: 0.5575 - accuracy: 0.7409\n",
      "Epoch 108/150\n",
      "8/8 [==============================] - 0s 3ms/step - loss: 0.5582 - accuracy: 0.7318\n",
      "Epoch 109/150\n",
      "8/8 [==============================] - 0s 3ms/step - loss: 0.5697 - accuracy: 0.7305\n",
      "Epoch 110/150\n",
      "8/8 [==============================] - 0s 2ms/step - loss: 0.5540 - accuracy: 0.7396\n",
      "Epoch 111/150\n",
      "8/8 [==============================] - 0s 4ms/step - loss: 0.5594 - accuracy: 0.7357\n",
      "Epoch 112/150\n",
      "8/8 [==============================] - 0s 3ms/step - loss: 0.5628 - accuracy: 0.7292\n",
      "Epoch 113/150\n",
      "8/8 [==============================] - 0s 2ms/step - loss: 0.5533 - accuracy: 0.7331\n",
      "Epoch 114/150\n",
      "8/8 [==============================] - 0s 3ms/step - loss: 0.5539 - accuracy: 0.7396\n",
      "Epoch 115/150\n",
      "8/8 [==============================] - 0s 3ms/step - loss: 0.5510 - accuracy: 0.7370\n",
      "Epoch 116/150\n",
      "8/8 [==============================] - 0s 3ms/step - loss: 0.5484 - accuracy: 0.7383\n",
      "Epoch 117/150\n",
      "8/8 [==============================] - 0s 3ms/step - loss: 0.5523 - accuracy: 0.7344\n",
      "Epoch 118/150\n",
      "8/8 [==============================] - 0s 3ms/step - loss: 0.5516 - accuracy: 0.7487\n",
      "Epoch 119/150\n",
      "8/8 [==============================] - 0s 3ms/step - loss: 0.5471 - accuracy: 0.7500\n",
      "Epoch 120/150\n",
      "8/8 [==============================] - 0s 3ms/step - loss: 0.5524 - accuracy: 0.7279\n",
      "Epoch 121/150\n",
      "8/8 [==============================] - 0s 3ms/step - loss: 0.5464 - accuracy: 0.7357\n",
      "Epoch 122/150\n",
      "8/8 [==============================] - 0s 3ms/step - loss: 0.5514 - accuracy: 0.7370\n",
      "Epoch 123/150\n",
      "8/8 [==============================] - 0s 3ms/step - loss: 0.5463 - accuracy: 0.7409\n",
      "Epoch 124/150\n",
      "8/8 [==============================] - 0s 3ms/step - loss: 0.5477 - accuracy: 0.7435\n",
      "Epoch 125/150\n",
      "8/8 [==============================] - 0s 4ms/step - loss: 0.5557 - accuracy: 0.7305\n",
      "Epoch 126/150\n",
      "8/8 [==============================] - 0s 3ms/step - loss: 0.5688 - accuracy: 0.7201\n",
      "Epoch 127/150\n",
      "8/8 [==============================] - 0s 3ms/step - loss: 0.5697 - accuracy: 0.7331\n",
      "Epoch 128/150\n",
      "8/8 [==============================] - 0s 3ms/step - loss: 0.6066 - accuracy: 0.7031\n",
      "Epoch 129/150\n",
      "8/8 [==============================] - 0s 4ms/step - loss: 0.5766 - accuracy: 0.7174\n",
      "Epoch 130/150\n",
      "8/8 [==============================] - 0s 5ms/step - loss: 0.5436 - accuracy: 0.7383\n",
      "Epoch 131/150\n",
      "8/8 [==============================] - 0s 3ms/step - loss: 0.5450 - accuracy: 0.7487\n",
      "Epoch 132/150\n",
      "8/8 [==============================] - 0s 3ms/step - loss: 0.5441 - accuracy: 0.7396\n",
      "Epoch 133/150\n",
      "8/8 [==============================] - 0s 3ms/step - loss: 0.5383 - accuracy: 0.7552\n",
      "Epoch 134/150\n",
      "8/8 [==============================] - 0s 3ms/step - loss: 0.5410 - accuracy: 0.7357\n",
      "Epoch 135/150\n",
      "8/8 [==============================] - 0s 3ms/step - loss: 0.5471 - accuracy: 0.7396\n",
      "Epoch 136/150\n",
      "8/8 [==============================] - 0s 3ms/step - loss: 0.5433 - accuracy: 0.7383\n",
      "Epoch 137/150\n",
      "8/8 [==============================] - 0s 3ms/step - loss: 0.5360 - accuracy: 0.7396\n",
      "Epoch 138/150\n",
      "8/8 [==============================] - 0s 3ms/step - loss: 0.5356 - accuracy: 0.7526\n",
      "Epoch 139/150\n",
      "8/8 [==============================] - 0s 3ms/step - loss: 0.5381 - accuracy: 0.7513\n",
      "Epoch 140/150\n",
      "8/8 [==============================] - 0s 3ms/step - loss: 0.5365 - accuracy: 0.7474\n",
      "Epoch 141/150\n",
      "8/8 [==============================] - 0s 3ms/step - loss: 0.5371 - accuracy: 0.7370\n",
      "Epoch 142/150\n",
      "8/8 [==============================] - 0s 4ms/step - loss: 0.5391 - accuracy: 0.7409\n",
      "Epoch 143/150\n",
      "8/8 [==============================] - 0s 3ms/step - loss: 0.5381 - accuracy: 0.7474\n",
      "Epoch 144/150\n",
      "8/8 [==============================] - 0s 3ms/step - loss: 0.5421 - accuracy: 0.7409\n",
      "Epoch 145/150\n",
      "8/8 [==============================] - 0s 2ms/step - loss: 0.5319 - accuracy: 0.7565\n",
      "Epoch 146/150\n",
      "8/8 [==============================] - 0s 3ms/step - loss: 0.5419 - accuracy: 0.7305\n",
      "Epoch 147/150\n",
      "8/8 [==============================] - 0s 3ms/step - loss: 0.5409 - accuracy: 0.7370\n",
      "Epoch 148/150\n",
      "8/8 [==============================] - 0s 3ms/step - loss: 0.5357 - accuracy: 0.7435\n",
      "Epoch 149/150\n",
      "8/8 [==============================] - 0s 3ms/step - loss: 0.5276 - accuracy: 0.7552\n",
      "Epoch 150/150\n",
      "8/8 [==============================] - 0s 3ms/step - loss: 0.5325 - accuracy: 0.7487\n"
     ]
    },
    {
     "data": {
      "text/plain": [
       "<keras.callbacks.History at 0x7f26b6e24b10>"
      ]
     },
     "execution_count": 20,
     "metadata": {},
     "output_type": "execute_result"
    }
   ],
   "source": [
    "model.compile(loss='binary_crossentropy', optimizer='adam', metrics=['accuracy'])\n",
    "model.fit(x,y, epochs=150, batch_size=100)"
   ]
  },
  {
   "cell_type": "code",
   "execution_count": null,
   "metadata": {
    "colab": {
     "base_uri": "https://localhost:8080/"
    },
    "executionInfo": {
     "elapsed": 452,
     "status": "ok",
     "timestamp": 1638331062544,
     "user": {
      "displayName": "Rishav Das",
      "photoUrl": "https://lh3.googleusercontent.com/a-/AOh14GhkdaCMvA2ffaGPZMfcs0EkFFXTsKiwTyLisksJPto=s64",
      "userId": "09499082006741547774"
     },
     "user_tz": -330
    },
    "id": "FJl7nFfN7gcn",
    "outputId": "e45b6a2e-7289-4c73-903f-037c35551cf2"
   },
   "outputs": [
    {
     "name": "stdout",
     "output_type": "stream",
     "text": [
      "24/24 [==============================] - 0s 2ms/step - loss: 0.5005 - accuracy: 0.7682\n"
     ]
    }
   ],
   "source": [
    "loss_fn, accuracy = model.evaluate(x,y)"
   ]
  },
  {
   "cell_type": "code",
   "execution_count": null,
   "metadata": {
    "id": "fEQEJskR7ge2"
   },
   "outputs": [],
   "source": [
    "predictions = model.predict(x)"
   ]
  },
  {
   "cell_type": "code",
   "execution_count": null,
   "metadata": {
    "colab": {
     "base_uri": "https://localhost:8080/"
    },
    "executionInfo": {
     "elapsed": 466,
     "status": "ok",
     "timestamp": 1638331116669,
     "user": {
      "displayName": "Rishav Das",
      "photoUrl": "https://lh3.googleusercontent.com/a-/AOh14GhkdaCMvA2ffaGPZMfcs0EkFFXTsKiwTyLisksJPto=s64",
      "userId": "09499082006741547774"
     },
     "user_tz": -330
    },
    "id": "nFjiauziJJfP",
    "outputId": "fb05db33-df28-4c07-b70d-a364bd00b59f"
   },
   "outputs": [
    {
     "name": "stdout",
     "output_type": "stream",
     "text": [
      "[[0.7902274 ]\n",
      " [0.20312577]\n",
      " [0.922395  ]\n",
      " [0.18049443]\n",
      " [0.8372565 ]]\n"
     ]
    }
   ],
   "source": [
    "print(predictions[0:5])"
   ]
  },
  {
   "cell_type": "code",
   "execution_count": null,
   "metadata": {
    "id": "zvTU0OhoJJlP"
   },
   "outputs": [],
   "source": [
    "rounded = [round(x[0]) for x in predictions]"
   ]
  },
  {
   "cell_type": "code",
   "execution_count": null,
   "metadata": {
    "colab": {
     "base_uri": "https://localhost:8080/"
    },
    "executionInfo": {
     "elapsed": 486,
     "status": "ok",
     "timestamp": 1638331231260,
     "user": {
      "displayName": "Rishav Das",
      "photoUrl": "https://lh3.googleusercontent.com/a-/AOh14GhkdaCMvA2ffaGPZMfcs0EkFFXTsKiwTyLisksJPto=s64",
      "userId": "09499082006741547774"
     },
     "user_tz": -330
    },
    "id": "uYVuKMa5JJne",
    "outputId": "918be8f7-a6ce-4c31-df51-3e46d599ba5f"
   },
   "outputs": [
    {
     "name": "stdout",
     "output_type": "stream",
     "text": [
      "[1, 0, 1, 0, 1, 0, 0, 1, 1, 0, 0, 1, 1, 1, 1, 0, 0, 1, 1, 0, 1, 0, 1, 1, 1, 1, 1, 0, 0, 0, 1, 1, 0, 0, 1, 1, 1, 1, 0, 1, 1, 1, 0, 1, 1, 1, 1, 0, 1, 0, 0, 0, 0, 1, 1, 0, 1, 0, 1, 0, 0, 1, 0, 1, 1, 0, 0, 0, 0, 0, 0, 1, 1, 0, 0, 0, 0, 0, 1, 0, 1, 0, 0, 0, 0, 0, 1, 0, 1, 0, 0, 0, 0, 0, 0, 1, 0, 0, 0, 1, 1, 1, 0, 0, 0, 0, 0, 1, 0, 0, 1, 1, 0, 0, 1, 1, 1, 1, 0, 0, 0, 1, 0, 0, 0, 1, 0, 0, 0, 0, 1, 1, 1, 0, 0, 0, 0, 0, 0, 0, 0, 0, 0, 1, 1, 0, 0, 0, 0, 0, 1, 0, 1, 0, 1, 1, 0, 0, 0, 1, 0, 0, 0, 0, 0, 1, 1, 1, 1, 0, 0, 0, 1, 0, 0, 1, 0, 0, 1, 1, 0, 0, 0, 0, 1, 1, 1, 0, 0, 0, 0, 1, 1, 1, 1, 1, 0, 0, 0, 1, 0, 1, 0, 0, 1, 0, 1, 1, 0, 1, 0, 1, 1, 0, 1, 1, 1, 1, 0, 1, 0, 1, 0, 1, 0, 0, 0, 1, 1, 0, 1, 0, 0, 1, 0, 1, 1, 1, 1, 0, 0, 0, 1, 1, 0, 1, 1, 0, 1, 0, 1, 0, 0, 0, 1, 1, 0, 0, 1, 1, 1, 1, 0, 1, 1, 0, 1, 1, 0, 1, 1, 0, 0, 0, 0, 0, 1, 0, 0, 0, 1, 1, 0, 1, 0, 1, 1, 0, 0, 0, 0, 0, 1, 1, 0, 1, 1, 0, 1, 0, 1, 1, 0, 0, 1, 0, 1, 0, 0, 0, 0, 0, 0, 0, 1, 0, 0, 1, 0, 1, 0, 0, 0, 0, 0, 0, 1, 1, 0, 0, 1, 0, 1, 0, 0, 1, 0, 1, 1, 1, 0, 0, 0, 0, 0, 0, 1, 1, 0, 1, 0, 1, 0, 0, 0, 1, 1, 1, 0, 1, 1, 1, 0, 0, 0, 0, 1, 0, 0, 0, 1, 0, 0, 0, 1, 1, 0, 0, 1, 0, 0, 0, 0, 0, 0, 0, 0, 0, 0, 0, 0, 1, 0, 0, 1, 0, 1, 1, 0, 1, 0, 0, 0, 0, 1, 1, 0, 0, 1, 1, 0, 0, 0, 0, 0, 1, 0, 1, 0, 1, 0, 0, 0, 0, 1, 1, 0, 1, 0, 0, 1, 0, 0, 1, 0, 1, 1, 1, 0, 0, 1, 0, 0, 1, 1, 1, 0, 0, 0, 0, 0, 1, 0, 0, 0, 1, 0, 0, 1, 0, 0, 0, 0, 0, 0, 0, 0, 0, 0, 0, 0, 1, 0, 1, 1, 0, 1, 0, 0, 0, 1, 0, 0, 0, 1, 1, 0, 1, 0, 1, 0, 0, 0, 1, 0, 1, 0, 0, 1, 1, 0, 0, 1, 0, 0, 0, 0, 0, 0, 0, 1, 0, 0, 0, 0, 1, 1, 1, 0, 1, 0, 0, 0, 1, 1, 0, 0, 0, 0, 0, 0, 0, 0, 0, 0, 1, 0, 0, 0, 0, 1, 0, 1, 0, 0, 1, 1, 0, 0, 1, 0, 0, 0, 0, 0, 1, 0, 0, 1, 0, 1, 1, 0, 0, 0, 0, 0, 0, 1, 0, 0, 0, 0, 0, 0, 0, 1, 0, 1, 1, 1, 0, 1, 1, 1, 0, 1, 0, 1, 0, 1, 0, 1, 0, 1, 0, 0, 1, 1, 1, 0, 0, 0, 1, 1, 1, 1, 0, 0, 0, 0, 1, 1, 0, 1, 0, 0, 0, 1, 1, 0, 0, 1, 0, 0, 0, 0, 0, 1, 0, 1, 0, 0, 0, 1, 1, 0, 0, 0, 0, 0, 1, 1, 0, 1, 1, 1, 1, 1, 0, 0, 0, 0, 1, 0, 0, 0, 1, 0, 0, 1, 1, 1, 1, 1, 0, 1, 1, 0, 1, 1, 0, 0, 0, 0, 1, 1, 0, 1, 0, 0, 1, 0, 1, 0, 0, 1, 1, 0, 1, 0, 1, 0, 1, 0, 1, 1, 1, 0, 1, 0, 1, 1, 0, 0, 0, 0, 0, 1, 0, 0, 0, 1, 0, 0, 1, 1, 1, 1, 1, 0, 0, 1, 0, 0, 0, 0, 0, 1, 0, 0, 0, 0, 0, 0, 0, 0, 0, 0, 0, 1, 1, 0, 1, 1, 0, 1, 0, 1, 1, 1, 0, 0, 1, 1, 0, 1, 1, 0, 1, 0, 1, 0, 1, 0, 0, 1, 0]\n"
     ]
    }
   ],
   "source": [
    "print(rounded)"
   ]
  },
  {
   "cell_type": "code",
   "execution_count": null,
   "metadata": {
    "id": "b2uU4VxIJJrc"
   },
   "outputs": [],
   "source": []
  },
  {
   "cell_type": "code",
   "execution_count": null,
   "metadata": {
    "id": "qiFkwGgIJJt7"
   },
   "outputs": [],
   "source": []
  }
 ],
 "metadata": {
  "colab": {
   "authorship_tag": "ABX9TyO4BEh1yn+jdDveWxF2LTb3",
   "collapsed_sections": [],
   "mount_file_id": "11yS3i5VrocACU9f00lu30mhtWqBJ79_L",
   "name": "Untitled37.ipynb",
   "provenance": []
  },
  "kernelspec": {
   "display_name": "Python 3",
   "language": "python",
   "name": "python3"
  },
  "language_info": {
   "codemirror_mode": {
    "name": "ipython",
    "version": 3
   },
   "file_extension": ".py",
   "mimetype": "text/x-python",
   "name": "python",
   "nbconvert_exporter": "python",
   "pygments_lexer": "ipython3",
   "version": "3.8.8"
  }
 },
 "nbformat": 4,
 "nbformat_minor": 1
}
